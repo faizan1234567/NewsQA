{
  "cells": [
    {
      "cell_type": "markdown",
      "metadata": {
        "id": "OKXTAd6B6HfS"
      },
      "source": [
        "**Objective: Generate Question Answer Dataset**\n",
        "\n",
        "Task:\n",
        "\n",
        "\n",
        "1. Pre-process the dataset crawled from web in assignment 1.\n",
        "2. Pre processing should only remove special characters, urls etc if not already done. DO NOT do **stemming**, **lemmatization** **stop word remove**. Text should remain in natural language after pre processing.\n",
        "5.  python, write code that reads one paragraph each from the crawled dataset.\n",
        "6. Pass this dataset to a function which generates multiple (3 – 5) Question Answer pairs from this paragraph using LLM.\n",
        "7. If your data already has question answers as well, using the answer text, generate more questions.\n",
        "8. Save all the question answer pairs generated from all the paragraphs in a csv file with Questions in Column A and Answers in Column B."
      ]
    },
    {
      "cell_type": "markdown",
      "metadata": {
        "id": "T9REiQGv3Bau"
      },
      "source": [
        "**Notebook Author**: Faizan Khan\n",
        "\n",
        "MS Robotics and AI at school of Mechanical & Manufacturing Engineering, NUST, Islamabad.\n",
        "\n",
        "**Subject**: Generative AI & Applications\n"
      ]
    },
    {
      "cell_type": "code",
      "execution_count": 54,
      "metadata": {
        "colab": {
          "base_uri": "https://localhost:8080/"
        },
        "id": "mqse2QQV6Ei3",
        "outputId": "61314f45-a3ed-4406-e70c-10e9b7a5ee88"
      },
      "outputs": [
        {
          "output_type": "stream",
          "name": "stdout",
          "text": [
            "Drive already mounted at /gdrive; to attempt to forcibly remount, call drive.mount(\"/gdrive\", force_remount=True).\n"
          ]
        }
      ],
      "source": [
        "# mounting with G drive\n",
        "'''\n",
        "first let's mount the notebook to google drive to access data from drive\n",
        "The purpose of using google drive is to save the progress and access file which may lost\n",
        "when colab notebook crashes\n",
        "'''\n",
        "from google.colab import drive\n",
        "drive.mount('/gdrive')"
      ]
    },
    {
      "cell_type": "markdown",
      "metadata": {
        "id": "mzTNjYW9Txza"
      },
      "source": [
        "create directory if google drive if it does not exists:\n",
        "\n",
        "```python\n",
        "gdrive\n",
        "└── MyDrive\n",
        "    ├── Colab Notebooks\n",
        "    └── genAI_assignment2\n",
        "        ├── dawn_pakistan.json\n",
        "        ├── processed_file.json\n",
        "        └── ...\n",
        "```"
      ]
    },
    {
      "cell_type": "markdown",
      "metadata": {
        "id": "TyN055LN6qjf"
      },
      "source": [
        "the cell below will navigate to MyDrive directory and\n",
        "create a directory for assignment2, if the directory already exists, It will print the message."
      ]
    },
    {
      "cell_type": "markdown",
      "source": [
        "installatinon"
      ],
      "metadata": {
        "id": "j5fgpIBAlf0n"
      }
    },
    {
      "cell_type": "code",
      "execution_count": 55,
      "metadata": {
        "colab": {
          "base_uri": "https://localhost:8080/"
        },
        "id": "F8llHrMl7ByL",
        "outputId": "05f8a755-390b-4e7a-98b7-382a9704be0c"
      },
      "outputs": [
        {
          "output_type": "stream",
          "name": "stdout",
          "text": [
            "The directory already exists!!!\n"
          ]
        }
      ],
      "source": [
        "# navigate to MyDrive directory and create a directory \"GenAI_assignment2\"\n",
        "import os\n",
        "\n",
        "my_drive_path = \"/gdrive/MyDrive\"\n",
        "\n",
        "if os.path.exists(my_drive_path):\n",
        "  # navigate to my drive\n",
        "  os.chdir(my_drive_path)\n",
        "  destination_dir = os.path.join(my_drive_path, \"genAI_assignment2\")\n",
        "  if not os.path.exists(destination_dir): # if it does not exists then create\n",
        "    os.makedirs(destination_dir)\n",
        "  else:\n",
        "    print(\"The directory already exists!!!\")"
      ]
    },
    {
      "cell_type": "code",
      "execution_count": 56,
      "metadata": {
        "id": "L-qX8RyG8ki7"
      },
      "outputs": [],
      "source": [
        "# uploading the dataset file scraped in the assignment1 to the created dir\n",
        "# navigate to the genAI_assignment2 dir\n",
        "os.chdir(destination_dir)"
      ]
    },
    {
      "cell_type": "code",
      "execution_count": 57,
      "metadata": {
        "colab": {
          "base_uri": "https://localhost:8080/",
          "height": 35
        },
        "id": "ntcolpaN9XHD",
        "outputId": "97bcedab-cd8e-43f4-8cd9-05aceeb0dde0"
      },
      "outputs": [
        {
          "output_type": "execute_result",
          "data": {
            "text/plain": [
              "'/gdrive/MyDrive/genAI_assignment2'"
            ],
            "application/vnd.google.colaboratory.intrinsic+json": {
              "type": "string"
            }
          },
          "metadata": {},
          "execution_count": 57
        }
      ],
      "source": [
        "# checking the directory contents and printing the current working directory using linux commands\n",
        "%pwd"
      ]
    },
    {
      "cell_type": "code",
      "execution_count": 58,
      "metadata": {
        "colab": {
          "base_uri": "https://localhost:8080/"
        },
        "id": "1It7Apwv9jUN",
        "outputId": "861b6ed6-6dbe-4f9f-f881-ddd4bb470738"
      },
      "outputs": [
        {
          "output_type": "stream",
          "name": "stdout",
          "text": [
            "cleaned_file.csv    dawn_pakistan_processed.json      \u001b[0m\u001b[01;34mflagged\u001b[0m/                qa_pairs_new.csv\n",
            "dawn_pakistan.json  dawn_pakistan_processed_t5_small  qag_end2end_logger.log\n"
          ]
        }
      ],
      "source": [
        "%ls"
      ]
    },
    {
      "cell_type": "markdown",
      "metadata": {
        "id": "E46EgSwN65Q3"
      },
      "source": [
        "remove some extra files and folders if exists"
      ]
    },
    {
      "cell_type": "code",
      "execution_count": 59,
      "metadata": {
        "id": "Cr-4e7sNmkF4"
      },
      "outputs": [],
      "source": [
        "# removing some extra stuff from the directory if exists\n",
        "# file removal code\n",
        "#---------------------------------------------------------\n",
        "\n",
        "\n",
        "# %rm -rf t5_ans_gen_model/\n",
        "# %rm -rf t5_que_gen_model/\n",
        "# %rm -rf t5_que_gen.zip\n",
        "%rm -rf flagged\n",
        "# %rm -rf dawn_pakistan_processed_recent.json\n",
        "# %rm -rf dawn_pakistan_processed.json\n"
      ]
    },
    {
      "cell_type": "code",
      "execution_count": 60,
      "metadata": {
        "colab": {
          "base_uri": "https://localhost:8080/"
        },
        "id": "J1Oolw6Sb4U5",
        "outputId": "ba80aaef-2a61-4529-df89-cdbfd0b18c55"
      },
      "outputs": [
        {
          "output_type": "stream",
          "name": "stdout",
          "text": [
            "cleaned_file.csv    dawn_pakistan_processed.json      qag_end2end_logger.log\n",
            "dawn_pakistan.json  dawn_pakistan_processed_t5_small  qa_pairs_new.csv\n"
          ]
        }
      ],
      "source": [
        "%ls"
      ]
    },
    {
      "cell_type": "markdown",
      "metadata": {
        "id": "zPznMV-d9fsC"
      },
      "source": [
        "now upload your dataset files to the directory."
      ]
    },
    {
      "cell_type": "code",
      "execution_count": 61,
      "metadata": {
        "colab": {
          "base_uri": "https://localhost:8080/"
        },
        "id": "OxAWW8Xc9fAa",
        "outputId": "beb6d735-dc1b-4b9b-cf05-56ab8034250a"
      },
      "outputs": [
        {
          "output_type": "stream",
          "name": "stdout",
          "text": [
            "[{'title': '2 officers among 7 soldiers martyred in terrorist attack on post in North Waziristan: ISPR', 'url': 'https://www.dawn.com/news/1821887/2-officers-among-7-soldiers-martyred-in-terrorist-attack-on-post-in-north-waziristan-ispr', 'text': 'Seven soldiers — including two officers — were martyred in a terrorist attack on a security forces’ post in the Mir Ali area of North Waziristan district, the Inter-Services Public Relations (ISPR) said on Saturday.Six terrorists were also neutralised in the subsequent clearance operation.According to the military’s media affairs wing, in the early hours of March 16, 2024, a group of six terrorists attacked a security forces’ post in the general area of Mir Ali of North Waziristan District.“As own troops foiled the initial attempt of intrusion, the terrorists rammed an explosives-laden vehicle into the post, followed by multiple suicide bombing attacks, which led to the collapse of a portion of a building, resulting into  (martyrdom) of five brave sons of the soil,” ISPR added.The martyrs of the initial attack include Havildar Sabir, a resident of District Khyber, Naik Khurshid  (resident of District Lakki Marwat), Sepoy Nasir (resident of District Peshawar), Sepoy Raja (resident of District Kohat) and Sepoy Sajjad (resident of District Abbottabad).“During the conduct of the ensuing clearance operation, own troops led by Lieutenant Colonel Kashif, effectively engaged and killed all six terrorists,” ISPR said.“However, during the intense exchange of fire, leading his troops from the front, Lieutenant Colonel Syed Kashif Ali (age: 39 years, resident of Karachi) and Captain Muhammad Ahmed Badar (age: 23 years, resident of District Talagang), having fought gallantly, paid the ultimate sacrifice and embraced ,” ISPR added.The military’s media wing said a sanitisation operation was being conducted to eliminate any other terrorist present in the area, “as security forces of Pakistan are determined to wipe out the menace of terrorism from the country and such sacrifices of our brave soldiers further strengthen our resolve”.The funeral of the martyrs was later held at Bannu Cantt.“The martyrs will be buried in their native areas with full military honours. However, a large number of military and civil officials, including General Officer Commanding Major General Anjum Riaz attended the funeral prayers,” the ISPR said.“Pakistan Army will continue to render sacrifices till the last drop of blood for the defence of the dear motherland,” the ISPR added.    Prime Minister Shehbaz Sharif and President Asif Ali Zardari, in separate statements, condemned the attack.The prime minister called the attack a “coward” move by the terrorists.“The security forces have foiled the sinister designs of the terrorists,” PM Sharif said, according to the prime minister’s office.“I, and the whole nation, are proud of the martyrs who sacrificed lives,” he said.He prayed for the departed souls and offered condolences to the bereaved families.President Zardari condemned the terrorist attack and extended condolences to the bereaved families.In a post on X, the head of state paid tribute to army officers and soldiers who embraced martyrdom in the attack. He also expressed the nation’s commitment to completely eradicate terrorism.The president prayed to elevate the rank of martyrs and give patience to their families.    Foreign Minister Ishaq Dar said the nation was united in combatting terrorism in all its forms.    National Assembly Speaker Sardar Ayaz Sadiq also condemned the attack.According to a post on X by the National Assembly’s official account, the speaker expressed deep sorrow and regret over the loss of precious lives, and paid tribute to the martyrs including Lt Col Kashif and Captain Ahmed.“The nation will never forget the sacrifices of its soldiers,” the statement quoted the National Assembly speaker as saying. “Terrorists are following the nefarious intentions of the enemy in which they will never succeed.”The speaker said that the entire nation was standing together with the security forces to crush the nefarious intentions of terrorists.    Pakistan has witnessed an uptick in terror activities in 2023 year, especially in KP and Balochistan after the banned militant Tehreek-i-Taliban Pakistan  with the government in November 2022.The ISPR said earlier this month 10 militants were killed in  by security forces in the North Waziristan district. It added that Pakistan expected the Afghan government to fulfil its obligations and deny the use of Afghan soil by terrorists.Last month, a late-night attack on a police station in Dera Ismail Khan was . Gunmen had mounted an attack using heavy weapons but fled in the cover of darkness when police personnel fired back.In December last year, 23 soldiers were  and more than 30 troops wounded after militants belonging to the Tehreek-i-Jihad Pakistan (TJP) stormed a compound used by the military in Dera Ismail Khan’s Daraban area.According to an annual security  issued by the Centre for Research and Security Studies, Pakistan witnessed 1,524 violence-related fatalities and 1,463 injuries from 789 terror attacks and counter-terror operations in 2023 — marking a record six-year high.KP and Balochistan were the primary centres of violence, accounting for over 90 per cent of all fatalities and 84pc of attacks, including incidents of terrorism and security forces operations.Dear visitor, the comments section is undergoing an overhaul and will return soon.'}, {'title': 'Pre-arrest bail of Imran, SIC chief extended in May 9 cases\\n', 'url': 'https://www.dawn.com/news/1821733/pre-arrest-bail-of-imran-sic-chief-extended-in-may-9-cases', 'text': 'LAHORE/TOBA TEK SINGH: An anti-terrorism court on Friday extended the pre-arrest bail of jailed PTI founder Imran Khan in three cases of  riots.ATC-III judge Arshad Javed heard the bail petitions as a duty judge as the presiding judge of ATC-I, the relevant court, had been transferred.The judge simply adjourned the hearing till March 22 and also extended the bail of the former premier in cases of attacks on Jinnah House, Askari Tower and Shadman police station.The judge on March 1 confirmed the pre-arrest bail of Khan in four cases, including murder of Zille Shah, attack on police outside Zaman Park, and torching offices of PML-N in Model Town and a container at Kalma Chowk on May 9 last.An ATC on Aug 11, 2023, dismissed the pre-arrest bails of the PTI founding chairman over his non-appearance as he was jailed following his conviction in the Toshakhana case.Later, the Lahore High Court, on a petition by Khan, set aside the decision of the ATC and restored his bail petitions. The high court also directed the trial court to decide the bail petitions afresh on merit.Meanwhile, Faisalabad anti-terrorism court judge Muhammad Hussain extended the bail before arrest of Sunni Ittehad Council (SIC) Chairman and MNA Sahibzada Hamid Raza, his brother Sahibzada Hassan Raza, his sister and 17 PTI activists till the next hearing in the May 9 case.The accused were charged with attacking and ransacking the ISI office in Faisalabad after the arrest of Imran Khan.The prosecution informed the court the joint investigation team had not completed the investigation into the case yet. The court directed the prosecutor to ask the JIT to complete the investigation at the earliest.Besides Raza, his brother and sister, those who appeared before the court included two MNAs Malik Umer Farooq and Rai Haider Kharal and three MPAs Hasan Zaka Niazi, Khayal Ahmad Kastro and Asad Mahmood.Dear visitor, the comments section is undergoing an overhaul and will return soon.'}, {'title': 'Editorial: New govt must focus on real reforms, not antiquated ideas, to alleviate poverty', 'url': 'https://www.dawn.com/news/1821846', 'text': 'PAKISTAN’S politicians and policymakers must evaluate economic models that yield better results than the old five-year plans. Instead, just like its predecessor, the Shehbaz Sharif government is drafting a five-year  outlining the way to economic resurgence and stability. The ultimate aim is to curb inflation, alleviate poverty and create jobs. A committee has been formed to consult the relevant ministries to set targets for the next five years in different sectors. Once the required information is gathered, the economics planners intend to roll out a “consolidated document” that includes five-year targets for a number of sectors such as energy, agriculture, SMEs, exports, taxation, IT, investment and privatisation.A key component of economic strategy in the 1960s and 1970s in many countries, five-year plans lost their utility in the free market system that consolidated its global hold following the fall of the Soviet Union.Countries are drifting away from such planning models. In recent years, for example, this model has made way for a three-year action plan as part of India’s 15-year vision document. Other economies have also replaced this document with similar rolling, strategic economic models, which are flexible and in sync with today’s realities. Five-year plans are a legacy of highly centralised economic systems where governments used to shape their growth by controlling economic activities through permits, licences, voucher schemes, nationalisation, credit allocations, etc.In the modern world, where the private sector is considered the engine of economic growth and development, such government intervention in the economy creates distortions and impedes growth. Pakistan is a major example of why a government should not be involved in economic activities.In the light of past experience, it is advisable that the government evolve a well thought-out strategy to reduce its footprint on the economy, encourage market forces, and help the private sector realise its full potential. The sole objective of the government’s development vision should be to evolve sound policies for private investors for a period of, say, 20 years, decentralise the power structure for quick decision-making, and regulate the markets justly to protect consumers. This paradigm shift in planning is not only needed to fix the economy but is also in keeping with the sociopolitical changes in Pakistan.Centralised planning hasn’t worked here beyond a certain point. It is hard to recall if any five-year plan has achieved its goals. Even the much-touted early plans implemented under the Ayub regime in the 1960s produced only business monopolies, and an oligarchy that thrived on the state’s largesse.It would be much better for the new government to focus on real reforms and formulation of policies needed to pull the country out of poverty rather than waste its energy and resources on antiquated ideas.Dear visitor, the comments section is undergoing an overhaul and will return soon.'}, {'title': 'Elections have brought about a new balance of power between ‘veto player’ and political party', 'url': 'https://www.dawn.com/news/1821843', 'text': 'ONE of the first concepts in undergraduate economics textbooks is the distinction between positive and normative analysis. A positive analysis describes the world objectively, or as it is empirically observed, while normative analyses focus on subjective value judgements, or how the world ought to be.The electoral outcomes of Pakistan’s recent elections will have a tremendous bearing on the country’s political and economic future. Predict\\xadably, many analyses have been released on the future course of Pakistan’s politics and economy. But, somehow, most of these analyses were either knee-jerk reactions or clouded by the analyst’s normative bias.What follows is a ‘positive’ analysis of Pakistan’s political system, as it only describes what is observed and, based on these empirical observations, what is likely to happen in the future. At no point should this analysis be taken as a position for how things ought to be. This is a very important point.A great majority of recent analyses seem to take the position that, given post-election reality, volatility in Pakistan’s political and economic system will only increase, leading to, according to some analyses, a complete inversion of the system. What the analyses are hinting at is that this government will not be able to get its sea legs, and, sooner rather than later, Pakistan’s political system will sink into such bewildering chaos that it will also take down Pakistan’s democracy and its economy with it.There will still be skirmishes but neither player will venture towards disturbing the new equilibrium.It is true that a political system’s volatility always impacts economic sentiments, which, in turn, can have disastrous consequences for economies. In the midst of a political crisis, fearing the worst, people may decide to sit on their liquid cash, thereby drying up all demand in the economy. It goes without saying that such sudden evaporation of demand from an economy will invariably have a significant negative impact on economic growth and job creation.Be that as it may, the structural characteristics of Pakistan’s political system are such that doomsday scenarios usually do not come to pass. The main reason behind this is the disproportionate amount of power that resides with the system’s ‘veto player’, which often works as an off-switch — or a circuit breaker, if you will — whenever the political system starts vibrating uncontrollably.Still, the results of the recent elections in Pakistan have forced everyone to sit up and take notice, as a political party has  than all others despite significant constraints. These unexpected results and the ensuing aggressive strategy employed by the party has thus convinced most analysts that the present government will neither survive nor be able to stabilise the economy.Where analysts have a right to proffer their assessment, it is probably optimal to analyse the present political situation in Pakistan in light of the stability-instability paradox — an international relations theory regarding the effects of nuclear weapons. This theory came on the scene in the early days of the Cold War. The stability-instability paradox has wide currency, and international relations scholars are virtually unanimous in their belief that the paradox largely explains the conflict in nuclear South Asia.Specifically, the stability-instability paradox is used to better understand how the introduction of nuclear weapons impacts relations between two adversaries. The paradox reveals that where the possession of nuclear weapons lends a certain strategic stability, given the exorbitant costs of nuclear conflict, these arms also inject tactical instability, meaning that short of breaching each other’s red lines, both adversaries are more likely to engage in low-intensity localised conflict with each other. The late Prof Kenneth Waltz, a leading international relations scholar, argued that the presence of nuclear weapons actually tempts nuclear-armed neighbours to fight ‘small wars’.To be sure, analysts are correct in ascribing significance to the results of the recent elections in Pakistan. But, these results have only brought about a new balance of power, or an equilibrium, between the veto player and the political party, especially as the pendulum seemed to have swung too far in one direction.In essence, both players have now demonstrated their capabilities, thereby imposing a stability-instability paradox on the political system. In a sense, red lines have been re-identified, boundaries have been redrawn, and spheres of influence re-demarcated. Under this strategic ‘stability’, there will still be skirmishes, but neither player will venture towards disturbing the new equilibrium. In other words, the skewed distribution of power in the Pakistani political system remains intact, and for this reason, where there may be social unrest, there is a very high probability that this government will stay in place unless acted upon by an exogenous force.What this situation also points out is that under the veto player’s not-so-invisible hand, the new government will be successful in not only completing the present programme, but also in signing on the dotted line with the IMF for a new programme. Both programmes will go a long way in providing much-needed stabilisation to the economy.All said and done, there is perhaps some efficacy of having an off-switch in the political system. But, the larger — and normative — question is about its control. Who controls the switch, why and how? In order to address this normative question, there is a need to first focus on the lopsided nature of power distribution in the political system.To this end, all stakeholders, adversaries and players will have to sit across the table from each other to restructure the characteristics of this political system. There are multiple routes available for the willing. One route goes by way of Turkiye, while the other goes by way of Indonesia.But, at least in the short to the medium term, it appears that the dynamic equilibrium described by the stability-instability paradox will dominate in Pakistan’s political system.Dear visitor, the comments section is undergoing an overhaul and will return soon.'}, {'title': 'Political engineering has its limits; it is imperative to reset the entire system', 'url': 'https://www.dawn.com/news/1821842', 'text': 'AS the dust settles and the politicians assume office, it is time to take a dispassionate look at the emerging dispensation, with a particular focus on the four principal players: the PTI, PPP, PML-N, and the establishment. They will have a defining role to play — individually, collusively, or collectively — in the coming months; either to initiate the much-needed stability and economic revival, or push the country further into the abyss of chaos and disorder.PTI: At the outset, let it be said that even if the elections were rigged, the ‘plan’ has not fully produced the desired results. Perhaps, the game of asserting authority has reached its tragic limits. First, in the last set-up, the PML-N was ousted from the federal and provincial governments, and the PPP reduced to the rural areas of Sindh. But this time, an embattled PTI has retained a majority government in KP.Second, the PTI’s sizeable presence on the opposition benches in Punjab and the federal legislatures will enhance its bargaining power vis-à-vis the establishment, particularly in reference to the tough policy decisions that are to be taken by the PML-N coalition government in the face of a substantial public backlash.Third, the resurgence of an underdog PTI facing down powerful opponents has also helped the party and its followers cross the psychological barriers of fear and vulnerability.A formidable PTI-led opposition could become a nightmare for the government.Finally, the PTI is better placed to rope in religious and nationalist parties, which nurse their own grouse against the establishment and the PML-N-PPP duo for ‘stealing’ their seats. Thus, a formidable PTI-led opposition in and out of parliament could become a living nightmare for the government; more so, if an estranged Maulana Fazlur Rahman of the JUI-F were to join it with his numerous street-fighting cadres.PPP: These elections have been a godsend for the PPP. It has emerged as a new balancing force, relegating the once redoubtable PML-N to a lesser position. It has formed a solid majority government in Sindh, where it already enjoys an absolute hold over local governments, including in Karachi, whose mayor is from its own ranks. The PML-N-led minority federal government will also subsist at its pleasure. It has already occupied the presidency, and is tipped to have the office of chairman Senate, besides possessing the ‘right’ to appoint governors in two key provinces, Punjab and KP, by virtue of an ‘agreement’ with the PML-N.More surprisingly, it has formed a coalition government in Balochistan, where its presence is thin. No wonder pundits view President Asif Ali Zardari as the emerging kingmaker. But the PPP’s meteoric rise also raises questions: how did it achieve such success? Was it due to its ‘performance’ in Sindh and elsewhere? Or a reward for its 15-year-long, testy but trusted ‘engagement’ with the powers that be? Or was it the triumph of the skills of its co-chairman (Zardari) to game the system? A separate piece would be needed to attempt the answers.PML-N: The PML-N is facing its moment of truth. It is a victim of its own doings and responsible for the Phoenix-like rise of its arch-rival PTI. The edifice of its duality, carefully nurtured over the years by Nawaz Sharif’s anti-establishment narrative and the can-do image of Shehbaz Sharif, now lies in tatters, thanks to its alliance with its old nemesis — ie, the establishment — and the poor performance of the PML-N-led PDM government. On top of that, it is saddled with steering the country out of multiple crises on the back of a rickety, hotchpotch government. The ensuing financial constraints, a tough opposition, and the IMF’s implacable conditionalities will further erode its political standing, including among its traditional allies — the industrial and trading classes, which dominate the economic heart of central Punjab.However, the real test of its stewardship would be getting around the IMF for a long-term deal in the tumultuous times that lie ahead. The PTI-led opposition is already baying for its blood. Thus, in the emerging tough scenario, Prime Minister Shehbaz Sharif will have little option but to periodically seek the establishment’s indulgence in carrying out the needed legislative and economic agendas (just as Imran Khan did during his incumbency). But would (or could) the powers that be get him the desired results in such times? The answer requires looking into the establishment’s own predicament.Establishment: The strong-arm methods and alleged ‘institutional’ help in forging an anti-PTI alliance and ‘managing’ electoral results haven’t really borne fruit for certain quarters in cutting the PTI down to size, ensuring political stability and economic revival, and dominating a fractured polity. Instead, the PTI seems to have emerged rather more robustly, electorally and morally. In fact, a hung parliament has enhanced its leverage to play tough and get a better deal from those it sees as holding the reins. So far, Imran Khan has not budged, despite the increasing number of cases against him.The PTI’s letter to the IMF demanding an electoral ‘audit’ has also set the tone, reflecting a no-holds-barred approach. It is, therefore, likely that the party may not only feed into the instability, but try to weaponise it too in its attempt to get the powers that be to give ground or let the system implode. A modus vivendi between the establishment and the PTI has been suggested by some in order to ensure stability, salvage the economy, and possibly realise the former’s inclination for constitutional changes to reverse some key financial and political benefits that accrued to the provinces after the 18th Amendment.Way out: The country is in a deep ditch again. It can no more be lifted via the old ‘managerial ways’ by coercion, allegedly compromised sections of the judiciary, or a legion of turncoats. Political engineering has its limits, and can only improvise ways to prolong its dysfunctionalities, and that too at a heavy cost — political, institutional, economic and human.But as things stand, working a visibly rigged system is going to prove difficult, if not destructive for the institutions. It is, therefore, imperative to reset the entire system, consensually and democratically. Or else the ditch will only deepen.Dear visitor, the comments section is undergoing an overhaul and will return soon.'}, {'title': 'Interior ministry censured by SHC for not deporting Indian national held 11 years ago\\n', 'url': 'https://www.dawn.com/news/1821789/interior-ministry-censured-by-shc-for-not-deporting-indian-national-held-11-years-ago', 'text': 'KARACHI: The Sindh High Court on Friday expressed resentment towards the interior ministry for not deporting a detained Indian national despite lapse of around seven years and warned that the interior secretary would be summoned if the deportation was not carried out.  The court observed that the appellant was an Indian national while the ministry could not be able to confirm his nationality apparently due to lack of efforts.  The single-judge bench headed by Justice Mohammad Karim Khan Agha directed the ministry of interior to depute an officer well-versed with the facts of the case or file a compliance report at the next hearing.  Abdul Mughni was arrested in 2013 by the Mobina Town police station near Abul Hassan Ispahani Road and booked him under various provisions of the Foreigners Act.  Abdul Mughni was arrested in 2013 and booked under Foreigners Act A sessions court had sentenced him to six months in prison in 2017. The convict filed an appeal against his conviction before the SHC.  The bench said that since the appellant had already served out his sentence, the jail superintendent had been directed to make arrangements for his deportation through the home department.  However, at the last hearing, it also noted that the focal person of the home department of Sindh had submitted that a correspondence was made with the ministry of interior on the subject matter and it did not respond and thereafter, the court had issued a notice to the secretary to send an official familiar with this case to explain as to why the appellant had not been deported yet.  On Friday, a section officer of the ministry turned up and asserted that the deportation had not been made yet due to certain procedural issues.  The bench in its order said: “I find it quite extraordinary that after a lapse of seven years, ministry of interior has not been able to confirm whether the appellant is an Indian national or not. Prima facie this is because of lack of efforts on the party of ministry of interior”.  The bench stated that when the section officer was confronted, he was not even aware if the Indian government had similar computerised national identify card system like Nadra.  “In the event the impugned order dated 24.08.2017 regarding the deportation of the appellant is not complied with by the next hearing, this court will have no option except to call the secretary, ministry of interior, government of Pakistan in person to explain as to how his department is actually working in such like matters”, it added.  The bench asked its office to send a copy of this order to the interior secretary for information and compliance.  “It is expected that on the next date of hearing, secretary, ministry of interior shall send an officer well-served with the facts of the case or file his compliance report via DAG [deputy attorney general] regarding the deportation of the appellant. In this regard, reasonable time is given and this matter shall come up on 13.05.2024 at 09:00am”, it concluded.Dear visitor, the comments section is undergoing an overhaul and will return soon.'}, {'title': 'Second polio case in as many days rings alarm bells\\n', 'url': 'https://www.dawn.com/news/1821810/second-polio-case-in-as-many-days-rings-alarm-bells', 'text': 'ISLAMABAD: The second polio case in as many days has once again raised concerns over the efforts to end the crippling disease from Pakistan.The latest case has been repor\\xadted from Balochistan’s Chaman district, where a 52-month-old child has been paralysed by the wild poliovirus type 1 (WPV1).According to the Regional Re\\xad\\xadfe\\xadrence Lab for Polio Eradication at the National Institute of Health (NIH), Islamabad, WPV1 was isolated from the child’s stool samples.The isolated virus belongs to the imported YB3A cluster, which has been detected in 10 positive samples reported from Chaman since October 2023.The case surfaced a day after a 30-month-old boy was  to have been paralysed in Dera Bugti. The child had weakness in both his lower limbs, and the isolated virus belongs to the imported YB3A cluster.Pakistan Medical Association calls for filling gaps in immunisation effortsAn NIH lab official said poliovirus is in communities and continues to remain a persistent threat to children across the country since it has been detected in 56 environmental samples of more than 25 districts so far this year and in more than 100 sewage samples last year.“The virus particularly attacks children who are malnourished and have weak immunity because of being under-vaccinated or not vaccinated for polio and other childhood diseases.”The official urged parents, caregivers, religious leaders, teachers and community elders to play their role in countering the disease and ensure that all children under five years of age are during immunisation drives.Since the beginning of 2024, the national polio  has conducted two vaccination drives targeting 45 million children.In response to the new cases, a fresh polio drive will begin on March 25 in districts where the virus has been detected. The drive will target more than six million children.Experts have said the new cases indicated gaps in immunisation efforts and emphasised steps to tackle the disease.“It is disheartening to see the polio cases which indicate the gaps in immunisation efforts and underscores the importance of ensuring that every child receives the polio vaccine,” Pakistan Medical Association (PMA), the representative body of health practitioners, said in a press release.“We urge parents to cooperate with healthcare workers and vaccinate their children,” it said.PMA Secretary General Dr Abdul Ghafoor Shoro said poliovirus is a highly infectious disease that mainly affects children under the age of five.It causes paralysis, permanent disability, and, in severe cases, can be fatal, he added.“Despite substantial progress in the fight against polio, Pakistan remains one of the two countries where the disease is still endemic”.“He said that the recent cases serve as a “wake-up call” for health authorities, healthcare workers, and communities across Pakistan.“The only way to protect children from polio is through vaccination, Dr Shoro said, adding that consistent and widespread immunisation campaigns are “critical to eradicating this disease once and for all”.The PMA emphasised the role of public awareness in addressing vaccine hesitancy and dispelling misconceptions surrounding polio im\\xad\\xadm\\xadunisation, he said. He stressed effo\\xadrts to inform communities about the safety and effectiveness of the vaccine, encouraging them to participate in vaccination campaigns.“Vaccination efforts must be in\\xad\\xadt\\xade\\xad\\xadnsified while simultaneously en\\xad\\xads\\xadu\\xadring the safety of healthcare workers and communities,” Dr Shoro said. “As Pakistan strives to achieve polio eradication, the PMA remains dedicated to supporting governm\\xadent efforts and collaborating with all stakeholders to protect children from this debilitating disease.”Dear visitor, the comments section is undergoing an overhaul and will return soon.'}, {'title': 'DSP, tribal elder killed in Sibi, Bajaur attacks\\n', 'url': 'https://www.dawn.com/news/1821752/dsp-tribal-elder-killed-in-sibi-bajaur-attacks', 'text': 'QUETTA / BAJAUR: A senior police officer and a tribal elder were killed in two attacks in Sibi and Bajaur on Friday, according to officials.Sibi Deputy Superintendent of Police (DSP) Khalid Zaman Marri was passing through the bazaar area in Sibi town when unknown assailants opened fire at his vehicle near the Chanak roundabout area.The police officer got critically injured after receiving six bullets and was taken to the Combined Military Hospital. He later succumbed to his injuries.One of the attackers was injured after the DSP’s security guard returned fire. He, along with other attackers, managed to flee but was caught by the police near Nishtar Road and shifted to the hospital.Police officials said the motive behind the attack couldn’t be ascertained immediately, and no group has claimed responsibility.“We are investigating the attack from all aspects,” Sibi SSP Inayatullah Bangulzai said.Three alleged militants gunned down in Lakki MarwatA senior police officer said DSP Marri had served as SP Counter Terrorism Department (CTD) in Sibi.The victim was the elder brother of Mir Asghar Marri, who was the former district mayor of Sibi.In Bajaur, a tribal elder was killed in a remote-controlled bomb explosion in the mountainous area of Barang tehsil.According to locals and police, the attack occurred in the Asil Targaoo locality at about 9:25am. The target was a tribal elder, Malik Lal Zareef.The explosive device planted along the road went off when Mr Zareef, who was on foot, reached the spot.They said that the 55-year-old victim was critically wounded and died before he could be moved to a hospital.Police have confirmed the explosion and said an investigation has been launched to arrest the culprits. No group has so far claimed responsibility for the attack.A senior police official told  that a team from the Barang police station has launched a search operation, but no arrests have been made so far.The official added that police personnel have collected evidence from the crime scene.Separately, three alleged militants were killed in an intelligence-based operation in Lakki Marwat, officials said on Friday.A district police official said that the CTD and security forces conducted a joint operation in a rural area of Lakki Marwat on the information about militants’ presence.“An intense fire exchange took place between security personnel and the militants,” the official said, adding that three alleged militants were gunned down.They have been identified as Zubair, a local militant commander; Faisal; and Jawad.They belonged to the Abdulkhel and Nawerkhel areas and were allegedly affiliated with the outlawed Tehreek-i-Taliban Pakistan.According to the officials, the militants were involved in attacks on police and security forces, target killings and extortion. Ammunition and explosives were also recovered from their possession.Following the gunfight, reinforcements arrived in the area, and a search was launched to capture the fleeing militants.The militants’ presence in several rural localities, including the mountainous areas of Abdulkhel and Shah Hasankhel, is considered a constant threat to peace in the southern district of Khyber Pakhtunkhwa.Dear visitor, the comments section is undergoing an overhaul and will return soon.'}, {'title': 'Govt accuses PTI of ‘sabotaging’ deal with IMF\\n', 'url': 'https://www.dawn.com/news/1821812/govt-accuses-pti-of-sabotaging-deal-with-imf', 'text': 'WASHINGTON / ISLA\\xadM\\xadABAD: Minister for In\\xad\\xadformation and Broad\\xadcast\\xading Ataullah Tarar said on Friday that a handful of “miscreants” associated with the PTI were bent upon sabotaging Pakis\\xadtan’s deal with the IMF, which he said was crucial for economic stability.His remarks follow IMF’s refusal to accept a letter from the PTI during a protest outside the Fu\\xad\\xadnd’s Washington offices, where officials asked demonstrators to submit the letter via email instead. The letter urged IMF Managing Director Kris\\xadtalina Georgieva to “withhold any further financial assistance or loan disbursements to Pakistan until a credible investigation by an independent body” clears it of all rigging allegations.Although organised by a human rights group called First Pakistan Global, the majority of protesters gathered outside the IMF headquarters were PTI supporters.  Party protests outside lender’s offices; Fund officials refuse to accept letter in personA truck displaying messages about rigging on four large screens also dr\\xad\\xadove around the IMF headquarters and downtown Wash\\xadington during the protest.The PTI supporters interacted with IMF officials exiting the building, handing pamphlets to them, and explaining the situation to those interested in learning more. Dr Shahbaz Gill, Imran Khan’s former chief of staff, stated in his speech that the IMF’s mandate re\\xad\\xad\\xadquires it to promote democracy and good governance. He criticised the IMF for cooperating with the establishment that he alleged was installing puppets, only to discard them when convenient. He emphasised that PTI was not preventing the IMF from assisting Pakist\\xad\\xadan, but urged them to en\\xad\\xadg\\xadage with elected represen\\xadtatives to ensure responsible use of funds by the government. Sajjad Barki, a senior PTI leader from Texas, recalled that before signing the last agreement, an IMF representative visited Pakistan and met with Imran Khan and other stakeholders.  “They spoke about promoting democracy in Pak\\xadistan and ensuring free and fair elections. So, PTI agreed to respect the pac\\xadkage. We kept our pledge, now it’s the IMF’s turn to fulfil its promise,” he said. Addressing a news conference in Islamabad on Friday, Mr Tarar said that at the protest, activists belonging to PTI were urging the IMF to give funds to Pakistan only if their jailed leader was released, regretting that activists of an “anti-national” party continued to hold sit-in and protest outside the IMF offices.He said the protesters only wanted to sabotage the IMF deal because their dream was to make Pakistan default. But Pakistan would progress and the growth rate would increase soon, he said. He advised the PTI to approa\\xad\\xadch courts to secure Imran Khan’s release as the IMF and World Bank had nothing to do with his cases. “We have been voted [in] by the people to solve the problems of the country, not to increase them,” he maintained.He said under the vision of the prime minister efforts would be made for making the country prosperous through hard work.In reply to a question, the minister said that PTI would be requested to re\\xad\\xadfrain from taking any such initiatives that undermi\\xadned the country’s economy.Dear visitor, the comments section is undergoing an overhaul and will return soon.'}, {'title': 'NFC award: CM Shah says Constitution doesn’t allow reduction in provincial share', 'url': 'https://www.dawn.com/news/1821891/nfc-award-cm-shah-says-constitution-doesnt-allow-reduction-in-provincial-share', 'text': 'Sindh Chief Minister Syed Murad Ali Shah on Saturday said the Constitution did not allow a reduction in the share of provinces in the National Finance Commission (NFC) award amid reports that the International Monetary Fund (IMF) was seeking a reassessment of the award.Under the 7th NFC Award, the share of provinces in vertical distribution was increased from 49 per cent to 56pc during 2010-11 and 57.5pc during the remaining years of the award.The traditional population-based criteria for the horizontal distribution of resources amongst the provinces was changed to a multiple-criteria formula. According to this criteria, 82pc distribution was made on population, 10.3pc on poverty and backwardness, 5pc revenue collection/generation, and 2.7pc on inverse population density.Recently, there have been  of the IMF asking Pakistan to reopen discussions on the NFC award, seeking to address the ongoing imbalance in the distribution of fiscal resources between federal and provincial governments.The IMF reportedly emphasised the need to reassess the NFC award, citing disparities in resource allocation betw\\xadeen federal and provincial authorities.Addressing the matter while talking to the media in Karachi today, Sindh CM Shah said the government could not reduce the allocation to the provinces in the NFC award due to IMF pressure. “It is written in the Constitution about the NFC award that the share of the provinces [in resources] cannot be reduced [but] it can be increased,” he added.Shah said the government must have likely intimated the IMF about this, adding that he was not even sure if the reduction was a condition in the IMF talks or not since he was not part of them.The chief minister said provinces were given additional responsibilities after the 18th Amendment and, thus, the NFC award should be changed accordingly to reflect them instead of continuing the 7th NFC Award.He reiterated that it was the PPP and Sindh government’s demand from the federal government to bring in a new NFC award since the old no longer applied after the 18th Amendment.    Article 160 of the Constitution governs the NFC award. Section 3A of the article says: “The share of the provinces in each award of National Finance Commission shall not be less than the share given to the provinces in the previous award.”In July 2020, the then-opposition had  to amend the constitutional provision barring any reduction in the previous year’s share of the provinces in the NFC award, following a heated debate on the issue.The house by a 25-17 majority vote had disallowed leave to introduce a bill seeking to amend Article 160 (3A) of the Constitution to Barrister Muhammad Ali Saif of the Muttahida Qaumi Movement-Pakistan.Dear visitor, the comments section is undergoing an overhaul and will return soon.'}, {'title': 'PM vows to meet army’s needs, seeks US support for economy\\n', 'url': 'https://www.dawn.com/news/1821751/pm-vows-to-meet-armys-needs-seeks-us-support-for-economy', 'text': '    ISLAMABAD: Prime Minister Shehbaz Sharif on Friday committed to fulfilling the military’s resource requirements, as he sought US support for economic reforms and a new International Mone\\xadtary Fund (IMF) programme.“Government shall provide all the resources required for ensuring operational readiness of the Armed Forces,” PM Shehbaz said during his first visit to the General Headquarters after assu\\xadming office, where he was accompanied by some of his key ministers.The prime minister was given a security briefing during his visit, which covered the threat spectrum, response to the security threats and ongoing counterterrorism operations.“During the visit, Prime Minister and Cabinet members engaged in discussions with military leadership on matters of nati\\xadonal security, regional stability and military preparedness,” a statement relea\\xadsed by the PM Office said.The official press release did not explicitly state whether the economic crisis was discussed, except for making public the PM’s assurance on fulfilling the requirements related to operational readiness. This implied that while the government may cut some of its expenditures as part of its belt-tightening, defence spending would remain unaffected.PM Shehbaz said that Pakistan was destined to rise and the armed forces had a crucial role in ensuring the peaceful rise of the country.“PM and cabinet members appreciated the professionalism, operational readiness, and sacrifices of Pakistan Army in war against terrorism and commended the dedication of the Pakistan Army in safeguarding the nation’s territorial integrity and ensuring peace and stability,” the statement said.According to the statement, Army Chief Gen Asim Munir affirmed that Pakistan Army will live up to the nation’s expectations and will resolutely support the government in addressing the security challenges facing the country.Earlier on Friday, the PM met with the US ambassador to pinpoint areas of cooperation, including Islamabad’s engagement with the IMF.According to the US Embassy in Islamabad, “US support for continued economic reforms with and through the IMF” was among the key areas of bilateral cooperation discussed during a meeting between Prime Minister Shehbaz Sharif and US envoy Donald Blome — the first since Mr Sharif assumed office for the second time.The meeting occurred a day after the commencement of discussions between Pakistan and the IMF for the second  of the Stand-By Arrangement.Although a new programme is not on the agenda of the ongoing meeting, the new finance minister Muhammad Aurangzeb has already hinted that Pakistan would advocate for a larger, long-term programme during the review.The discussions with the IMF for the release of the last tranche under the SBA will continue until Monday (March 18).During his meeting with Ambassador Blome, PM Shehbaz stated that his government would focus on macro-economic reforms to stabilise the economy and attract foreign investment.He highlighted the role of the Special Investment Facilitation Council (SIFC), established to expedite foreign investments in the country’s priority sectors.Other areas of cooperation discussed during the Shehbaz-Blome meeting included regional security, trade and investment, education, climate change, and private sector-led economic growth.The prime minister called for regularly convening existing dialogue mech\\xadanisms on areas of cooperation, particularly trade, investment, energy, health, defense, education, agriculture, and climate change.The envoy noted that the US considered Pakistan an important partner and hoped for stronger ties.The US embassy said that Ambassador Blome “expr\\xadessed US support for Pak\\xadis\\xadtan’s democracy and the role of an independent press”.Separately, PM Shehbaz launched a countrywide spring  drive and urged the nation to vehemently take part in the campaign.The PM kicked off the drive on Friday by planting a sapling in the Prime Minister House’s lawn.Reiterating the government’s resolve to increase the green cover, the PM announced doubling the number of saplings planted in 2024 compared to the previous year’s target.PM Shehbaz highlighted the urgency of expanding the forest cover from five per cent of the total area to mitigate the impact of climate change.The prime minister directed the authorities concerned to make all possible efforts to expand the plantation drive to every corner to make Pakistan “green and pollution-free”.He also asked the citizens to help the government by participating in the drive.Dear visitor, the comments section is undergoing an overhaul and will return soon.'}, {'title': 'IMF-directed ordinances spark ‘betrayal’ cries in NA\\n', 'url': 'https://www.dawn.com/news/1821753/imf-directed-ordinances-spark-betrayal-cries-in-na', 'text': '• Govt lays seven controversial ordinances amid opposition by PTI and JUI-F\\n• PPP initially opposes move, but votes in favour of government\\n• Five women MNAs take oath after PHC decision on reserved seats\\n• House passes resolution to condemn Israeli aggression against PalestiniansISLAMABAD: Accusations of betrayal flew back and forth in the National Assembly on Friday as the government laid seven IMF-directed controversial ordinances before the house and then sought approval of their extension for another four months amid strong protest by the opposition PTI and even the government’s key ally PPP.When PTI’s Omar Ayub Khan asked the chair to take a picture of those members “who are selling Pakistan” by supporting these ordinances, Law Minister Azam Nazeer Tarar responded immediately and dubbed the PTI members “traitors and anti-state” for  to the International Monetary Fund (IMF) and the European Union.Though PPP members initially opposed the government’s move to table the ordinances that the caretaker government had promulgated in line with IMF conditions, they later voted in favour of the government when Speaker Ayaz Sadiq put the motion for a vote after the opposition challenged his ruling on the voice vote.The speaker allowed the law minister to lay the resolution after the house approved the motion seeking suspension of the rules to do so with a 130-63 vote. The JUI-F also opposed the government’s move to table the ordinances “under the IMF pressure”, but its members abstained from voting on the motion.Interestingly, the first opposition to the ordinances came from the PPP, when its MNA from Karachi, Abdul Qadir Patel, questioned the haste the government showed in bringing the ordinances without giving the members a three-day notice as required under the rules.Mr Patel alleged that the caretaker government had promulgated the ordinances while exceeding its mandate. He asked the speaker to follow the Sindh model and constitute a committee to review the caretaker government’s decisions.Instead of the government, Speaker Sadiq himself responded to Mr Patel’s objections, stating that these ordinances were linked to the “IMF-related issues” and, if not taken up timely “, Pakistan can face a loss”.The speaker declared that the ordinances were being tabled in the form of bills and that he would refer them to the committees where the members would get an opportunity to debate them.Another PPP MNA, Syed Naveed Qamar, also expressed “serious reservations” not over the way the government brought them before the house but also stated that his party had reservations over the contents of these ordinances.Mr Qamar said they had voted in favour of the government being part of the ruling coalition, but asked the chair to rule that these laws would not be implemented until they were approved by the house and its committees. He asked the government to better “wind up” the house if it wanted to run the parliament in this manner.PTI’s Omar Ayub accused the government of “bulldozing” the ordinances through the assembly and alleged that the language of these ordinances showed that there was ill intention behind this move.“These ordinances are meant to sell Pakistan. Take pictures of those members who are voting for it,” Mr Omar said as some PTI members tore apart the copies of the ordinances and flew them into the air. This prompted the speaker to issue a warning that he would take disciplinary action next time over such rowdyism.Responding to the criticism, Law Minister Tarar explained that there had been minor changes in the laws through these ordinances, which were aimed at reducing the government’s control of the boards of some public sector enterprises and making them autonomous.He said Prime Minister Shehbaz Sharif had already issued directives to form a committee comprising allies for legislative business.“Take pictures of those who are not faithful to the country, who want to destroy Pakistan’s economy and are writing letters to the IMF,” Mr Tarar said while responding to Mr Ayub’s remarks.Mr Tarar also questioned the legal status of the members sitting on the opposition benches after the Peshawar High Court’s decision to deny them the reserved seats on the quota of the Sunni Ittehad Council (SIC).“Stand behind the country and do not always stand behind a prisoner,” the law minister said in an apparent reference to jailed PTI leader Imran Khan.“You should engage in some soul-searching, as writing letters to the IMF and EU will not yield any positive results,” Mr Tarar said, defending the government’s move of tabling the ordinances.The ordinances laid before the assembly were the Pakistan Broadcasting Corporation (Amendment) Ordinance, 2023; the Pakistan National Shipping Corpo\\xadration (Amendment) Ordinance, 2023; the Pakistan Postal Services Management Board (Amendment) Ordinance, 2023; the National Highway Authority (Amendment) Ordinance, 2023; the Criminal Law (Amendment) Ordinance, 2023; the Privatisation Commission (Amen\\xaddment) Ordinance, 2023; and the Establishment of Telecom\\xadmunication Appellate Tribunal Ordinance, 2023.Earlier, five women elected on the reserved seats from Khyber Pakhtunkhwa took the oath as MNAs. These lawmakers are Naima Kanwal, Asma Arbab Alamgir, Shaheen Shah, Ghazala Anjum and Naeema Kishwer.The National Assembly also unanimously passed a resolution “condemning” the ongoing Israeli aggression against the people of Palestine.The resolution was read out by PPP’s Shazia Marri. Interestingly, when the speaker put it for a voice vote, someone from the opposition benches shouted “No”. The speaker said that they had noted down the name of the member who had voted against the resolution that had been moved to express solidarity with the people of Palestine.Later, the speaker read out President Asif Zardari’s prorogation order and adjourned the inaugural session for an indefinite period.Dear visitor, the comments section is undergoing an overhaul and will return soon.'}, {'title': 'An angel in disguise: Zeba Masood doesn’t let an animal’s cry go unanswered', 'url': 'https://images.dawn.com/news/1192328/an-angel-in-disguise-zeba-masood-doesnt-let-an-animals-cry-go-unanswered', 'text': 'Away from the everyday hustle and bustle of big city life, in the quiet town of Charsadda, an elderly woman sits in the midst of hundreds of dogs. She pets all the broken animals that walk up to her, never running out of hugs and kisses to shower upon them.The dogs, mostly in plasters and bandages, look up to her with sparkling eyes, all of them vying for the perfect spot — her lap.“They are all my babies,” Zeba Masood said with a warm smile spread wide across her face.    An animal lover, she has been running Khyber Pakhtunkhwa’s first animal shelter, Lucky Animal Protection Shelter or LAPS, for the past six years without a single day off. The organisation not only provides shelter to stray animals but also finds them loving homes, a far cry from the lives of torture, hatred and pain they’ve had to endure.“The animals here were beaten to exhaustion; some of them had broken limbs, some were ruthlessly poisoned and left on the roads to die, some were starved to the extent where I found them nibbling on plastic and paper,” Masood recalled.“This is the story not of a single neighbourhood, but of every corner, every street.“The sight of these voiceless creatures, battered and abused, pains me in ways that are impossible to put into words,” she told , her voice laced with frustration and hurt.Living in Peshawar, for Masood, the sight of animals in pain was not a new one. Ultimately, that commonplace sight is what led to the creation of LAPS.She recalls that like most Pakistanis, her parents weren’t very interested in keeping pets at home. But they were kind enough to get her a dog, whom she named Vicky. He stuck with her right till the end, leaving behind his offspring to keep her company.Masood’s love for animals followed her to the United States, where she lived for nearly 40 years. “Even there, we would always bring strays home and take care of them. Not just me, but my children also feel the same way,” she told .The journey to the creation of LAPS began when she returned to Peshawar in 2017. “I came back due to my mother’s illness, but what deeply disturbed me was the cruelty [on display].”And so Masood began feeding dogs, cats, donkeys, horses and other strays. She found the perfect companion for these excursions in her husband. The couple would initially carry animal food in the trunk of their car and feed a pack of dogs in an empty plot owned by Masood’s father.    And then one day, she asked her father if she could fence in a small enclosure in the plot for her rescues. After hours of cajoling, LAPS was born.“The first animal I rescued was a pit bull, Lucky, and named our shelter after him,” she said.LAPS currently houses nearly 300 dogs. Masood and her small team have so far vaccinated over 5,000 stray animals and neutered more than 3,000 dogs and cats. They have an in-house vet for regular check-ups and call in specialised doctors for monthly visits.While the operations of the shelter are mostly self-funded, over the years, Masood has built a strong network of donors.However, running a shelter hasn’t been an easy job for Masood and her husband.“For some reason, people never got a hold as to why we were rescuing animals. Even my friends and family would often ask why I chose to open an animal shelter and not a non-profit organisation for ‘humans’.“They never understood that there are hundreds of NGOs to cater to women, orphans and others. But when it comes to animals, people hardly have anything to give, not sympathy not empathy…these animals can’t even speak for themselves or express the pain they feel,” she argued.There were days when Masood would wake up to the walls of her shelter chalked with obscenities. On other days, men would throw stones and bricks at the rescued animals, harming without a single reason. Some even tried to shoot her strays.“ [they are impure]” and “ [angels won’t come here]” are two of the refrains she heard every day.“One day,” she told , “a local  came to my house and grabbed my husband by the collar.” Fortunately, the police intervened in time but a few days later, the  rammed her door again and this time she was alone. The police were called again and while they forced the group to disperse, they could not root out the problem.“Instead, they told me to relocate and move to the quiet town of Charsadda,” Masood recalled. And so LAPS, with all its dogs and donkeys, travelled about 20.9 kilometres south of Peshawar, away from the hatred and curses.While her animals bring her immense happiness, witnessing the hatred directed at the furry-legged creatures over the past six years has taken a toll on Masood.There are days when she is plagued with self-doubt. “Am I doing enough?” she often asks herself.“As we speak, my team is trying to save a dog […] somebody is trying to shoot them and we are trying our best to rescue the animal,” Masood said. This is not the first time such an incident has occurred — she has seen far worse.“Because of the prevailing gun culture in the province, most of the cases we see are of animal shootings,” she highlighted.Over the last six years, Masood has seen teenagers throwing days-old kittens into gutters, people poisoning mother dogs and their newborn litters, and men beating donkeys to death.“Sometimes, we would rescue animals only to watch them die at LAPS because their condition is so,  bad and no matter how hard we try we just can’t save them,” she lamented.The 2022 floods, Masood recalled, were one of the most traumatic periods in her life. LAPS lost 15 dogs during the deluge, as up to seven feet of floodwater entered the shelter. “The smaller dogs we took home, but we had no other option but to leave the bigger ones on the roof of the shelter.”    When the situation grew too dangerous, she had to relocate the animals. But that was another challenge. “You cannot imagine the kind of harassment we faced, even from supposedly educated people…it was just pure heartache,” she said.While these experiences have left Masood deeply unsettled, they also showed her how important it is to keep moving forward and do more.LAPS, she said, spays and vaccinates at least five stray dogs and cats a week. “That is nothing, I would want to vaccinate at least 10 dogs a day, but unfortunately I don’t have the funds to do so.”Therefore, Masood is now trying to reach out to international donors, both for funds and help with adoption. She believes that vaccinating stray dogs and cats is extremely important, not just for the animals themselves but also to keep humans safe.She wants to create awareness, particularly among the younger generations. “We need to educate our kids to treat animals with compassion and be empathetic. Only when we do this will we be able to create a better society,” said Masood.She also wants to bring acceptance into society. This world, she said, is as much theirs as it is ours. The only way forward is coexistence.To illustrate her point, Masood quotes Mahatma Gandhi: “The greatness of a nation and its moral progress can be judged by the way its animals are treated.”'}, {'title': 'Journalist Asad Toor released from Adiala Jail after Islamabad court approves bail', 'url': 'https://www.dawn.com/news/1821873/journalist-asad-toor-released-from-adiala-jail-after-islamabad-court-approves-bail', 'text': 'Journalist Asad Ali Toor was released from Adiala Jail on Saturday after an Islamabad trial court approved his bail in a case about an online campaign against the judiciary.In January, the car\\xade\\xadtaker government had  a joint investigation team (JIT) to probe an alleged social media campaign against the judiciary following the Supreme Court’s ruling that  PTI party of its bat symbol. This investigation led to Toor’s  of by Federal Investigation Agency (FIA) officials for nearly eight hours on February 23, despite previous assurances to the Supreme Court that no action would be taken against journalists before the general elections.Toor was later  on Feb 26 and faced charges under the Prevention of Electronic Crimes Act for allegedly launching a malicious campaign against state institutions, leading to his being remanded into custody and eventually to jail.As the case developed, the Islamabad High Court intervened,  an expedited bail hearing for Toor, which had been postponed to March 18 due to the investigating officer’s illness. This legal drama unfolded amid calls from the Committee to Protect Journalists (CPJ) for Toor’s immediate release and an end to his harassment, highlighting concerns over freedom of expression and the press in Pakistan.Special Judge Central Humayun Dilawar conducted the hearing of the case today. The petitioner, Toor, was represented by Advocates Imaan Mazari-Hazir and Hadi Ali Chatha.The investigation officer of the case and FIA prosecutor Ashfaq Hussain Shah were also present in court with the relevant case records.At the outset of the hearing, Advocate Chatha submitted the Supreme Court’s observation that journalists should  over a social media campaign against superior judges.At this, Judge Dilawar asked the investigation officer of the case and the FIA prosecutor if the Supreme Court’s observation being referred to was true. “Yes this observation is true,” the FIA official told the court.Subsequently, the court accepted Toor’s bail plea against surety bonds of Rs5,000. The journalist was later released.Advocate Hazir rejoiced at the development, saying their friend was once again among them.    Reacting to the development, journalist Hamid Mir stated that Toor’s bail approval proved that “all allegations were a pack of lies”.In a post on X, he said: “Judge Humayun Dilawar ordered the release of journalist Asad Toor today but what about those who registered a fake case against the journalist?“What about the 10-day physical remand given to FIA for the investigation? What about the anti-state allegations in the FIR? It is now proved that all allegations were a pack of lies.”    Barrister Ahsan J Pirzada lauded Toor’s counsel for the approval of Toor’s bail plea.“Alhumdullilah, 20 days after his arrest, Asad Ali Toor has been granted bail by the FIA court. Congrats to everyone, especially Imaan Hazir and Hadi Chatha. The way they both fought, despite numerous hurdles, is a testament to their courage, determination, professionalism and friendship,” he posted on X.    A day after Toor’s arrest, an Islamabad district and sessions court had  the FIA a five-day physical remand of the journalist. On March 6, the same lower court had  Toor’s physical remand for two days.According to the FIR (first information report), Toor was booked under Sections 9, 10 and 24 of the Prevention of Electronic Crimes Act (Peca), which deal with the offences of glorification of an offence, cyber terrorism and cyberstalking.The FIR stated that Toor “built a false narrative” and publically launched a “malicious/obnoxious and explicit campaign” against “civil servants/government officials and state institutions”.Dear visitor, the comments section is undergoing an overhaul and will return soon.'}, {'title': 'Turks up in arms over killing of stray cat', 'url': 'https://www.dawn.com/news/1821467/turks-up-in-arms-over-killing-of-stray-cat', 'text': 'The killing of a stray cat in Turkiye’s Istanbul has triggered petitions, protests and death threats, pushing the president to intervene and the courts to retry the culprit.On January 1, Ibrahim K was caught on a security camera in the lobby of the building where he lived kicking to death a stray cat named Eros that his neighbours regularly fed.He was sentenced in early February to 18 months in jail but was then released for good behaviour, sparking indignation among animal welfare groups and a section of the public in Turkey, whose large stray cat population is often fed and sheltered.Some 320,000 people signed an online petition demanding a stiffer sentence and in late February the justice ministry said Ibrahim K would be retried after it received a night-time call from President Recep Tayyip Erdogan saying he was taking a “personal” interest in the case.Ibrahim K was retried on Wednesday in a court building where hundreds of people thronged the corridors and the atmosphere was tense.The judges increased his sentence by one year but did not order him to be detained, ignoring the demands of animal welfare groups and internet trolls who have sent him death threats.One animal rights group is to appeal, saying Ibrahim K should be jailed for the maximum four years allowed by law.On Thursday, the hashtag  () was trending on X in Turkey and several major newspapers, including , splashed pictures of the dead cat on their front pages. carried several  about Eros and “Ibrahim the killer”.Several celebrities have joined the Justice for Eros appeal, including Argentinian footballer Mauro Icardi, the star striker at Istanbul giants and reigning Turkish champions Galatasaray.Dear visitor, the comments section is undergoing an overhaul and will return soon.'}]\n"
          ]
        }
      ],
      "source": [
        "# reading the json file in python to load the dataset\n",
        "import json\n",
        "data_file_name = \"dawn_pakistan.json\"\n",
        "with open(data_file_name) as f:\n",
        "  dataset = json.load(f)\n",
        "\n",
        "print(dataset)"
      ]
    },
    {
      "cell_type": "markdown",
      "metadata": {
        "id": "a0WWtyCr69vq"
      },
      "source": [
        "dataset information"
      ]
    },
    {
      "cell_type": "code",
      "execution_count": 62,
      "metadata": {
        "colab": {
          "base_uri": "https://localhost:8080/"
        },
        "id": "ENhbLLr6-FAq",
        "outputId": "65b04823-f21d-4ccc-80cb-b5be9186d9a2"
      },
      "outputs": [
        {
          "output_type": "stream",
          "name": "stdout",
          "text": [
            "type of the file: \n",
            "<class 'list'>\n",
            "\n",
            "Number of entries in the file: \n",
            "15\n",
            "\n",
            "Keys in the first sample: \n",
            "dict_keys(['title', 'url', 'text'])\n",
            "\n",
            "first sample: \n",
            "{'title': '2 officers among 7 soldiers martyred in terrorist attack on post in North Waziristan: ISPR', 'url': 'https://www.dawn.com/news/1821887/2-officers-among-7-soldiers-martyred-in-terrorist-attack-on-post-in-north-waziristan-ispr', 'text': 'Seven soldiers — including two officers — were martyred in a terrorist attack on a security forces’ post in the Mir Ali area of North Waziristan district, the Inter-Services Public Relations (ISPR) said on Saturday.Six terrorists were also neutralised in the subsequent clearance operation.According to the military’s media affairs wing, in the early hours of March 16, 2024, a group of six terrorists attacked a security forces’ post in the general area of Mir Ali of North Waziristan District.“As own troops foiled the initial attempt of intrusion, the terrorists rammed an explosives-laden vehicle into the post, followed by multiple suicide bombing attacks, which led to the collapse of a portion of a building, resulting into  (martyrdom) of five brave sons of the soil,” ISPR added.The martyrs of the initial attack include Havildar Sabir, a resident of District Khyber, Naik Khurshid  (resident of District Lakki Marwat), Sepoy Nasir (resident of District Peshawar), Sepoy Raja (resident of District Kohat) and Sepoy Sajjad (resident of District Abbottabad).“During the conduct of the ensuing clearance operation, own troops led by Lieutenant Colonel Kashif, effectively engaged and killed all six terrorists,” ISPR said.“However, during the intense exchange of fire, leading his troops from the front, Lieutenant Colonel Syed Kashif Ali (age: 39 years, resident of Karachi) and Captain Muhammad Ahmed Badar (age: 23 years, resident of District Talagang), having fought gallantly, paid the ultimate sacrifice and embraced ,” ISPR added.The military’s media wing said a sanitisation operation was being conducted to eliminate any other terrorist present in the area, “as security forces of Pakistan are determined to wipe out the menace of terrorism from the country and such sacrifices of our brave soldiers further strengthen our resolve”.The funeral of the martyrs was later held at Bannu Cantt.“The martyrs will be buried in their native areas with full military honours. However, a large number of military and civil officials, including General Officer Commanding Major General Anjum Riaz attended the funeral prayers,” the ISPR said.“Pakistan Army will continue to render sacrifices till the last drop of blood for the defence of the dear motherland,” the ISPR added.    Prime Minister Shehbaz Sharif and President Asif Ali Zardari, in separate statements, condemned the attack.The prime minister called the attack a “coward” move by the terrorists.“The security forces have foiled the sinister designs of the terrorists,” PM Sharif said, according to the prime minister’s office.“I, and the whole nation, are proud of the martyrs who sacrificed lives,” he said.He prayed for the departed souls and offered condolences to the bereaved families.President Zardari condemned the terrorist attack and extended condolences to the bereaved families.In a post on X, the head of state paid tribute to army officers and soldiers who embraced martyrdom in the attack. He also expressed the nation’s commitment to completely eradicate terrorism.The president prayed to elevate the rank of martyrs and give patience to their families.    Foreign Minister Ishaq Dar said the nation was united in combatting terrorism in all its forms.    National Assembly Speaker Sardar Ayaz Sadiq also condemned the attack.According to a post on X by the National Assembly’s official account, the speaker expressed deep sorrow and regret over the loss of precious lives, and paid tribute to the martyrs including Lt Col Kashif and Captain Ahmed.“The nation will never forget the sacrifices of its soldiers,” the statement quoted the National Assembly speaker as saying. “Terrorists are following the nefarious intentions of the enemy in which they will never succeed.”The speaker said that the entire nation was standing together with the security forces to crush the nefarious intentions of terrorists.    Pakistan has witnessed an uptick in terror activities in 2023 year, especially in KP and Balochistan after the banned militant Tehreek-i-Taliban Pakistan  with the government in November 2022.The ISPR said earlier this month 10 militants were killed in  by security forces in the North Waziristan district. It added that Pakistan expected the Afghan government to fulfil its obligations and deny the use of Afghan soil by terrorists.Last month, a late-night attack on a police station in Dera Ismail Khan was . Gunmen had mounted an attack using heavy weapons but fled in the cover of darkness when police personnel fired back.In December last year, 23 soldiers were  and more than 30 troops wounded after militants belonging to the Tehreek-i-Jihad Pakistan (TJP) stormed a compound used by the military in Dera Ismail Khan’s Daraban area.According to an annual security  issued by the Centre for Research and Security Studies, Pakistan witnessed 1,524 violence-related fatalities and 1,463 injuries from 789 terror attacks and counter-terror operations in 2023 — marking a record six-year high.KP and Balochistan were the primary centres of violence, accounting for over 90 per cent of all fatalities and 84pc of attacks, including incidents of terrorism and security forces operations.Dear visitor, the comments section is undergoing an overhaul and will return soon.'}\n"
          ]
        }
      ],
      "source": [
        "# inspect the content of the file\n",
        "print(f'type of the file: \\n{type(dataset)}\\n')\n",
        "print(f'Number of entries in the file: \\n{len(dataset)}\\n')\n",
        "print(f'Keys in the first sample: \\n{dataset[0].keys()}\\n')\n",
        "print(f'first sample: \\n{dataset[0]}')\n"
      ]
    },
    {
      "cell_type": "code",
      "execution_count": 63,
      "metadata": {
        "colab": {
          "base_uri": "https://localhost:8080/"
        },
        "id": "MWPqCXvU-njx",
        "outputId": "c1bbaab6-55a2-4b71-fb0a-f39f9b2f73f9"
      },
      "outputs": [
        {
          "output_type": "stream",
          "name": "stdout",
          "text": [
            "Text for the second sample: \n",
            "Seven soldiers — including two officers — were martyred in a terrorist attack on a security forces’ post in the Mir Ali area of North Waziristan district, the Inter-Services Public Relations (ISPR) said on Saturday.Six terrorists were also neutralised in the subsequent clearance operation.According to the military’s media affairs wing, in the early hours of March 16, 2024, a group of six terrorists attacked a security forces’ post in the general area of Mir Ali of North Waziristan District.“As own troops foiled the initial attempt of intrusion, the terrorists rammed an explosives-laden vehicle into the post, followed by multiple suicide bombing attacks, which led to the collapse of a portion of a building, resulting into  (martyrdom) of five brave sons of the soil,” ISPR added.The martyrs of the initial attack include Havildar Sabir, a resident of District Khyber, Naik Khurshid  (resident of District Lakki Marwat), Sepoy Nasir (resident of District Peshawar), Sepoy Raja (resident of District Kohat) and Sepoy Sajjad (resident of District Abbottabad).“During the conduct of the ensuing clearance operation, own troops led by Lieutenant Colonel Kashif, effectively engaged and killed all six terrorists,” ISPR said.“However, during the intense exchange of fire, leading his troops from the front, Lieutenant Colonel Syed Kashif Ali (age: 39 years, resident of Karachi) and Captain Muhammad Ahmed Badar (age: 23 years, resident of District Talagang), having fought gallantly, paid the ultimate sacrifice and embraced ,” ISPR added.The military’s media wing said a sanitisation operation was being conducted to eliminate any other terrorist present in the area, “as security forces of Pakistan are determined to wipe out the menace of terrorism from the country and such sacrifices of our brave soldiers further strengthen our resolve”.The funeral of the martyrs was later held at Bannu Cantt.“The martyrs will be buried in their native areas with full military honours. However, a large number of military and civil officials, including General Officer Commanding Major General Anjum Riaz attended the funeral prayers,” the ISPR said.“Pakistan Army will continue to render sacrifices till the last drop of blood for the defence of the dear motherland,” the ISPR added.    Prime Minister Shehbaz Sharif and President Asif Ali Zardari, in separate statements, condemned the attack.The prime minister called the attack a “coward” move by the terrorists.“The security forces have foiled the sinister designs of the terrorists,” PM Sharif said, according to the prime minister’s office.“I, and the whole nation, are proud of the martyrs who sacrificed lives,” he said.He prayed for the departed souls and offered condolences to the bereaved families.President Zardari condemned the terrorist attack and extended condolences to the bereaved families.In a post on X, the head of state paid tribute to army officers and soldiers who embraced martyrdom in the attack. He also expressed the nation’s commitment to completely eradicate terrorism.The president prayed to elevate the rank of martyrs and give patience to their families.    Foreign Minister Ishaq Dar said the nation was united in combatting terrorism in all its forms.    National Assembly Speaker Sardar Ayaz Sadiq also condemned the attack.According to a post on X by the National Assembly’s official account, the speaker expressed deep sorrow and regret over the loss of precious lives, and paid tribute to the martyrs including Lt Col Kashif and Captain Ahmed.“The nation will never forget the sacrifices of its soldiers,” the statement quoted the National Assembly speaker as saying. “Terrorists are following the nefarious intentions of the enemy in which they will never succeed.”The speaker said that the entire nation was standing together with the security forces to crush the nefarious intentions of terrorists.    Pakistan has witnessed an uptick in terror activities in 2023 year, especially in KP and Balochistan after the banned militant Tehreek-i-Taliban Pakistan  with the government in November 2022.The ISPR said earlier this month 10 militants were killed in  by security forces in the North Waziristan district. It added that Pakistan expected the Afghan government to fulfil its obligations and deny the use of Afghan soil by terrorists.Last month, a late-night attack on a police station in Dera Ismail Khan was . Gunmen had mounted an attack using heavy weapons but fled in the cover of darkness when police personnel fired back.In December last year, 23 soldiers were  and more than 30 troops wounded after militants belonging to the Tehreek-i-Jihad Pakistan (TJP) stormed a compound used by the military in Dera Ismail Khan’s Daraban area.According to an annual security  issued by the Centre for Research and Security Studies, Pakistan witnessed 1,524 violence-related fatalities and 1,463 injuries from 789 terror attacks and counter-terror operations in 2023 — marking a record six-year high.KP and Balochistan were the primary centres of violence, accounting for over 90 per cent of all fatalities and 84pc of attacks, including incidents of terrorism and security forces operations.Dear visitor, the comments section is undergoing an overhaul and will return soon.\n"
          ]
        }
      ],
      "source": [
        "# inspecting the text for a sample as we are interested in text section of the file\n",
        "print(f\"Text for the second sample: \\n{dataset[0]['text']}\")"
      ]
    },
    {
      "cell_type": "markdown",
      "metadata": {
        "id": "rYTL_YhG7Axt"
      },
      "source": [
        "preprocess the text using python regular expression module\n",
        "i.e. removing special characters from the text, url removal and remvoing some extra white spaces."
      ]
    },
    {
      "cell_type": "code",
      "execution_count": 64,
      "metadata": {
        "id": "XbthiG3a_ONc"
      },
      "outputs": [],
      "source": [
        "# write a python code to clean or preprocess the text of the article\n",
        "# use regular expressions module\n",
        "import re\n",
        "\n",
        "def preprocess_text(text):\n",
        "  \"\"\"\n",
        "  preporcess the text and remove special character and urls if there are any\n",
        "\n",
        "  Parameters\n",
        "  ----------\n",
        "  text: str\n",
        "\n",
        "  Return\n",
        "  ------\n",
        "  cleaned_text: str\n",
        "  \"\"\"\n",
        "  # remove special chars and replace with none and don't remove punctuations (to keep natural language)\n",
        "  cleaned_text =  re.sub(r'[^\\w\\s\\.,!?]', '', text)\n",
        "\n",
        "  # remove urls and replace it with none space\n",
        "  cleaned_text = re.sub(r\"http\\S+\", \"\", cleaned_text)\n",
        "  # remove extra white spaces\n",
        "  cleaned_text = re.sub(r'\\s+', ' ', cleaned_text)\n",
        "  return cleaned_text.strip()\n"
      ]
    },
    {
      "cell_type": "markdown",
      "metadata": {
        "id": "Q0nfMpPo7MvG"
      },
      "source": [
        "preprocessing code testing"
      ]
    },
    {
      "cell_type": "code",
      "execution_count": 65,
      "metadata": {
        "colab": {
          "base_uri": "https://localhost:8080/"
        },
        "id": "t1RYoDK2CBvX",
        "outputId": "85c1cab1-eb70-4aeb-a1ed-a1ec75c638a8"
      },
      "outputs": [
        {
          "output_type": "stream",
          "name": "stdout",
          "text": [
            "Hello!, whats up? Visit us at Excited!!\n",
            "Whats the subscription cost of Google colab pro? its 50\n",
            "50!! 50 you can access to A100 NVIDIA GPUS, newline, new paragraph\n"
          ]
        }
      ],
      "source": [
        "# testing the preprocess_text function\n",
        "example1 = \"Hello!,  what's up? Visit us at https://example.com. #Excited!!\"\n",
        "example2 = \"What's the subscription cost of Google colab pro? it's $50\"\n",
        "example3 = \"$50!! @50 you can access to A100 NVIDIA GPUS, //newline, \\n\\n new paragraph\"\n",
        "\n",
        "print(preprocess_text(example1))\n",
        "print(preprocess_text(example2))\n",
        "print(preprocess_text(example3))\n",
        "# it seems like everyting is working well!!! we don't want to remove puncations so it's useful in\n",
        "# natural language that's why there are some puncatins chars"
      ]
    },
    {
      "cell_type": "code",
      "execution_count": 66,
      "metadata": {
        "id": "HCUoQThpDOjd"
      },
      "outputs": [],
      "source": [
        "# now loop over all the text to process it and overwrite it in the original json file\n",
        "def process_all_data(dataset):\n",
        "  \"\"\"\n",
        "  process all the data in the file that we just read in a json file\n",
        "\n",
        "  parameters\n",
        "  -----------\n",
        "  dataset: list (raw)\n",
        "\n",
        "  return\n",
        "  ------\n",
        "  dataset: list (processed)\n",
        "  \"\"\"\n",
        "  for data in dataset:\n",
        "    text = data[\"text\"]\n",
        "    processed_text = preprocess_text(text)\n",
        "    data[\"text\"] = processed_text\n",
        "  return dataset"
      ]
    },
    {
      "cell_type": "code",
      "execution_count": 67,
      "metadata": {
        "colab": {
          "base_uri": "https://localhost:8080/",
          "height": 209
        },
        "id": "dyR7T2NmPvkT",
        "outputId": "a5248981-620e-4acb-b9db-72f926b81ea7"
      },
      "outputs": [
        {
          "output_type": "stream",
          "name": "stdout",
          "text": [
            "text length: 5261\n",
            "\n"
          ]
        },
        {
          "output_type": "execute_result",
          "data": {
            "text/plain": [
              "'Seven soldiers — including two officers — were martyred in a terrorist attack on a security forces’ post in the Mir Ali area of North Waziristan district, the Inter-Services Public Relations (ISPR) said on Saturday.Six terrorists were also neutralised in the subsequent clearance operation.According to the military’s media affairs wing, in the early hours of March 16, 2024, a group of six terrorists attacked a security forces’ post in the general area of Mir Ali of North Waziristan District.“As own troops foiled the initial attempt of intrusion, the terrorists rammed an explosives-laden vehicle into the post, followed by multiple suicide bombing attacks, which led to the collapse of a portion of a building, resulting into  (martyrdom) of five brave sons of the soil,” ISPR added.The martyrs of the initial attack include Havildar Sabir, a resident of District Khyber, Naik Khurshid  (resident of District Lakki Marwat), Sepoy Nasir (resident of District Peshawar), Sepoy Raja (resident of District Kohat) and Sepoy Sajjad (resident of District Abbottabad).“During the conduct of the ensuing clearance operation, own troops led by Lieutenant Colonel Kashif, effectively engaged and killed all six terrorists,” ISPR said.“However, during the intense exchange of fire, leading his troops from the front, Lieutenant Colonel Syed Kashif Ali (age: 39 years, resident of Karachi) and Captain Muhammad Ahmed Badar (age: 23 years, resident of District Talagang), having fought gallantly, paid the ultimate sacrifice and embraced ,” ISPR added.The military’s media wing said a sanitisation operation was being conducted to eliminate any other terrorist present in the area, “as security forces of Pakistan are determined to wipe out the menace of terrorism from the country and such sacrifices of our brave soldiers further strengthen our resolve”.The funeral of the martyrs was later held at Bannu Cantt.“The martyrs will be buried in their native areas with full military honours. However, a large number of military and civil officials, including General Officer Commanding Major General Anjum Riaz attended the funeral prayers,” the ISPR said.“Pakistan Army will continue to render sacrifices till the last drop of blood for the defence of the dear motherland,” the ISPR added.    Prime Minister Shehbaz Sharif and President Asif Ali Zardari, in separate statements, condemned the attack.The prime minister called the attack a “coward” move by the terrorists.“The security forces have foiled the sinister designs of the terrorists,” PM Sharif said, according to the prime minister’s office.“I, and the whole nation, are proud of the martyrs who sacrificed lives,” he said.He prayed for the departed souls and offered condolences to the bereaved families.President Zardari condemned the terrorist attack and extended condolences to the bereaved families.In a post on X, the head of state paid tribute to army officers and soldiers who embraced martyrdom in the attack. He also expressed the nation’s commitment to completely eradicate terrorism.The president prayed to elevate the rank of martyrs and give patience to their families.    Foreign Minister Ishaq Dar said the nation was united in combatting terrorism in all its forms.    National Assembly Speaker Sardar Ayaz Sadiq also condemned the attack.According to a post on X by the National Assembly’s official account, the speaker expressed deep sorrow and regret over the loss of precious lives, and paid tribute to the martyrs including Lt Col Kashif and Captain Ahmed.“The nation will never forget the sacrifices of its soldiers,” the statement quoted the National Assembly speaker as saying. “Terrorists are following the nefarious intentions of the enemy in which they will never succeed.”The speaker said that the entire nation was standing together with the security forces to crush the nefarious intentions of terrorists.    Pakistan has witnessed an uptick in terror activities in 2023 year, especially in KP and Balochistan after the banned militant Tehreek-i-Taliban Pakistan  with the government in November 2022.The ISPR said earlier this month 10 militants were killed in  by security forces in the North Waziristan district. It added that Pakistan expected the Afghan government to fulfil its obligations and deny the use of Afghan soil by terrorists.Last month, a late-night attack on a police station in Dera Ismail Khan was . Gunmen had mounted an attack using heavy weapons but fled in the cover of darkness when police personnel fired back.In December last year, 23 soldiers were  and more than 30 troops wounded after militants belonging to the Tehreek-i-Jihad Pakistan (TJP) stormed a compound used by the military in Dera Ismail Khan’s Daraban area.According to an annual security  issued by the Centre for Research and Security Studies, Pakistan witnessed 1,524 violence-related fatalities and 1,463 injuries from 789 terror attacks and counter-terror operations in 2023 — marking a record six-year high.KP and Balochistan were the primary centres of violence, accounting for over 90 per cent of all fatalities and 84pc of attacks, including incidents of terrorism and security forces operations.Dear visitor, the comments section is undergoing an overhaul and will return soon.'"
            ],
            "application/vnd.google.colaboratory.intrinsic+json": {
              "type": "string"
            }
          },
          "metadata": {},
          "execution_count": 67
        }
      ],
      "source": [
        "# dataset before preprocessing\n",
        "\n",
        "# print(dataset[0]['text'])\n",
        "print(f\"text length: {len(dataset[0]['text'])}\\n\")\n",
        "dataset[0]['text']"
      ]
    },
    {
      "cell_type": "code",
      "execution_count": 68,
      "metadata": {
        "id": "RBb71h8zPTDe"
      },
      "outputs": [],
      "source": [
        "# preprocess all data\n",
        "dataset = process_all_data(dataset)"
      ]
    },
    {
      "cell_type": "code",
      "execution_count": 69,
      "metadata": {
        "colab": {
          "base_uri": "https://localhost:8080/",
          "height": 174
        },
        "id": "ZFuDPhz3PYow",
        "outputId": "94315be5-a1ed-4e04-bf5d-7646c2360912"
      },
      "outputs": [
        {
          "output_type": "execute_result",
          "data": {
            "text/plain": [
              "'Seven soldiers including two officers were martyred in a terrorist attack on a security forces post in the Mir Ali area of North Waziristan district, the InterServices Public Relations ISPR said on Saturday.Six terrorists were also neutralised in the subsequent clearance operation.According to the militarys media affairs wing, in the early hours of March 16, 2024, a group of six terrorists attacked a security forces post in the general area of Mir Ali of North Waziristan District.As own troops foiled the initial attempt of intrusion, the terrorists rammed an explosivesladen vehicle into the post, followed by multiple suicide bombing attacks, which led to the collapse of a portion of a building, resulting into martyrdom of five brave sons of the soil, ISPR added.The martyrs of the initial attack include Havildar Sabir, a resident of District Khyber, Naik Khurshid resident of District Lakki Marwat, Sepoy Nasir resident of District Peshawar, Sepoy Raja resident of District Kohat and Sepoy Sajjad resident of District Abbottabad.During the conduct of the ensuing clearance operation, own troops led by Lieutenant Colonel Kashif, effectively engaged and killed all six terrorists, ISPR said.However, during the intense exchange of fire, leading his troops from the front, Lieutenant Colonel Syed Kashif Ali age 39 years, resident of Karachi and Captain Muhammad Ahmed Badar age 23 years, resident of District Talagang, having fought gallantly, paid the ultimate sacrifice and embraced , ISPR added.The militarys media wing said a sanitisation operation was being conducted to eliminate any other terrorist present in the area, as security forces of Pakistan are determined to wipe out the menace of terrorism from the country and such sacrifices of our brave soldiers further strengthen our resolve.The funeral of the martyrs was later held at Bannu Cantt.The martyrs will be buried in their native areas with full military honours. However, a large number of military and civil officials, including General Officer Commanding Major General Anjum Riaz attended the funeral prayers, the ISPR said.Pakistan Army will continue to render sacrifices till the last drop of blood for the defence of the dear motherland, the ISPR added. Prime Minister Shehbaz Sharif and President Asif Ali Zardari, in separate statements, condemned the attack.The prime minister called the attack a coward move by the terrorists.The security forces have foiled the sinister designs of the terrorists, PM Sharif said, according to the prime ministers office.I, and the whole nation, are proud of the martyrs who sacrificed lives, he said.He prayed for the departed souls and offered condolences to the bereaved families.President Zardari condemned the terrorist attack and extended condolences to the bereaved families.In a post on X, the head of state paid tribute to army officers and soldiers who embraced martyrdom in the attack. He also expressed the nations commitment to completely eradicate terrorism.The president prayed to elevate the rank of martyrs and give patience to their families. Foreign Minister Ishaq Dar said the nation was united in combatting terrorism in all its forms. National Assembly Speaker Sardar Ayaz Sadiq also condemned the attack.According to a post on X by the National Assemblys official account, the speaker expressed deep sorrow and regret over the loss of precious lives, and paid tribute to the martyrs including Lt Col Kashif and Captain Ahmed.The nation will never forget the sacrifices of its soldiers, the statement quoted the National Assembly speaker as saying. Terrorists are following the nefarious intentions of the enemy in which they will never succeed.The speaker said that the entire nation was standing together with the security forces to crush the nefarious intentions of terrorists. Pakistan has witnessed an uptick in terror activities in 2023 year, especially in KP and Balochistan after the banned militant TehreekiTaliban Pakistan with the government in November 2022.The ISPR said earlier this month 10 militants were killed in by security forces in the North Waziristan district. It added that Pakistan expected the Afghan government to fulfil its obligations and deny the use of Afghan soil by terrorists.Last month, a latenight attack on a police station in Dera Ismail Khan was . Gunmen had mounted an attack using heavy weapons but fled in the cover of darkness when police personnel fired back.In December last year, 23 soldiers were and more than 30 troops wounded after militants belonging to the TehreekiJihad Pakistan TJP stormed a compound used by the military in Dera Ismail Khans Daraban area.According to an annual security issued by the Centre for Research and Security Studies, Pakistan witnessed 1,524 violencerelated fatalities and 1,463 injuries from 789 terror attacks and counterterror operations in 2023 marking a record sixyear high.KP and Balochistan were the primary centres of violence, accounting for over 90 per cent of all fatalities and 84pc of attacks, including incidents of terrorism and security forces operations.Dear visitor, the comments section is undergoing an overhaul and will return soon.'"
            ],
            "application/vnd.google.colaboratory.intrinsic+json": {
              "type": "string"
            }
          },
          "metadata": {},
          "execution_count": 69
        }
      ],
      "source": [
        "# dataset after preprocessing\n",
        "\n",
        "dataset[0]['text']"
      ]
    },
    {
      "cell_type": "markdown",
      "metadata": {
        "id": "5aCQtDnT7S1c"
      },
      "source": [
        "enable save_file when you are runing first time, so the preprocessed data should be stored in a seperate json file. And then disable the flag, so you don't run it again."
      ]
    },
    {
      "cell_type": "code",
      "execution_count": null,
      "metadata": {
        "id": "8GA2OM2LPa8Z"
      },
      "outputs": [],
      "source": [
        "# saving the processed dataset in the json file so we can access it later for LLM\n",
        "\n",
        "# Write the updated JSON back to the file\n",
        "save_file = False # once saved please switch to false mode to disable saving again if you run this cell mistakenly\n",
        "if save_file:\n",
        "  with open('dawn_pakistan_processed.json', 'w') as file:\n",
        "      json.dump(dataset, file, indent=4)  # indent for pretty printing"
      ]
    },
    {
      "cell_type": "code",
      "execution_count": 70,
      "metadata": {
        "colab": {
          "base_uri": "https://localhost:8080/"
        },
        "id": "n3qVVfH_LO0v",
        "outputId": "cc1a2e75-2138-43f9-8bd2-e1a11c86a644"
      },
      "outputs": [
        {
          "output_type": "stream",
          "name": "stdout",
          "text": [
            "cleaned_file.csv    dawn_pakistan_processed.json      qag_end2end_logger.log\n",
            "dawn_pakistan.json  dawn_pakistan_processed_t5_small  qa_pairs_new.csv\n"
          ]
        }
      ],
      "source": [
        "%ls"
      ]
    },
    {
      "cell_type": "markdown",
      "metadata": {
        "id": "kzJqYV45xOJn"
      },
      "source": [
        "**Llama2**\n",
        "\n",
        "The Llama 2 is a collection of pretrained and fine-tuned generative text models, ranging from 7 billion to 70 billion parameters, designed for dialogue use cases.\n",
        "\n",
        "It outperforms open-source chat models on most benchmarks and is on par with popular closed-source models in human evaluations for helpfulness and safety."
      ]
    },
    {
      "cell_type": "markdown",
      "metadata": {
        "id": "hsUOfX4kxfOS"
      },
      "source": [
        "**Quantized Models from the Hugging Face Community**\n",
        "\n",
        "The Hugging Face community provides quantized models, which allow us to efficiently and effectively utilize the model on the T4 GPU. It is important to consult reliable sources before using any model.\n",
        "\n",
        "There are several variations available, but the ones that interest us are based on the GGLM library."
      ]
    },
    {
      "cell_type": "code",
      "execution_count": null,
      "metadata": {
        "id": "x-U1ZUk9yD0T"
      },
      "outputs": [],
      "source": [
        "# if below installation does not work, run this cell.\n",
        "import locale\n",
        "locale.getpreferredencoding = lambda: \"UTF-8\""
      ]
    },
    {
      "cell_type": "code",
      "execution_count": null,
      "metadata": {
        "id": "GlF16baYxb2b"
      },
      "outputs": [],
      "source": [
        "# install all the required packatges for llama2\n",
        "# GPU llama-cpp-python\n",
        "# the installation may take some time.\n",
        "# ignore the warnings\n",
        "!CMAKE_ARGS=\"-DLLAMA_CUBLAS=on\" FORCE_CMAKE=1 pip install llama-cpp-python==0.1.78 numpy==1.23.4 --force-reinstall --upgrade --no-cache-dir --verbose\n",
        "!pip install huggingface_hub\n",
        "!pip install llama-cpp-python==0.1.78\n",
        "!pip install numpy==1.23.4"
      ]
    },
    {
      "cell_type": "code",
      "execution_count": 104,
      "metadata": {
        "id": "1s4N_A7hyOPY"
      },
      "outputs": [],
      "source": [
        "# model details\n",
        "model_name_or_path = \"TheBloke/Llama-2-13B-chat-GGML\"\n",
        "model_basename = \"llama-2-13b-chat.ggmlv3.q5_1.bin\""
      ]
    },
    {
      "cell_type": "code",
      "execution_count": 105,
      "metadata": {
        "id": "SJlYYBCFyW4W"
      },
      "outputs": [],
      "source": [
        "# import all teh required packages for llama2 generator\n",
        "from huggingface_hub import hf_hub_download\n",
        "from llama_cpp import Llama"
      ]
    },
    {
      "cell_type": "code",
      "execution_count": 106,
      "metadata": {
        "colab": {
          "base_uri": "https://localhost:8080/",
          "height": 173,
          "referenced_widgets": [
            "0a6da097ab964037a8a822df8934af3e",
            "b56b913664d44026a387a916e5903d99",
            "75fc8e796b4d4be6a457d4e09289c948",
            "63a39f54ca7c430581e2d990c4cec71a",
            "7ea8afde23fd4c869adf682057c2e52f",
            "7bd19e62ab774251b0e4e758e67e2e64",
            "3cf030a752d142859b87f80a04066d99",
            "f605056418594573b56f63fa96f44d2e",
            "b3b2f3cc1f644db997fcc4c126dd553b",
            "97f061baf9be4a258cec3d0bde6c3417",
            "56d13a0de5c445169a52608d81402a6c"
          ]
        },
        "id": "0SbhXHquyrUv",
        "outputId": "c2b38ad8-70c2-453a-f6de-dd04a8ac1c7d"
      },
      "outputs": [
        {
          "output_type": "stream",
          "name": "stderr",
          "text": [
            "/usr/local/lib/python3.10/dist-packages/huggingface_hub/utils/_token.py:88: UserWarning: \n",
            "The secret `HF_TOKEN` does not exist in your Colab secrets.\n",
            "To authenticate with the Hugging Face Hub, create a token in your settings tab (https://huggingface.co/settings/tokens), set it as secret in your Google Colab and restart your session.\n",
            "You will be able to reuse this secret in all of your notebooks.\n",
            "Please note that authentication is recommended but still optional to access public models or datasets.\n",
            "  warnings.warn(\n"
          ]
        },
        {
          "output_type": "display_data",
          "data": {
            "text/plain": [
              "llama-2-13b-chat.ggmlv3.q5_1.bin:   0%|          | 0.00/9.76G [00:00<?, ?B/s]"
            ],
            "application/vnd.jupyter.widget-view+json": {
              "version_major": 2,
              "version_minor": 0,
              "model_id": "0a6da097ab964037a8a822df8934af3e"
            }
          },
          "metadata": {}
        }
      ],
      "source": [
        "# download the model\n",
        "# this may take some time as it is fetching weights and model config from huggingface\n",
        "model_path = hf_hub_download(repo_id=model_name_or_path, filename=model_basename)"
      ]
    },
    {
      "cell_type": "code",
      "execution_count": null,
      "metadata": {
        "id": "FJsN5lY8yvMo"
      },
      "outputs": [],
      "source": [
        "# loading the model now\n",
        "# may take 30-40 secs on tesla t4 colab gpu\n",
        "lcpp_llm = None\n",
        "lcpp_llm = Llama(\n",
        "    model_path=model_path,\n",
        "    n_threads=2, # CPU cores\n",
        "    n_batch=512,\n",
        "    n_gpu_layers=32\n",
        "    )"
      ]
    },
    {
      "cell_type": "code",
      "execution_count": 108,
      "metadata": {
        "colab": {
          "base_uri": "https://localhost:8080/"
        },
        "id": "Lmilc8VAzEMW",
        "outputId": "4400185f-f499-4fa9-98b7-d2b7efb757b6"
      },
      "outputs": [
        {
          "output_type": "execute_result",
          "data": {
            "text/plain": [
              "32"
            ]
          },
          "metadata": {},
          "execution_count": 108
        }
      ],
      "source": [
        "# See the number of layers in GPU\n",
        "lcpp_llm.params.n_gpu_layers"
      ]
    },
    {
      "cell_type": "code",
      "execution_count": 109,
      "metadata": {
        "id": "zHxYXrFxzHjS"
      },
      "outputs": [],
      "source": [
        "# prompt creation, the prompt can be optimized for accurate reponse if needed.\n",
        "####################################################################################################\n",
        "text1 = \"\"\"Pakistan, officially the Islamic Republic of Pakistan, is a country in South Asia.\n",
        "It is the fifth-most populous country, with a population of over 241.5 million, having the second-largest Muslim population as of 2023.\n",
        "Islamabad is the nation's capital, while Karachi is its largest city and financial centre.\"\"\"\n",
        "\n",
        "text2 = '''\n",
        "Karachi is the capital city of the Pakistani province of Sindh.\n",
        "It is the largest city in Pakistan and the 12th largest in the world, with a population of over 20 million.\n",
        "It is situated at the southern tip of the country along the Arabian Sea coast and formerly served as the capital of Pakistan\n",
        "'''\n",
        "text3 = '''\n",
        "LangChain is a framework designed to simplify the creation of applications using large language models.\n",
        "As a language model integration framework,\n",
        "LangChain's use-cases largely overlap with those of language models in general,\n",
        "including document analysis and summarization, chatbots, and code analysis.\n",
        "'''\n",
        "\n",
        "\n",
        "###################################################################################################\n",
        "prompt_template=f'''SYSTEM: You are a helpful, respectful and honest assistant for QA data acquisition.\n",
        "    Generate question and answer pairs using the infromation from the USER text below.\n",
        "    Generate your own questions from the context below and then generate answers from the text for each question\n",
        "    you generated.\n",
        "\n",
        "\n",
        "USER: {text}\n",
        "\n",
        "ASSISTANT:\n",
        "'''"
      ]
    },
    {
      "cell_type": "code",
      "execution_count": 110,
      "metadata": {
        "colab": {
          "base_uri": "https://localhost:8080/"
        },
        "id": "9Wac0_dLz2eA",
        "outputId": "018f76f6-8d62-4c73-eb7c-e33873495f95"
      },
      "outputs": [
        {
          "output_type": "stream",
          "name": "stdout",
          "text": [
            "SYSTEM: You are a helpful, respectful and honest assistant for QA data acquisition.\n",
            "    Generate question and answer pairs using the infromation from the USER text below.\n",
            "    Generate your own questions from the context below and then generate answers from the text for each question\n",
            "    you generated.\n",
            "\n",
            "\n",
            "USER: \n",
            "Pakistan, officially the Islamic Republic of Pakistan, is a country in South Asia.\n",
            "It is the fifth-most populous country, with a population of over 241.5 million,\n",
            "having the second-largest Muslim population as of 2023.\n",
            "Islamabad is the nation's capital, while Karachi is its largest city and financial centre.\n",
            "\n",
            "\n",
            "ASSISTANT:\n",
            "\n"
          ]
        }
      ],
      "source": [
        "# print prompt template\n",
        "print(prompt_template)"
      ]
    },
    {
      "cell_type": "code",
      "execution_count": 111,
      "metadata": {
        "id": "tyTFaQMM0NpZ"
      },
      "outputs": [],
      "source": [
        "# now generate the reponse for the given prompt\n",
        "# changing some parameters may improve the performance\n",
        "# first time the generation may take time and then it will be a little faster.\n",
        "response=lcpp_llm(prompt=prompt_template, max_tokens=256, temperature=0.5, top_p=0.95,\n",
        "                  repeat_penalty=1.2, top_k=150,\n",
        "                  echo=False)"
      ]
    },
    {
      "cell_type": "code",
      "execution_count": 112,
      "metadata": {
        "id": "rAv4uuiZ0sbU",
        "colab": {
          "base_uri": "https://localhost:8080/"
        },
        "outputId": "efcde0b8-7020-408f-ae45-eb2719e8af24"
      },
      "outputs": [
        {
          "output_type": "stream",
          "name": "stdout",
          "text": [
            "What is Pakistan's official name?\n",
            "Answer: Islamic Republic of Pakistan.\n",
            "\n",
            "How many people live in Pakistan?\n",
            "Answer: Over 241.5 million as of 2023.\n",
            "\n",
            "What is the capital of Pakistan?\n",
            "Answer: Islamabad.\n",
            "\n",
            "What is the largest city and financial center of Pakistan?\n",
            "Answer: Karachi.\n"
          ]
        }
      ],
      "source": [
        "# show the model completion\n",
        "print(response[\"choices\"][0][\"text\"])"
      ]
    },
    {
      "cell_type": "code",
      "execution_count": 113,
      "metadata": {
        "id": "ZlBAbm8z7nsY"
      },
      "outputs": [],
      "source": [
        "# llama2 llm\n",
        "def llama2(prompt):\n",
        "    # language model processing logic\n",
        "    response = lcpp_llm(prompt=prompt, max_tokens=256, temperature=0.4, top_p=0.95,\n",
        "                  repeat_penalty=1.2, top_k=150,\n",
        "                  echo=False)\n",
        "    llm_completion = response[\"choices\"][0][\"text\"]  # Retrieving generated text only\n",
        "\n",
        "    return llm_completion\n"
      ]
    },
    {
      "cell_type": "code",
      "execution_count": null,
      "metadata": {
        "id": "YFQM2jxWDxdD"
      },
      "outputs": [],
      "source": [
        "# intall langchain text splitter as we want to split long artilces into more managle parts\n",
        "!pip install -qU langchain-text-splitters"
      ]
    },
    {
      "cell_type": "code",
      "execution_count": 115,
      "metadata": {
        "id": "Z6vyWSFgDrJi"
      },
      "outputs": [],
      "source": [
        "import csv\n",
        "\n",
        "\n",
        "def find_questions_indices(data):\n",
        "  '''\n",
        "  find question \"?\" identifiers index in the list\n",
        "\n",
        "  parameters\n",
        "  ----------\n",
        "  data: list\n",
        "\n",
        "  return:\n",
        "  ------\n",
        "  first_question_index: int\n",
        "  last_question_index: int\n",
        "  '''\n",
        "  first_question_index = None\n",
        "  last_question_index = None\n",
        "\n",
        "  # Iterate through the list\n",
        "  for i, item in enumerate(data):\n",
        "      if item.endswith('?') or '?' in item:\n",
        "          # If first_question_index is None, set it to the current index\n",
        "          if first_question_index is None:\n",
        "              first_question_index = i\n",
        "          # Update last_question_index to the current index\n",
        "          last_question_index = i\n",
        "  return (first_question_index, last_question_index)\n",
        "\n",
        "\n",
        "def has_consecutive_ones(lst):\n",
        "  '''\n",
        "  find if the completion contains all the questions when no answer generated.\n",
        "\n",
        "  parameters\n",
        "  ----------\n",
        "  lst: list\n",
        "\n",
        "  return\n",
        "  ------\n",
        "  var: bool\n",
        "  '''\n",
        "  for i in range(len(lst) - 1):\n",
        "      if lst[i] == 1 and lst[i + 1] == 1:\n",
        "          return True\n",
        "  return False\n",
        "\n",
        "def post_process_text(llm_completion):\n",
        "  '''\n",
        "  process the llm completion to generate question answer pairs and save them in a csv file\n",
        "\n",
        "  parameters\n",
        "  ----------\n",
        "  llm_completion: str\n",
        "\n",
        "  return\n",
        "  ------\n",
        "  None\n",
        "  '''\n",
        "  qa_list = llm_completion.split('\\n') # separte each line of completion qa\n",
        "\n",
        "  # remove first entry as it is just the model response not actual qa\n",
        "  qa_list.pop(0)\n",
        "  # remove empty items\n",
        "  qa_list = [item for item in qa_list if item]\n",
        "  # find first and last question indices\n",
        "  first_question_ind, last_question_ind = find_questions_indices(qa_list)\n",
        "  # get disired qa pairs\n",
        "  qa_data = qa_list[first_question_ind: last_question_ind+2]\n",
        "  # keep only quetions and answer and remove anything else\n",
        "  data = [item[item.rfind(\":\") + 1:].strip() if \":\" in  item\n",
        "        else item[item.rfind(\".\") + 1:].strip() if \".\" in item\n",
        "        else item[item.rfind(\")\") + 1:].strip() if \")\" in item\n",
        "        else item.strip() for item in qa_data]\n",
        "\n",
        "  # checking if model is generating questions only then don't save in csv\n",
        "  data_items = [1 if '?' in item else 0 for item in data]\n",
        "\n",
        "  only_questions = has_consecutive_ones(data_items)\n",
        "  if only_questions:\n",
        "    # don't store anything in this case\n",
        "    pass\n",
        "  else:\n",
        "    # create qa pairs\n",
        "    print('writing output to csv..')\n",
        "    # should be even number of pairs\n",
        "    if len(data) % 2 != 0:\n",
        "      data.pop(-1)\n",
        "      qa_pairs = [(data[i], data[i+1]) for i in range(0, len(data), 2)]\n",
        "    else:\n",
        "      qa_pairs = [(data[i], data[i+1]) for i in range(0, len(data), 2)]\n",
        "\n",
        "    # write to csv file\n",
        "    file_path = 'qa_pairs.csv'\n",
        "\n",
        "    if not os.path.exists(file_path):\n",
        "        with open(file_path, 'w', newline='', encoding='utf-8') as file:\n",
        "            writer = csv.writer(file)\n",
        "            # Write header row\n",
        "            writer.writerow(['Question', 'Answer'])\n",
        "\n",
        "    # append data\n",
        "    with open(file_path, 'a', newline='', encoding='utf-8') as file:\n",
        "        writer = csv.writer(file)\n",
        "        writer.writerows(qa_pairs)"
      ]
    },
    {
      "cell_type": "code",
      "execution_count": 116,
      "metadata": {
        "id": "k334CJ94QFNy"
      },
      "outputs": [],
      "source": [
        "# using logger to log output of llm in a file to see\n",
        "#it's generation completion. Somtimes it return qa paris and sometimes only quetions\n",
        "# this logged file will help understand the model behaviour\n",
        "\n",
        "import logging\n",
        "logger = logging.getLogger(__name__)\n",
        "logger.setLevel(logging.INFO)\n",
        "\n",
        "file_handler = logging.FileHandler(filename= \"qag_end2end_logger.log\")\n",
        "formatter = logging.Formatter(fmt= \"%(asctime)s: %(message)s\", datefmt= '%Y-%m-%d %H:%M:%S')\n",
        "file_handler.setFormatter(formatter)\n",
        "\n",
        "logger.addHandler(file_handler)"
      ]
    },
    {
      "cell_type": "code",
      "execution_count": 117,
      "metadata": {
        "id": "xopoaDaRDfEG"
      },
      "outputs": [],
      "source": [
        "# split the long passage into managable chunks\n",
        "# if the window context size is limited.\n",
        "from langchain_text_splitters import RecursiveCharacterTextSplitter\n",
        "\n",
        "text_splitter = RecursiveCharacterTextSplitter(\n",
        "    # Set a really small chunk size, just to show.\n",
        "    chunk_size=500, # do change this to see the effect\n",
        "    chunk_overlap=0,\n",
        "    length_function=len,\n",
        "    is_separator_regex=False,\n",
        ")\n",
        "\n",
        "def qa_generator(text):\n",
        "  '''\n",
        "  takes the paragraph text and generate model completion and then post process the completion\n",
        "  to generate QA data\n",
        "\n",
        "  parameters\n",
        "  ----------\n",
        "  text: str\n",
        "\n",
        "  return\n",
        "  ------\n",
        "  None\n",
        "  '''\n",
        "\n",
        "  # prompt\n",
        "  prompt=f'''SYSTEM: You are a helpful, respectful and honest assistant for QA data acquisition.\n",
        "    Generate question and answer pairs using the infromation from the USER text below.\n",
        "    Generate your own questions from the context below and then generate answers from the text for each question\n",
        "    you generated.\n",
        "  '''\n",
        "  # complte prompt: text ingested in the prompt\n",
        "  prompt_template = prompt + f\"\\n\\nUSER: {text} \\n\\nASSITANT:\"\n",
        "  # invoke llm (llama2)\n",
        "  generated_text = llama2(prompt_template)\n",
        "  # logg model completion for now\n",
        "  logger.info(generated_text)\n",
        "  # process the completion and write the qa pairs in a csv file\n",
        "  post_process_text(generated_text)\n",
        "\n",
        "\n",
        "\n",
        "def create_qa(dataset, text_splitter):\n",
        "  '''\n",
        "  run the llm over the json file, and store the respone in a csv file\n",
        "  if the articles that are published should be marked so they don't be explored again\n",
        "\n",
        "  parameters\n",
        "  ----------\n",
        "  dataset: list[dict]\n",
        "  text_splitter: Module from langchain\n",
        "\n",
        "  return:\n",
        "  ------\n",
        "  None\n",
        "  '''\n",
        "  # iterate over all the json entries\n",
        "  for data in dataset:\n",
        "    # don't process articles that have already been explored by llm\n",
        "    if 'processed_article' in data.keys():\n",
        "      if data['processed_article']:\n",
        "        print('News article already processed!')\n",
        "    else:\n",
        "      # reterive text\n",
        "      text = data['text']\n",
        "      # chunk the text as the text is bit longer in each article\n",
        "      # longer text takes time and llm context window can't process all at once becasue of limited context size for some llm\n",
        "      # split into 500 chars with 0 overlap\n",
        "      chunks_list = text_splitter.split_text(text)\n",
        "\n",
        "      # iterate over each chunk\n",
        "      for text_chunk in chunks_list:\n",
        "        # genrate qa\n",
        "        qa_generator(text_chunk)\n",
        "      # this flag helps identify the articles already processed by an llm\n",
        "      # so we don't repeat it again.\n",
        "      data['processed_article'] = True\n",
        "      # overwrite the update json file, so next time read this file when notebook crahes and doing\n",
        "      # processing again\n",
        "      with open('dawn_pakistan_processed', 'w') as file:\n",
        "        json.dump(dataset, file, indent = 4)\n"
      ]
    },
    {
      "cell_type": "code",
      "execution_count": 118,
      "metadata": {
        "colab": {
          "base_uri": "https://localhost:8080/"
        },
        "id": "5KKOoiwwFx22",
        "outputId": "0e7c266d-9160-47e9-aca9-23069a0567c2"
      },
      "outputs": [
        {
          "output_type": "stream",
          "name": "stdout",
          "text": [
            "SYSTEM: You are a helpful, respectful and honest assistant for QA data acquisition.\n",
            "Generate question and answer pairs using the infromation from the USER text below.\n",
            "Generate your own questions from the context below and then generate answers from the text for each question\n",
            "you generated.\n",
            "\n",
            "\n",
            "USER: Pakistan, officially the Islamic Republic of Pakistan, is a country in South Asia.\n",
            "It is the fifth-most populous country, with a population of over 241.5 million, having the second-largest Muslim population as of 2023.\n",
            "Islamabad is the nation's capital, while Karachi is its largest city and financial centre. \n",
            "\n",
            "ASSITANT:\n"
          ]
        }
      ],
      "source": [
        "# creating a prompt template to used later for generation stage\n",
        "# feel free to improve it.\n",
        "# prompt test\n",
        "prompt=f'''SYSTEM: You are a helpful, respectful and honest assistant for QA data acquisition.\n",
        "Generate question and answer pairs using the infromation from the USER text below.\n",
        "Generate your own questions from the context below and then generate answers from the text for each question\n",
        "you generated.\n",
        "'''\n",
        "prompt_template = prompt + f\"\\n\\nUSER: {text1} \\n\\nASSITANT:\"\n",
        "print(prompt_template)"
      ]
    },
    {
      "cell_type": "code",
      "execution_count": 119,
      "metadata": {
        "colab": {
          "base_uri": "https://localhost:8080/",
          "height": 174
        },
        "id": "gULF8bP0JK_U",
        "outputId": "0d29f442-6d56-41b5-8b8a-f8a0740f832b"
      },
      "outputs": [
        {
          "output_type": "execute_result",
          "data": {
            "text/plain": [
              "'Seven soldiers including two officers were martyred in a terrorist attack on a security forces post in the Mir Ali area of North Waziristan district, the InterServices Public Relations ISPR said on Saturday.Six terrorists were also neutralised in the subsequent clearance operation.According to the militarys media affairs wing, in the early hours of March 16, 2024, a group of six terrorists attacked a security forces post in the general area of Mir Ali of North Waziristan District.As own troops foiled the initial attempt of intrusion, the terrorists rammed an explosivesladen vehicle into the post, followed by multiple suicide bombing attacks, which led to the collapse of a portion of a building, resulting into martyrdom of five brave sons of the soil, ISPR added.The martyrs of the initial attack include Havildar Sabir, a resident of District Khyber, Naik Khurshid resident of District Lakki Marwat, Sepoy Nasir resident of District Peshawar, Sepoy Raja resident of District Kohat and Sepoy Sajjad resident of District Abbottabad.During the conduct of the ensuing clearance operation, own troops led by Lieutenant Colonel Kashif, effectively engaged and killed all six terrorists, ISPR said.However, during the intense exchange of fire, leading his troops from the front, Lieutenant Colonel Syed Kashif Ali age 39 years, resident of Karachi and Captain Muhammad Ahmed Badar age 23 years, resident of District Talagang, having fought gallantly, paid the ultimate sacrifice and embraced , ISPR added.The militarys media wing said a sanitisation operation was being conducted to eliminate any other terrorist present in the area, as security forces of Pakistan are determined to wipe out the menace of terrorism from the country and such sacrifices of our brave soldiers further strengthen our resolve.The funeral of the martyrs was later held at Bannu Cantt.The martyrs will be buried in their native areas with full military honours. However, a large number of military and civil officials, including General Officer Commanding Major General Anjum Riaz attended the funeral prayers, the ISPR said.Pakistan Army will continue to render sacrifices till the last drop of blood for the defence of the dear motherland, the ISPR added. Prime Minister Shehbaz Sharif and President Asif Ali Zardari, in separate statements, condemned the attack.The prime minister called the attack a coward move by the terrorists.The security forces have foiled the sinister designs of the terrorists, PM Sharif said, according to the prime ministers office.I, and the whole nation, are proud of the martyrs who sacrificed lives, he said.He prayed for the departed souls and offered condolences to the bereaved families.President Zardari condemned the terrorist attack and extended condolences to the bereaved families.In a post on X, the head of state paid tribute to army officers and soldiers who embraced martyrdom in the attack. He also expressed the nations commitment to completely eradicate terrorism.The president prayed to elevate the rank of martyrs and give patience to their families. Foreign Minister Ishaq Dar said the nation was united in combatting terrorism in all its forms. National Assembly Speaker Sardar Ayaz Sadiq also condemned the attack.According to a post on X by the National Assemblys official account, the speaker expressed deep sorrow and regret over the loss of precious lives, and paid tribute to the martyrs including Lt Col Kashif and Captain Ahmed.The nation will never forget the sacrifices of its soldiers, the statement quoted the National Assembly speaker as saying. Terrorists are following the nefarious intentions of the enemy in which they will never succeed.The speaker said that the entire nation was standing together with the security forces to crush the nefarious intentions of terrorists. Pakistan has witnessed an uptick in terror activities in 2023 year, especially in KP and Balochistan after the banned militant TehreekiTaliban Pakistan with the government in November 2022.The ISPR said earlier this month 10 militants were killed in by security forces in the North Waziristan district. It added that Pakistan expected the Afghan government to fulfil its obligations and deny the use of Afghan soil by terrorists.Last month, a latenight attack on a police station in Dera Ismail Khan was . Gunmen had mounted an attack using heavy weapons but fled in the cover of darkness when police personnel fired back.In December last year, 23 soldiers were and more than 30 troops wounded after militants belonging to the TehreekiJihad Pakistan TJP stormed a compound used by the military in Dera Ismail Khans Daraban area.According to an annual security issued by the Centre for Research and Security Studies, Pakistan witnessed 1,524 violencerelated fatalities and 1,463 injuries from 789 terror attacks and counterterror operations in 2023 marking a record sixyear high.KP and Balochistan were the primary centres of violence, accounting for over 90 per cent of all fatalities and 84pc of attacks, including incidents of terrorism and security forces operations.Dear visitor, the comments section is undergoing an overhaul and will return soon.'"
            ],
            "application/vnd.google.colaboratory.intrinsic+json": {
              "type": "string"
            }
          },
          "metadata": {},
          "execution_count": 119
        }
      ],
      "source": [
        "# reading process json file (that includes processed dataset i.e. no speical chars and urls)\n",
        "\n",
        "# must run this cell to use dataset later\n",
        "preprocessed_data = 'dawn_pakistan_processed.json'\n",
        "with open(preprocessed_data) as f:\n",
        "  dataset = json.load(f)\n",
        "dataset[0]['text']"
      ]
    },
    {
      "cell_type": "code",
      "execution_count": 120,
      "metadata": {
        "id": "jXWT6jlUJIXG"
      },
      "outputs": [],
      "source": [
        "# run the piple line\n",
        "# llam2 is too slow, it can not be used for qa generation\n",
        "run_llama2 = False\n",
        "if run_llama2:\n",
        "  # use preporcessed data and text splitter to generate qa\n",
        "  create_qa(dataset, text_splitter)"
      ]
    },
    {
      "cell_type": "code",
      "execution_count": null,
      "metadata": {
        "colab": {
          "base_uri": "https://localhost:8080/",
          "height": 206
        },
        "id": "IfVD1K0suvGe",
        "outputId": "db8d577e-1398-4c22-ed3e-b222f59b01ba"
      },
      "outputs": [
        {
          "data": {
            "application/vnd.google.colaboratory.intrinsic+json": {
              "summary": "{\n  \"name\": \"df\",\n  \"rows\": 56,\n  \"fields\": [\n    {\n      \"column\": \"Question\",\n      \"properties\": {\n        \"dtype\": \"string\",\n        \"num_unique_values\": 56,\n        \"samples\": [\n          \"How many soldiers were martyred in the terrorist attack?\",\n          \"Who were the martyrs of the initial attack?\",\n          \"In which years did Pakistan witness an uptick in terror activities?\"\n        ],\n        \"semantic_type\": \"\",\n        \"description\": \"\"\n      }\n    },\n    {\n      \"column\": \"Answer\",\n      \"properties\": {\n        \"dtype\": \"string\",\n        \"num_unique_values\": 56,\n        \"samples\": [\n          \"Seven soldiers including two officers were martyred in the terrorist attack.\",\n          \"The martyrs of the initial attack include Havildar Sabir, a resident of District Khyber, Naik Khurshid resident of District Lakki Marwat, Sepoy Nasir resident of District Peshawar, Sepoy Raja resident of District Kohat.\",\n          \"According to the statement, Pakistan witnessed an uptick in terror activities in 2023, specifically in KP and Balochistan.\"\n        ],\n        \"semantic_type\": \"\",\n        \"description\": \"\"\n      }\n    }\n  ]\n}",
              "type": "dataframe",
              "variable_name": "df"
            },
            "text/html": [
              "\n",
              "  <div id=\"df-f902c76d-9ff7-4d31-ae20-07fb4ed51b0c\" class=\"colab-df-container\">\n",
              "    <div>\n",
              "<style scoped>\n",
              "    .dataframe tbody tr th:only-of-type {\n",
              "        vertical-align: middle;\n",
              "    }\n",
              "\n",
              "    .dataframe tbody tr th {\n",
              "        vertical-align: top;\n",
              "    }\n",
              "\n",
              "    .dataframe thead th {\n",
              "        text-align: right;\n",
              "    }\n",
              "</style>\n",
              "<table border=\"1\" class=\"dataframe\">\n",
              "  <thead>\n",
              "    <tr style=\"text-align: right;\">\n",
              "      <th></th>\n",
              "      <th>Question</th>\n",
              "      <th>Answer</th>\n",
              "    </tr>\n",
              "  </thead>\n",
              "  <tbody>\n",
              "    <tr>\n",
              "      <th>0</th>\n",
              "      <td>How many soldiers were martyred in the terrori...</td>\n",
              "      <td>Seven soldiers including two officers were mar...</td>\n",
              "    </tr>\n",
              "    <tr>\n",
              "      <th>1</th>\n",
              "      <td>How many terrorists were neutralized in the cl...</td>\n",
              "      <td>Six terrorists were neutralized in the subsequ...</td>\n",
              "    </tr>\n",
              "    <tr>\n",
              "      <th>2</th>\n",
              "      <td>Where did the terrorist attack take place?</td>\n",
              "      <td>The terrorist attack took place in the Mir Ali...</td>\n",
              "    </tr>\n",
              "    <tr>\n",
              "      <th>3</th>\n",
              "      <td>What was the date of the terrorist attack?</td>\n",
              "      <td>According to the military's media affairs wing...</td>\n",
              "    </tr>\n",
              "    <tr>\n",
              "      <th>4</th>\n",
              "      <td>How many terrorists attacked the security forc...</td>\n",
              "      <td>A group of six terrorists attacked a security ...</td>\n",
              "    </tr>\n",
              "  </tbody>\n",
              "</table>\n",
              "</div>\n",
              "    <div class=\"colab-df-buttons\">\n",
              "\n",
              "  <div class=\"colab-df-container\">\n",
              "    <button class=\"colab-df-convert\" onclick=\"convertToInteractive('df-f902c76d-9ff7-4d31-ae20-07fb4ed51b0c')\"\n",
              "            title=\"Convert this dataframe to an interactive table.\"\n",
              "            style=\"display:none;\">\n",
              "\n",
              "  <svg xmlns=\"http://www.w3.org/2000/svg\" height=\"24px\" viewBox=\"0 -960 960 960\">\n",
              "    <path d=\"M120-120v-720h720v720H120Zm60-500h600v-160H180v160Zm220 220h160v-160H400v160Zm0 220h160v-160H400v160ZM180-400h160v-160H180v160Zm440 0h160v-160H620v160ZM180-180h160v-160H180v160Zm440 0h160v-160H620v160Z\"/>\n",
              "  </svg>\n",
              "    </button>\n",
              "\n",
              "  <style>\n",
              "    .colab-df-container {\n",
              "      display:flex;\n",
              "      gap: 12px;\n",
              "    }\n",
              "\n",
              "    .colab-df-convert {\n",
              "      background-color: #E8F0FE;\n",
              "      border: none;\n",
              "      border-radius: 50%;\n",
              "      cursor: pointer;\n",
              "      display: none;\n",
              "      fill: #1967D2;\n",
              "      height: 32px;\n",
              "      padding: 0 0 0 0;\n",
              "      width: 32px;\n",
              "    }\n",
              "\n",
              "    .colab-df-convert:hover {\n",
              "      background-color: #E2EBFA;\n",
              "      box-shadow: 0px 1px 2px rgba(60, 64, 67, 0.3), 0px 1px 3px 1px rgba(60, 64, 67, 0.15);\n",
              "      fill: #174EA6;\n",
              "    }\n",
              "\n",
              "    .colab-df-buttons div {\n",
              "      margin-bottom: 4px;\n",
              "    }\n",
              "\n",
              "    [theme=dark] .colab-df-convert {\n",
              "      background-color: #3B4455;\n",
              "      fill: #D2E3FC;\n",
              "    }\n",
              "\n",
              "    [theme=dark] .colab-df-convert:hover {\n",
              "      background-color: #434B5C;\n",
              "      box-shadow: 0px 1px 3px 1px rgba(0, 0, 0, 0.15);\n",
              "      filter: drop-shadow(0px 1px 2px rgba(0, 0, 0, 0.3));\n",
              "      fill: #FFFFFF;\n",
              "    }\n",
              "  </style>\n",
              "\n",
              "    <script>\n",
              "      const buttonEl =\n",
              "        document.querySelector('#df-f902c76d-9ff7-4d31-ae20-07fb4ed51b0c button.colab-df-convert');\n",
              "      buttonEl.style.display =\n",
              "        google.colab.kernel.accessAllowed ? 'block' : 'none';\n",
              "\n",
              "      async function convertToInteractive(key) {\n",
              "        const element = document.querySelector('#df-f902c76d-9ff7-4d31-ae20-07fb4ed51b0c');\n",
              "        const dataTable =\n",
              "          await google.colab.kernel.invokeFunction('convertToInteractive',\n",
              "                                                    [key], {});\n",
              "        if (!dataTable) return;\n",
              "\n",
              "        const docLinkHtml = 'Like what you see? Visit the ' +\n",
              "          '<a target=\"_blank\" href=https://colab.research.google.com/notebooks/data_table.ipynb>data table notebook</a>'\n",
              "          + ' to learn more about interactive tables.';\n",
              "        element.innerHTML = '';\n",
              "        dataTable['output_type'] = 'display_data';\n",
              "        await google.colab.output.renderOutput(dataTable, element);\n",
              "        const docLink = document.createElement('div');\n",
              "        docLink.innerHTML = docLinkHtml;\n",
              "        element.appendChild(docLink);\n",
              "      }\n",
              "    </script>\n",
              "  </div>\n",
              "\n",
              "\n",
              "<div id=\"df-9bf0a599-4f17-49d1-b6b3-45964e73e95e\">\n",
              "  <button class=\"colab-df-quickchart\" onclick=\"quickchart('df-9bf0a599-4f17-49d1-b6b3-45964e73e95e')\"\n",
              "            title=\"Suggest charts\"\n",
              "            style=\"display:none;\">\n",
              "\n",
              "<svg xmlns=\"http://www.w3.org/2000/svg\" height=\"24px\"viewBox=\"0 0 24 24\"\n",
              "     width=\"24px\">\n",
              "    <g>\n",
              "        <path d=\"M19 3H5c-1.1 0-2 .9-2 2v14c0 1.1.9 2 2 2h14c1.1 0 2-.9 2-2V5c0-1.1-.9-2-2-2zM9 17H7v-7h2v7zm4 0h-2V7h2v10zm4 0h-2v-4h2v4z\"/>\n",
              "    </g>\n",
              "</svg>\n",
              "  </button>\n",
              "\n",
              "<style>\n",
              "  .colab-df-quickchart {\n",
              "      --bg-color: #E8F0FE;\n",
              "      --fill-color: #1967D2;\n",
              "      --hover-bg-color: #E2EBFA;\n",
              "      --hover-fill-color: #174EA6;\n",
              "      --disabled-fill-color: #AAA;\n",
              "      --disabled-bg-color: #DDD;\n",
              "  }\n",
              "\n",
              "  [theme=dark] .colab-df-quickchart {\n",
              "      --bg-color: #3B4455;\n",
              "      --fill-color: #D2E3FC;\n",
              "      --hover-bg-color: #434B5C;\n",
              "      --hover-fill-color: #FFFFFF;\n",
              "      --disabled-bg-color: #3B4455;\n",
              "      --disabled-fill-color: #666;\n",
              "  }\n",
              "\n",
              "  .colab-df-quickchart {\n",
              "    background-color: var(--bg-color);\n",
              "    border: none;\n",
              "    border-radius: 50%;\n",
              "    cursor: pointer;\n",
              "    display: none;\n",
              "    fill: var(--fill-color);\n",
              "    height: 32px;\n",
              "    padding: 0;\n",
              "    width: 32px;\n",
              "  }\n",
              "\n",
              "  .colab-df-quickchart:hover {\n",
              "    background-color: var(--hover-bg-color);\n",
              "    box-shadow: 0 1px 2px rgba(60, 64, 67, 0.3), 0 1px 3px 1px rgba(60, 64, 67, 0.15);\n",
              "    fill: var(--button-hover-fill-color);\n",
              "  }\n",
              "\n",
              "  .colab-df-quickchart-complete:disabled,\n",
              "  .colab-df-quickchart-complete:disabled:hover {\n",
              "    background-color: var(--disabled-bg-color);\n",
              "    fill: var(--disabled-fill-color);\n",
              "    box-shadow: none;\n",
              "  }\n",
              "\n",
              "  .colab-df-spinner {\n",
              "    border: 2px solid var(--fill-color);\n",
              "    border-color: transparent;\n",
              "    border-bottom-color: var(--fill-color);\n",
              "    animation:\n",
              "      spin 1s steps(1) infinite;\n",
              "  }\n",
              "\n",
              "  @keyframes spin {\n",
              "    0% {\n",
              "      border-color: transparent;\n",
              "      border-bottom-color: var(--fill-color);\n",
              "      border-left-color: var(--fill-color);\n",
              "    }\n",
              "    20% {\n",
              "      border-color: transparent;\n",
              "      border-left-color: var(--fill-color);\n",
              "      border-top-color: var(--fill-color);\n",
              "    }\n",
              "    30% {\n",
              "      border-color: transparent;\n",
              "      border-left-color: var(--fill-color);\n",
              "      border-top-color: var(--fill-color);\n",
              "      border-right-color: var(--fill-color);\n",
              "    }\n",
              "    40% {\n",
              "      border-color: transparent;\n",
              "      border-right-color: var(--fill-color);\n",
              "      border-top-color: var(--fill-color);\n",
              "    }\n",
              "    60% {\n",
              "      border-color: transparent;\n",
              "      border-right-color: var(--fill-color);\n",
              "    }\n",
              "    80% {\n",
              "      border-color: transparent;\n",
              "      border-right-color: var(--fill-color);\n",
              "      border-bottom-color: var(--fill-color);\n",
              "    }\n",
              "    90% {\n",
              "      border-color: transparent;\n",
              "      border-bottom-color: var(--fill-color);\n",
              "    }\n",
              "  }\n",
              "</style>\n",
              "\n",
              "  <script>\n",
              "    async function quickchart(key) {\n",
              "      const quickchartButtonEl =\n",
              "        document.querySelector('#' + key + ' button');\n",
              "      quickchartButtonEl.disabled = true;  // To prevent multiple clicks.\n",
              "      quickchartButtonEl.classList.add('colab-df-spinner');\n",
              "      try {\n",
              "        const charts = await google.colab.kernel.invokeFunction(\n",
              "            'suggestCharts', [key], {});\n",
              "      } catch (error) {\n",
              "        console.error('Error during call to suggestCharts:', error);\n",
              "      }\n",
              "      quickchartButtonEl.classList.remove('colab-df-spinner');\n",
              "      quickchartButtonEl.classList.add('colab-df-quickchart-complete');\n",
              "    }\n",
              "    (() => {\n",
              "      let quickchartButtonEl =\n",
              "        document.querySelector('#df-9bf0a599-4f17-49d1-b6b3-45964e73e95e button');\n",
              "      quickchartButtonEl.style.display =\n",
              "        google.colab.kernel.accessAllowed ? 'block' : 'none';\n",
              "    })();\n",
              "  </script>\n",
              "</div>\n",
              "\n",
              "    </div>\n",
              "  </div>\n"
            ],
            "text/plain": [
              "                                            Question  \\\n",
              "0  How many soldiers were martyred in the terrori...   \n",
              "1  How many terrorists were neutralized in the cl...   \n",
              "2         Where did the terrorist attack take place?   \n",
              "3         What was the date of the terrorist attack?   \n",
              "4  How many terrorists attacked the security forc...   \n",
              "\n",
              "                                              Answer  \n",
              "0  Seven soldiers including two officers were mar...  \n",
              "1  Six terrorists were neutralized in the subsequ...  \n",
              "2  The terrorist attack took place in the Mir Ali...  \n",
              "3  According to the military's media affairs wing...  \n",
              "4  A group of six terrorists attacked a security ...  "
            ]
          },
          "execution_count": 41,
          "metadata": {},
          "output_type": "execute_result"
        }
      ],
      "source": [
        "# some of the data generated by llam2\n",
        "import pandas as pd\n",
        "df = pd.read_csv('qa_pairs.csv')\n",
        "df.head()"
      ]
    },
    {
      "cell_type": "markdown",
      "metadata": {
        "id": "wVIrW66avj8I"
      },
      "source": [
        "**Keys takeaways for using Llama2 for QA Generation:**\n",
        "- Llama2 needs an optimal prompt for Good QA generation\n",
        "- Llama2 takes a lot of time (1-2 mins per completion) on 500 characters text\n",
        "- The completion generated by Llama2 is not uniform with format\n",
        "- Alot of post processing is required for cleaning QA pairs from completion\n",
        "- Not scalable to large datasets (maybe good for small datasets)\n",
        "- Sometimes only questions generation and no answers\n",
        "- rarely inaccurate response\n",
        "- Not an ideal model for QA generation\n",
        "- too slow, for one paragraph it takes on avearge 70-80 secs"
      ]
    },
    {
      "cell_type": "markdown",
      "metadata": {
        "id": "cKkRG1BYwjVr"
      },
      "source": [
        "**QAG with End2end**\n",
        "\n",
        "- The end2end QAG models are fine-tuned to generate a list of QA pairs.\n",
        "- With a single inference, so it is the fastest class among QAG models.\n",
        "- No need to fine-tuned the prompt to the model\n",
        "- Faster than Llama2\n",
        "- takes 2-4 secs for each paragraph\n",
        "\n"
      ]
    },
    {
      "cell_type": "markdown",
      "metadata": {
        "id": "uBcyY3jp35YD"
      },
      "source": [
        "| Model                                                                                                                                                        | Data                                                               | Type          | Language Model                                                                  | Language | QAAlignedF1Score (BERTScore) | QAAlignedF1Score (MoverScore) | QAAlignedPrecision (BERTScore) | QAAlignedPrecision (MoverScore) | QAAlignedRecall (BERTScore) | QAAlignedRecall (MoverScore) |\n",
        "|:-------------------------------------------------------------------------------------------------------------------------------------------------------------|:-------------------------------------------------------------------|:--------------|:--------------------------------------------------------------------------------|:---------|-----------------------------:|------------------------------:|-------------------------------:|--------------------------------:|----------------------------:|-----------------------------:|\n",
        "| [`lmqg/t5-small-squad-qag`](https://huggingface.co/lmqg/t5-small-squad-qag)                                                                                  | [`lmqg/qg_squad`](https://huggingface.co/datasets/lmqg/qg_squad)   | End2end QAG   | [`t5-small`](https://huggingface.co/t5-small)                                   | English  |                        92.76 |                         64.59 |                          92.87 |                           65.30 |                       92.68 |                        63.99 |\n",
        "\n"
      ]
    },
    {
      "cell_type": "markdown",
      "metadata": {
        "id": "nRwOASQh8aVe"
      },
      "source": [
        "The model is computationally\n",
        "light at both training and inference times, is\n",
        "generally robust and outperforms other more\n",
        "convoluted approaches. Finally, the paper shows that QA\n",
        "models fine-tuned solely on generated question answer pairs can be competitive when compared to supervised QA models trained on human-labeled data.\n",
        "\n",
        "paper: https://arxiv.org/pdf/2305.17002.pdf\n"
      ]
    },
    {
      "cell_type": "code",
      "execution_count": 79,
      "metadata": {
        "id": "UdasDS8LxYOW"
      },
      "outputs": [],
      "source": [
        "# installation (it may take ~ 1.5 mins)\n",
        "!pip install lmqg"
      ]
    },
    {
      "cell_type": "code",
      "execution_count": 80,
      "metadata": {
        "id": "gSqBhWS4xiTw"
      },
      "outputs": [],
      "source": [
        "# import TransformerQG\n",
        "from lmqg import TransformersQG"
      ]
    },
    {
      "cell_type": "code",
      "execution_count": null,
      "metadata": {
        "id": "UjVSWP1yxpDq"
      },
      "outputs": [],
      "source": [
        "# initialize model with english language and select t5-base-squad-qag fine tunned model\n",
        "model = TransformersQG(language='en', model='lmqg/t5-base-squad-qag')"
      ]
    },
    {
      "cell_type": "code",
      "execution_count": 82,
      "metadata": {
        "colab": {
          "base_uri": "https://localhost:8080/"
        },
        "id": "xonS_2zfzpx0",
        "outputId": "446d676d-3d51-415c-dcb6-d0ff2e2ceacf"
      },
      "outputs": [
        {
          "output_type": "stream",
          "name": "stderr",
          "text": [
            "100%|██████████| 1/1 [00:00<00:00, 455.21it/s]\n"
          ]
        },
        {
          "output_type": "stream",
          "name": "stdout",
          "text": [
            "[('What is the capital city of Sindh?', 'Karachi'), ('What is the population of Karachi?', 'over 20 million'), ('Where is Karachi located?', 'southern tip of the country along the Arabian Sea coast')]\n"
          ]
        }
      ],
      "source": [
        "# paragraph to generate pairs of question and answer\n",
        "# sample\n",
        "context = '''Karachi is the capital city of the Pakistani province of Sindh.\n",
        "It is the largest city in Pakistan and the 12th largest in the world, with a population of over 20 million.\n",
        "It is situated at the southern tip of the country along the Arabian Sea coast and formerly served as the capital of Pakistan.\n",
        "'''\n",
        "# model prediction\n",
        "question_answer = model.generate_qa(context)\n",
        "# the output is a list of tuple (question, answer)\n",
        "print(question_answer)"
      ]
    },
    {
      "cell_type": "markdown",
      "metadata": {
        "id": "FB5wRwh60IeM"
      },
      "source": [
        "cool! this fine tuned model is working really well and the inference time is\n",
        "small. So let's use it for QA generation here"
      ]
    },
    {
      "cell_type": "code",
      "execution_count": null,
      "metadata": {
        "id": "1mq_sbMZ06Vq"
      },
      "outputs": [],
      "source": [
        "import csv\n",
        "def qag_generator(text):\n",
        "  '''\n",
        "  generate question answer and store them in a csv file\n",
        "\n",
        "  parameters\n",
        "  ----------\n",
        "  text: str\n",
        "  '''\n",
        "  question_answer_pairs = model.generate_qa(text)\n",
        "  logger.info(question_answer_pairs)\n",
        "\n",
        "  # write to csv file\n",
        "  file_path = 'qa_pairs_new_t5_small.csv'\n",
        "\n",
        "  if not os.path.exists(file_path):\n",
        "      with open(file_path, 'w', newline='', encoding='utf-8') as file:\n",
        "          writer = csv.writer(file)\n",
        "          # Write header row\n",
        "          writer.writerow(['Question', 'Answer'])\n",
        "\n",
        "  # append data\n",
        "  with open(file_path, 'a', newline='', encoding='utf-8') as file:\n",
        "      writer = csv.writer(file)\n",
        "      writer.writerows(question_answer_pairs)\n"
      ]
    },
    {
      "cell_type": "code",
      "execution_count": null,
      "metadata": {
        "id": "R4Wf68nU0G3L"
      },
      "outputs": [],
      "source": [
        "def QAG(dataset, text_splitter):\n",
        "  \"\"\"\n",
        "  run over the json file and store them in a csv\n",
        "\n",
        "  parameters\n",
        "  ----------\n",
        "  dataset: str\n",
        "  text_splitter\n",
        "\n",
        "  return\n",
        "  ------\n",
        "  None\n",
        "  \"\"\"\n",
        "  # iterate over all the json entries\n",
        "  for data in dataset:\n",
        "    # don't process articles that have already been explored by llm\n",
        "    if 'processed_article' in data.keys():\n",
        "      if data['processed_article']:\n",
        "        logger.info('News article already processed!')\n",
        "    else:\n",
        "      # reterive text\n",
        "      text = data['text']\n",
        "      # chunk the text as the text is bit longer in each article\n",
        "      # longer text takes time and llm context window can't process all at once becasue of limited context size for some llm\n",
        "      # split into 500 chars with 0 overlap\n",
        "      chunks_list = text_splitter.split_text(text)\n",
        "\n",
        "      # iterate over each chunk\n",
        "      for text_chunk in chunks_list:\n",
        "        # genrate qa\n",
        "        qag_generator(text_chunk)\n",
        "      # this flag helps identify the articles already processed by an llm\n",
        "      # so we don't repeat it again.\n",
        "      data['processed_article'] = True\n",
        "      # overwrite the update json file, so next time read this file when notebook crahes and doing\n",
        "      # processing again\n",
        "      with open('dawn_pakistan_processed_t5_small', 'w') as file:\n",
        "        json.dump(dataset, file, indent = 4)"
      ]
    },
    {
      "cell_type": "code",
      "execution_count": null,
      "metadata": {
        "colab": {
          "base_uri": "https://localhost:8080/"
        },
        "id": "hHwLUq4AsJLL",
        "outputId": "81bccf16-4f8d-4eb8-fe1a-5c98f27f5a3d"
      },
      "outputs": [
        {
          "name": "stderr",
          "output_type": "stream",
          "text": [
            "100%|██████████| 1/1 [00:00<00:00, 364.06it/s]\n",
            "INFO:__main__:[('How many soldiers were martyred in a terrorist attack on a security forces post?', 'Seven'), ('How many terrorists attacked a security forces post?', 'six'), ('What district is Mir Ali located in?', 'North Waziristan'), ('How many soldiers were martyred?', 'seven'), ('How many officers were martyred?', 'two'), ('How many terrorists attacked a security forces post?', 'six')]\n",
            "100%|██████████| 1/1 [00:00<00:00, 365.10it/s]\n",
            "INFO:__main__:[('What did the terrorists do after ramming an explosivesladen vehicle into the post?', 'multiple suicide bombing attacks'), ('How many sons of the soil were martyred?', 'five brave sons of the soil'), ('Who were the martyrs of the initial attack?', 'Havildar Sabir, a resident of District Khyber, Naik Khurshid resident of District Lakki Marwat, Sepoy Nasir resident of District Peshawar, Sepoy Raja resident of District Kohat'), ('Who were the martyrs of the initial attack?', 'Havildar Sabir, a resident of District Khyber, Naik Khurshid resident of District Lakki Marwat, Sepoy Nasir resident of District Peshawar, Sepoy Raja resident of District Kohat')]\n",
            "100%|██████████| 1/1 [00:00<00:00, 374.42it/s]\n",
            "INFO:__main__:[('Who was the resident of District Abbottabad?', 'Sepoy Sajjad'), ('How many terrorists were killed in the clearance operation?', 'six'), ('Who led the troops in the clearance operation?', 'Lieutenant Colonel Kashif'), ('Who was the resident of Karachi?', 'Lieutenant Colonel Syed Kashif Ali'), ('Who was the resident of District Talagang?', 'Captain Muhammad Ahmed Badar')]\n",
            "100%|██████████| 1/1 [00:00<00:00, 335.79it/s]\n",
            "INFO:__main__:[('What was being conducted to eliminate any other terrorist present in the area?', 'sanitisation operation'), ('Where was the funeral of the martyrs held?', 'Bannu Cantt'), ('The martyrs will be buried in their native areas with what?', 'full military honours')]\n",
            "100%|██████████| 1/1 [00:00<00:00, 430.32it/s]\n",
            "INFO:__main__:[('Who attended the funeral prayers?', 'General Officer Commanding Major General Anjum Riaz'), ('Who will continue to render sacrifices for the defence of the dear motherland?', 'Pakistan Army'), ('Who condemned the attack?', 'Prime Minister Shehbaz Sharif and President Asif Ali Zardari'), ('What did the prime minister call the attack?', 'a coward move by the terrorists')]\n",
            "100%|██████████| 1/1 [00:00<00:00, 419.85it/s]\n",
            "INFO:__main__:[('Who was proud of the martyrs who sacrificed lives?', 'PM Sharif'), ('What did PM Sharif pray for?', 'the departed souls'), ('Who condemned the terrorist attack?', 'President Zardari'), ('Who did Zardari pay tribute to in a post on X?', 'army officers and soldiers')]\n",
            "100%|██████████| 1/1 [00:00<00:00, 396.25it/s]\n",
            "INFO:__main__:[('Who was the Foreign Minister?', 'Ishaq Dar'), ('Who was the National Assembly Speaker?', 'Sardar Ayaz Sadiq'), ('Who were the martyrs?', 'Lt Col Kashif and Captain Ahmed'), ('Who was the Foreign Minister?', 'Ishaq Dar'), ('Who was the National Assembly Speaker?', 'Sardar Ayaz Sadiq')]\n",
            "100%|██████████| 1/1 [00:00<00:00, 479.29it/s]\n",
            "INFO:__main__:[('What did the National Assembly speaker say Pakistan will never forget?', 'sacrifices of its soldiers'), ('What is following the nefarious intentions of the enemy in which terrorists will never succeed?', 'Terrorists'), ('Who was standing together with the security forces to crush the nefarious intentions of terrorists?', 'the entire nation'), ('When did Pakistan witness an uptick in terror activities?', '2023 year'), ('Who banned militant TehreekiTaliban Pakistan?', 'TehreekiTaliban Pakistan')]\n",
            "100%|██████████| 1/1 [00:00<00:00, 430.36it/s]\n",
            "INFO:__main__:[('How many militants were killed by security forces in North Waziristan?', '10'), ('What was the name of the police station attacked in Dera Ismail Khan?', 'Dera Ismail Khan'), ('What was the date of the attack?', 'November 2022'), ('How many militants were killed in North Waziristan?', '10'), ('How many militants were killed in December last year?', '23')]\n",
            "100%|██████████| 1/1 [00:00<00:00, 365.48it/s]\n",
            "INFO:__main__:[('Who stormed a compound used by the military in Dera Ismail Khans Daraban area?', 'militants belonging to the TehreekiJihad Pakistan TJP'), ('How many troops were wounded after militants stormed a compound?', 'more than 30'), ('How many violencerelated fatalities did Pakistan witness in 2023?', '1,524'), ('How many terror attacks and counterterror operations did Pakistan witness in 2023?', '789')]\n",
            "100%|██████████| 1/1 [00:00<00:00, 812.69it/s]\n",
            "INFO:__main__:[('What percentage of fatalities are caused by terrorism?', 'over 90'), ('What percentage of attacks are caused by security forces?', '84pc'), ('What section of the site is undergoing an overhaul?', 'comments'), ('What percentage of fatalities are caused by terrorism?', 'over 90'), ('What percentage of attacks are caused by security forces?', '84pc')]\n",
            "100%|██████████| 1/1 [00:00<00:00, 334.23it/s]\n",
            "INFO:__main__:[('Who was jailed for three cases of riots?', 'Imran Khan'), ('Who heard the bail petitions as a duty judge?', 'Arshad Javed'), ('What was the presiding judge of ATCI?', 'Arshad Javed'), ('When was the hearing adjourned?', 'March 22'), ('Who was jailed in three cases of riots?', 'Imran Khan')]\n",
            "100%|██████████| 1/1 [00:00<00:00, 389.26it/s]\n",
            "INFO:__main__:[('How many cases did Khan have prearrest bail in?', 'four'), (\"Who dismissed Khan's prearrest bails?\", 'ATC'), (\"What was Khan's conviction in the Toshakhana case?\", 'conviction'), (\"Who set aside the decision of the ATC and restored Khan's bail petitions?\", 'Lahore High Court')]\n",
            "100%|██████████| 1/1 [00:00<00:00, 480.28it/s]\n",
            "INFO:__main__:[('Who was the judge in the Faisalabad antiterrorism court?', 'Muhammad Hussain'), ('What was the name of the Sunni Ittehad Council SIC Chairman?', 'Sahibzada Hamid Raza'), ('What was the name of the Sunni Ittehad Council SIC Chairman?', 'Sahibzada Hamid Raza'), ('What was the name of the Sunni Ittehad Council MNA?', 'Sahibzada Hassan Raza'), ('What was the name of the Sunni Ittehad Council SIC Chairman?', 'Sahibzada Hamid Raza')]\n",
            "100%|██████████| 1/1 [00:00<00:00, 454.67it/s]\n",
            "INFO:__main__:[('What did the court say about the joint investigation team?', 'had not completed the investigation into the case yet'), ('Who did the court ask to complete the investigation at the earliest?', 'the JIT'), ('How many MNAs appeared before the court?', 'two MNAs Malik Umer Farooq and Rai Haider Kharal'), ('How many MPAs appeared before the court?', 'three MPAs Hasan Zaka Niazi, Khayal Ahmad Kastro and Asad Mahmood')]\n",
            "100%|██████████| 1/1 [00:00<00:00, 501.17it/s]\n",
            "INFO:__main__:[('What do PAKISTANS politicians and policymakers need to evaluate?', 'economic models that yield better results than the old fiveyear plans'), ('What is the ultimate aim of the Shehbaz Sharif government?', 'curb inflation, alleviate poverty and create jobs'), ('What has been formed to consult the relevant ministries to set targets for the next five years in different sectors?', 'A committee'), ('What is the ultimate aim of the Shehbaz Sharif government?', 'curb inflation, alleviate poverty and create jobs')]\n",
            "100%|██████████| 1/1 [00:00<00:00, 407.02it/s]\n",
            "INFO:__main__:[('What is a key component of economic strategy in the 1960s and 1970s?', 'fiveyear targets'), ('What is a key component of economic strategy in the 1960s and 1970s?', 'fiveyear plans'), ('What is a key component of economic strategy in the 1960s and 1970s?', 'fiveyear targets'), ('What is a key component of economic strategy in the 1960s and 1970s?', 'fiveyear targets'), ('What is a key component of economic strategy in the 1960s and 1970s?', 'the free market system')]\n",
            "100%|██████████| 1/1 [00:00<00:00, 362.08it/s]\n",
            "INFO:__main__:[('What model has made way for a threeyear action plan?', 'Indias 15year vision document'), ('What are rolling, strategic economic models?', 'flexible and in sync with todays realities'), ('What are a legacy of highly centralised economic systems?', 'Fiveyear plans'), ('What did governments use to shape their growth by controlling economic activities?', 'permits, licences, voucher schemes, nationalisation, credit allocations')]\n",
            "100%|██████████| 1/1 [00:00<00:00, 380.61it/s]\n",
            "INFO:__main__:[('What is considered the engine of economic growth in the modern world?', 'private sector'), ('What is Pakistan a major example of?', 'why a government should not be involved in economic activities'), ('What is Pakistan a major example of?', 'why a government should not be involved in economic activities'), ('What is Pakistan a major example of?', 'why a government should not be involved in economic activities'), ('What is Pakistan a major example of?', 'why a government should not be involved in economic activities'), ('What is Pakistan a major example of?', 'why a government should not be involved in economic activities'), ('What is Pakistan a major example of?', 'why a government should not be involved in economic activities'), ('What is Pakistan a major example of?', 'why a government should not be involved in economic activities'), ('What is Pakistan a major example of?', 'why a government should not be involved in economic activities')]\n",
            "100%|██████████| 1/1 [00:00<00:00, 280.63it/s]\n",
            "INFO:__main__:[('What is the sole objective of the governments development vision?', 'evolve sound policies for private investors for a period of, say, 20 years'), ('What is the sole objective of the governments development vision?', 'decentralise the power structure for quick decisionmaking, and regulate the markets justly to protect consumers'), ('What is this paradigm shift in planning not only needed to fix?', 'the economy'), ('What hasnt worked in Pakistan beyond a certain point?', 'Centralised planning')]\n",
            "100%|██████████| 1/1 [00:00<00:00, 384.23it/s]\n",
            "INFO:__main__:[('What did the Ayub regime produce in the 1960s?', 'business monopolies, and an oligarchy that thrived on the states largesse'), ('What did the Ayub regime focus on?', 'real reforms and formulation of policies needed to pull the country out of poverty'), ('What section is undergoing an overhaul?', 'the comments section')]\n",
            "100%|██████████| 1/1 [00:00<00:00, 459.35it/s]\n",
            "INFO:__main__:[('What is one of the first concepts in undergraduate economics textbooks?', 'the distinction between positive and normative analysis'), ('What describes the world objectively?', 'positive analysis'), ('What focus on subjective value judgements?', 'normative analyses'), ('What will have a tremendous bearing on the countrys political and economic future?', 'electoral outcomes of Pakistans recent elections')]\n",
            "100%|██████████| 1/1 [00:00<00:00, 504.12it/s]\n",
            "INFO:__main__:[('What did most recent analyses seem to take?', 'kneejerk reactions or clouded by the analysts normative bias'), ('What does the positive analysis of Pakistans political system describe?', 'what is observed and, based on these empirical observations, what is likely to happen in the future'), ('What should not this analysis be taken as a position for?', 'how things ought to be'), ('What does the positive analysis of Pakistans political system describe?', 'what is observed and, based on these empirical observations, what is likely to happen in the future')]\n",
            "100%|██████████| 1/1 [00:00<00:00, 421.71it/s]\n",
            "INFO:__main__:[('What is the position that volatility in Pakistans political and economic system will only increase?', 'postelection reality'), ('What is the position that this government will not be able to get its sea legs?', 'Pakistans political system will sink into such bewildering chaos that it will also take down Pakistans democracy and its economy'), ('What will still be skirmishes?', 'There will still be skirmishes')]\n",
            "100%|██████████| 1/1 [00:00<00:00, 499.68it/s]\n",
            "INFO:__main__:[('What always impacts economic sentiments?', 'political systems volatility'), ('What can have disastrous consequences for economies?', 'political systems volatility'), ('What may people do in the midst of a political crisis?', 'sit on their liquid cash'), ('What can sudden evaporation of demand from an economy have?', 'significant negative impact')]\n",
            "100%|██████████| 1/1 [00:00<00:00, 523.57it/s]\n",
            "INFO:__main__:[('What are the structural characteristics of Pakistans political system?', 'doomsday scenarios usually do not come to pass'), ('What is the main reason for the disproportionate amount of power that resides with the systems veto player?', 'the disproportionate amount of power that resides with the systems veto player'), ('What often works as an offswitch or a circuit breaker whenever the political system starts vibrating uncontrollably?', 'the results of the recent elections in Pakistan')]\n",
            "100%|██████████| 1/1 [00:00<00:00, 434.87it/s]\n",
            "INFO:__main__:[('What is the political party called?', 'up and take notice'), (\"What is the political party's strategy?\", 'aggressive'), (\"What is the political party's strategy convinced most analysts?\", 'the present government will neither survive nor be able to stabilise the economy'), ('What is the stabilityinstability paradox?', 'an international international paradox')]\n",
            "100%|██████████| 1/1 [00:00<00:00, 452.02it/s]\n",
            "INFO:__main__:[('When did relations theory regarding the effects of nuclear weapons come on the scene?', 'early days of the Cold War'), ('What is the stabilityinstability paradox?', 'largely explains the conflict in nuclear South Asia'), ('What is the stabilityinstability paradox used to better understand?', 'how the introduction of nuclear weapons impacts relations between two adversaries')]\n",
            "100%|██████████| 1/1 [00:00<00:00, 527.59it/s]\n",
            "INFO:__main__:[('What does the possession of nuclear weapons lend to a conflict?', 'strategic stability'), ('What does the possession of nuclear weapons inject to a conflict?', 'tactical instability'), ('Who argued that the presence of nuclear weapons actually tempts nucleararmed neighbours to fight?', 'Prof Kenneth Waltz'), ('What did the late Prof Kenneth Waltz argue that the presence of nuclear weapons actually tempts nucleararmed neighbours to do?', 'fight')]\n",
            "100%|██████████| 1/1 [00:00<00:00, 436.68it/s]\n",
            "INFO:__main__:[('What have the recent elections in Pakistan brought about?', 'a new balance of power, or an equilibrium, between the veto player and the political party'), ('What has the results of the recent elections in Pakistan brought about?', 'a stabilityinstability paradox'), ('What has the results of the recent elections brought about?', 'a new balance of power, or an equilibrium, between the veto player and the political party'), ('What has the results of the recent elections brought about?', 'a new balance of power, or an equilibrium, between the veto player and the political party')]\n",
            "100%|██████████| 1/1 [00:00<00:00, 557.09it/s]\n",
            "INFO:__main__:[('Who will venture towards disturbing the new equilibrium?', 'neither player'), ('What remains intact in the Pakistani political system?', 'the skewed distribution of power')]\n",
            "100%|██████████| 1/1 [00:00<00:00, 508.89it/s]\n",
            "INFO:__main__:[]\n",
            "100%|██████████| 1/1 [00:00<00:00, 550.00it/s]\n",
            "INFO:__main__:[('What is the lopsided nature of power distribution in the political system?', 'lopsided'), ('Who will have to sit across the table from each other to restructure the characteristics of the political system?', 'stakeholders, adversaries and players'), ('What is the one route available for the willing?', 'Turkiye'), ('What is the other route available for the willing?', 'Indonesia')]\n",
            "100%|██████████| 1/1 [00:00<00:00, 468.38it/s]\n",
            "INFO:__main__:[('What does the stabilityinstability paradox describe?', 'dynamic equilibrium'), ('What is undergoing an overhaul?', 'the comments section'), ('What will dominate in Pakistans political system in the medium term?', 'the dynamic equilibrium'), ('When will the comments section return?', 'soon')]\n",
            "100%|██████████| 1/1 [00:00<00:00, 452.70it/s]\n",
            "INFO:__main__:[('What are the four principal players in the emerging dispensation?', 'PTI, PPP, PMLN, and the establishment'), ('What are the four principal players in the emerging dispensation?', 'PTI, PPP, PMLN, and the establishment'), ('What are the four principal players in the emerging dispensation?', 'PTI, PPP, PMLN, and the establishment'), ('What are the four principal players in the emerging dispensation?', 'PTI, PPP, PMLN, and the establishment'), ('What is the main players in the emerging dispensation?', 'PTI, PPP, PMLN, and the establishment'), ('What is the main players in the emerging dispensation?', 'PTI, PPP, PMLN, and the establishment'), ('What is the main players in the emerging dispensation?', 'PTI, PPP, PMLN, and the establishment'), ('What is the main players in the emerging dispensation?', 'PTI, PPP, PMLN, and the establishment')]\n",
            "100%|██████████| 1/1 [00:00<00:00, 228.77it/s]\n",
            "INFO:__main__:[('What has the game of asserting authority reached?', 'its tragic limits'), ('What was ousted from the federal and provincial governments?', 'PMLN'), ('What has retained a majority government in KP?', 'PTI'), ('What will enhance its bargaining power?', 'PTIs sizeable presence on the opposition benches in Punjab and the federal legislatures')]\n",
            "100%|██████████| 1/1 [00:00<00:00, 411.05it/s]\n",
            "INFO:__main__:[('What has helped the PTI and its followers cross the psychological barriers of fear and vulnerability?', 'the resurgence of an underdog PTI facing down powerful opponents'), ('What could become a nightmare for the government?', 'A formidable PTIled opposition')]\n",
            "100%|██████████| 1/1 [00:00<00:00, 519.03it/s]\n",
            "INFO:__main__:[('What are nationalist parties known for?', 'nurse their own grouse against the establishment and the PMLNPPP duo for stealing their seats'), ('What could become a living nightmare for the government?', 'a formidable PTIled opposition in and out of parliament'), ('Who could join the opposition?', 'Maulana Fazlur Rahman of the JUIF'), ('What has emerged as a new balancing force?', 'PPP')]\n",
            "100%|██████████| 1/1 [00:00<00:00, 471.96it/s]\n",
            "INFO:__main__:[('Where has the PMLN formed a solid majority government?', 'Sindh'), ('Where does the PMLN already enjoy an absolute hold over local governments?', 'Karachi'), (\"What is Karachi's mayor from?\", 'its own ranks'), ('What office is the PMLN tipped to have?', 'chairman Senate'), ('What two key provinces does the PMLN have the right to appoint governors in?', 'Punjab and KP')]\n",
            "100%|██████████| 1/1 [00:00<00:00, 481.22it/s]\n",
            "INFO:__main__:[('Where has the PPP formed a coalition government?', 'Balochistan'), ('Who do pundits view as the emerging kingmaker?', 'President Asif Ali Zardari'), ('How did the PPP achieve such success?', 'its performance in Sindh and elsewhere'), (\"What was the PPP's triumph of the skills of its cochairman Zardari?\", 'to game the system')]\n",
            "100%|██████████| 1/1 [00:00<00:00, 495.43it/s]\n",
            "INFO:__main__:[(\"Who is the PMLN's archrival?\", 'PTI'), (\"Who is the PMLN's old nemesis?\", 'the establishment'), ('Who is the PMLN saddled with steering the PDM government?', 'PMLN'), (\"Who is the PMLN's archrival?\", 'PTI')]\n",
            "100%|██████████| 1/1 [00:00<00:00, 194.49it/s]\n",
            "INFO:__main__:[('What type of government did Punjab have?', 'rickety, hotchpotch government'), (\"What is the real test of Punjab's stewardship?\", 'getting around the IMF for a longterm deal'), (\"What will further erode Punjab's political standing?\", 'financial constraints, a tough opposition, and the IMFs implacable conditionalities'), ('What classes dominate the economic heart of Punjab?', 'industrial and trading classes')]\n",
            "100%|██████████| 1/1 [00:00<00:00, 354.94it/s]\n",
            "INFO:__main__:[('What is already baying for its blood?', 'opposition'), ('Who will have little option but to periodically seek the establishments indulgence in carrying out the needed legislative and economic agendas?', 'Prime Minister Shehbaz Sharif'), ('What did Imran Khan do during his incumbency?', 'sought the establishments indulgence')]\n",
            "100%|██████████| 1/1 [00:00<00:00, 564.51it/s]\n",
            "INFO:__main__:[('What has not borne fruit for certain quarters in cutting the PTI down to size?', 'institutional help in forging an antiPTI alliance and managing electoral results'), ('What has emerged rather more robustly, electorally and morally?', 'the PTI'), ('What has a hung parliament enhanced?', 'its leverage to play tough and get a better deal from those it sees as holding the reins'), ('Who has not budged?', 'Imran Khan')]\n",
            "100%|██████████| 1/1 [00:00<00:00, 315.50it/s]\n",
            "INFO:__main__:[('What did the PTI want from the IMF?', 'an electoral audit'), ('What did the PTI want from the IMF?', 'an electoral audit'), ('What did the PTI want from the IMF?', 'an electoral audit'), ('What did the PTI want from the IMF?', 'an electoral audit'), ('What did the PTI want from the IMF?', 'an electoral audit')]\n",
            "100%|██████████| 1/1 [00:00<00:00, 286.14it/s]\n",
            "INFO:__main__:[('What did the formers inclination for constitutional changes do?', 'reverse some key financial and political benefits that accrued to the provinces after the 18th Amendment'), ('What can no more be lifted via the old managerial ways by coercion, allegedly compromised sections of the judiciary, or a legion of turncoats?', 'It can no more be lifted via the old managerial ways by coercion, allegedly compromised sections of the judiciary, or a legion of turncoats'), ('What can only improvise ways to prolong its dysfunctionalities?', 'Political engineering has its limits, and can only improvise ways to prolong its dysfunctionalities, and that too at a heavy cost.')]\n",
            "100%|██████████| 1/1 [00:00<00:00, 651.49it/s]\n",
            "INFO:__main__:[('What type of system is going to be difficult, if not destructive for the institutions?', 'visibly rigged'), ('What is it imperative to do, consensually and democratically?', 'reset the entire system'), ('What is undergoing an overhaul and will return soon?', 'the comments section')]\n",
            "100%|██████████| 1/1 [00:00<00:00, 404.00it/s]\n",
            "INFO:__main__:[('What did the Sindh High Court express resentment towards?', 'the interior ministry'), ('What did the Sindh High Court warn would happen if the deportation was not carried out?', 'the interior secretary would be summoned'), ('What did the Sindh High Court observe about the appellant?', 'the appellant was an Indian national while the ministry could not be able to confirm his nationality apparently due to lack of efforts'), ('Who headed the singlejudge bench?', 'Justice Mohammad Karim Khan Agha')]\n",
            "100%|██████████| 1/1 [00:00<00:00, 317.22it/s]\n",
            "INFO:__main__:[('What did the ministry of interior have to do?', 'depute an officer wellversed with the facts of the case or file a compliance report at the next hearing'), ('When was Abdul Mughni arrested?', '2013'), ('Where was Abdul Mughni arrested?', 'Mobina Town police station near Abul Hassan Ispahani Road'), ('How long was Abdul Mughni in prison?', 'six months')]\n",
            "100%|██████████| 1/1 [00:00<00:00, 313.22it/s]\n",
            "INFO:__main__:[(\"Who did the bench say had been directed to make arrangements for appellant's deportation?\", 'jail superintendent'), (\"Who did the bench say had been directed to make arrangements for appellant's deportation?\", 'the home department'), ('Who did the focal person of the home department of Sindh submit that a correspondence was made with on the subject matter?', 'the ministry of interior'), ('Who did the court issue a notice to?', 'the secretary to send an official')]\n",
            "100%|██████████| 1/1 [00:00<00:00, 457.19it/s]\n",
            "INFO:__main__:[('How long has the ministry of interior not been able to confirm whether the appellant is an Indian national?', 'seven years'), ('What did a section officer assert that the deportation had not been made due to?', 'certain procedural issues'), ('What did the bench say is extraordinary?', 'ministry of interior has not been able to confirm whether the appellant is an Indian national or not'), ('What did the section officer assert?', 'the deportation had not been made yet due to certain procedural issues')]\n",
            "100%|██████████| 1/1 [00:00<00:00, 360.00it/s]\n",
            "INFO:__main__:[('What did the bench state about the section officer?', 'he was not even aware if the Indian government had similar computerised national identify card system like Nadra'), ('What did the bench say about the section officer?', 'he was not even aware'), ('What did the bench say about the section officer?', 'he was not even aware if the Indian government had similar computerised national identify card system like Nadra'), ('What did the bench say about the section officer?', 'he was not even aware if the Indian government had similar computerised national identify card system like Nadra')]\n",
            "100%|██████████| 1/1 [00:00<00:00, 448.73it/s]\n",
            "INFO:__main__:[('Who did the bench ask to send a copy of the order to?', 'interior secretary'), ('Who shall send an officer wellserved with the facts of the case?', 'secretary, ministry of interior'), ('Who shall file his compliance report via DAG deputy attorney general?', 'DAG deputy attorney general'), ('When will the matter come up?', '13.05.2024 at 0900am')]\n",
            "100%|██████████| 1/1 [00:00<00:00, 1298.55it/s]\n",
            "INFO:__main__:[('What part of the comments section is undergoing an overhaul?', 'the comments section'), ('When will the comments section return?', 'soon')]\n",
            "100%|██████████| 1/1 [00:00<00:00, 271.97it/s]\n",
            "INFO:__main__:[('Where is the latest polio case reported?', 'Balochistans Chaman district'), ('What is the name of the wild poliovirus type 1?', 'WPV1'), ('Where is the Regional Reference Lab for Polio Eradication?', 'National Institute for Health NIH, Islamabad'), ('What is the name of the imported YB3A virus?', 'WPV1')]\n",
            "100%|██████████| 1/1 [00:00<00:00, 533.22it/s]\n",
            "INFO:__main__:[('How many positive samples has poliovirus been detected in Chaman?', '10'), ('When was the case of poliovirus detected in Chaman?', 'October 2023'), ('Where was a 30monthold boy paralysed?', 'Dera Bugti'), ('What cluster does the poliovirus belong to?', 'YB3A')]\n",
            "100%|██████████| 1/1 [00:00<00:00, 378.72it/s]\n",
            "INFO:__main__:[('How many environmental samples has the poliovirus been detected in?', '56'), ('How many sewage samples was the poliovirus detected in last year?', '100'), ('Why do children with the poliovirus have weak immunity?', 'being undervaccinated or not vaccinated for polio and other childhood diseases'), ('How does the poliovirus attack children with the poliovirus?', 'malnourished and have weak immunity')]\n",
            "100%|██████████| 1/1 [00:00<00:00, 548.28it/s]\n",
            "INFO:__main__:[('How many children has the national polio targeted since 2024?', '45 million'), ('When will a fresh polio drive begin in districts where the virus has been detected?', 'March 25'), ('How many children will the fresh polio drive target?', 'more than six million'), ('How many vaccination drives has the national polio conducted since 2024?', 'two')]\n",
            "100%|██████████| 1/1 [00:00<00:00, 399.50it/s]\n",
            "INFO:__main__:[('What is the PMA?', 'Pakistan Medical Association'), ('Who is PMA Secretary General?', 'Dr Abdul Ghafoor Shoro'), ('What does PMA urge parents to do?', 'cooperate with healthcare workers and vaccinate their children'), ('What does poliovirus cause?', 'paralysis, permanent')]\n",
            "100%|██████████| 1/1 [00:00<00:00, 449.41it/s]\n",
            "INFO:__main__:[('What is the only way to protect children from polio?', 'vaccination'), ('What can be fatal in severe cases of polio?', 'polio'), ('What is Pakistan one of the two countries where polio is still endemic?', 'Pakistan'), ('What is the only way to protect children from polio?', 'vaccination'), ('What is the only way to protect children from polio?', 'vaccination')]\n",
            "100%|██████████| 1/1 [00:00<00:00, 361.36it/s]\n",
            "INFO:__main__:[('Who stressed the role of public awareness in addressing vaccine hesitancy and dispelling misconceptions surrounding polio immunisation?', 'PMA'), ('What did PMA emphasize efforts to inform communities about?', 'the safety and effectiveness of the vaccine'), ('What must be intensified while ensuring the safety of healthcare workers and communities?', 'polio immunisation')]\n",
            "100%|██████████| 1/1 [00:00<00:00, 610.17it/s]\n",
            "INFO:__main__:[('What does the PMA continue to support?', 'government efforts and collaborating with all stakeholders to protect children from this debilitating disease'), ('What section of the PMA is undergoing an overhaul?', 'the comments section')]\n",
            "100%|██████████| 1/1 [00:00<00:00, 506.37it/s]\n",
            "INFO:__main__:[('Who was killed in attacks in Sibi and Bajaur?', 'senior police officer and a tribal elder'), ('Who was killed in attacks in Sibi and Bajaur?', 'Deputy Superintendent of Police DSP Khalid Zaman Marri'), ('Who was critically injured in the attacks?', 'Sibi Deputy Superintendent of Police DSP Khalid Zaman Marri'), ('Where was Khalid Zaman Marri taken?', 'Combined Military Hospital'), ('How many bullets did Khalid Zaman Marri receive?', 'six')]\n",
            "100%|██████████| 1/1 [00:00<00:00, 492.81it/s]\n",
            "INFO:__main__:[('Who returned fire to the attackers?', 'the DSPs security guard'), ('Who caught the attackers?', 'the police'), ('Where was the attacker shifted to?', 'the hospital')]\n",
            "100%|██████████| 1/1 [00:00<00:00, 423.03it/s]\n",
            "INFO:__main__:[('Who was the SP Counter Terrorism Department CTD in Sibi?', 'elder brother of Mir Asghar Marri'), ('Who was the victim in the attack?', 'elder brother of Mir Asghar Marri'), ('Who was the target of the attack?', 'tribal elder, Malik Lal Zareef'), ('Where did the attack occur?', 'Asil Targaoo locality')]\n",
            "100%|██████████| 1/1 [00:00<00:00, 247.32it/s]\n",
            "INFO:__main__:[('How old was the victim?', '55'), ('What did police say about the 55yearold victim?', 'critically wounded and died before he could be moved to a hospital'), ('What has been launched to arrest the culprits?', 'an investigation has been launched to arrest the culprits'), ('Who has so far claimed responsibility for the attack?', 'No group has so far claimed responsibility for the attack'), ('Who has launched a search operation?', 'a team from the Barang police station')]\n",
            "100%|██████████| 1/1 [00:00<00:00, 406.86it/s]\n",
            "INFO:__main__:[('How many alleged militants were killed in Lakki Marwat?', 'three'), ('Who conducted a joint operation in a rural area of Lakki Marwat?', 'CTD and security forces'), ('How many alleged militants were gunned down?', 'three'), ('Who has been identified as Zubair?', 'Zubair')]\n",
            "100%|██████████| 1/1 [00:00<00:00, 535.67it/s]\n",
            "INFO:__main__:[('Faisal and Jawad belonged to what areas?', 'Abdulkhel and Nawerkhel'), ('What group were the Faisal and Jawad allegedly affiliated with?', 'TehreekiTaliban Pakistan'), ('What were the Faisal and Jawad involved in?', 'attacks on police and security forces, target killings and extortion'), ('What were also recovered from the militants?', 'Ammunition and explosives')]\n",
            "100%|██████████| 1/1 [00:00<00:00, 850.94it/s]\n",
            "INFO:__main__:[('What is considered a constant threat to peace in the southern district of Khyber Pakhtunkhwa?', 'presence in several rural localities'), ('What is undergoing an overhaul and will return soon?', 'the comments section'), ('What is considered a constant threat to peace in the southern district of Khyber Pakhtunkhwa?', 'presence in several rural localities'), ('What is considered a constant threat to peace in the southern district of Khyber Pakhtunkhwa?', 'presence in several mountainous areas of Abdulkhel and Shah Hasankhel'), ('What is considered a constant threat to peace in the southern district of Khyber Pakhtunkhwa?', 'presence in several rural localities, including the mountainous areas of Abdulkhel and Shah Hasankhel'), ('What is considered a constant threat to peace in the southern district of Khyber Pakhtunkhwa?', 'presence in several rural localities')]\n",
            "100%|██████████| 1/1 [00:00<00:00, 409.68it/s]\n",
            "INFO:__main__:[('Who is the WASHINGTON ISLAMABAD Minister for Information and Broadcasting?', 'Ataullah Tarar'), ('Who did Tarar say was bent on sabotaging Pakistans deal with the IMF?', 'a handful of miscreants associated with the PTI'), ('What did Tarar say was crucial for economic stability?', 'Pakistans deal with the IMF'), ('Who did Tarar say was bent on sabotaging Pakistans deal with the IMF?', 'Ataullah Tarar')]\n",
            "100%|██████████| 1/1 [00:00<00:00, 486.58it/s]\n",
            "INFO:__main__:[('What group organised the protests outside the IMF headquarters?', 'First Pakistan Global'), ('Who were the majority of the protesters outside the IMF headquarters?', 'PTI supporters'), ('How many large screens did the truck display messages about rigging on?', 'four'), ('Who refused to accept letter in person?', 'Fund officials')]\n",
            "100%|██████████| 1/1 [00:00<00:00, 520.90it/s]\n",
            "INFO:__main__:[('Who was Imran Khans former chief of staff?', 'Dr Shahbaz Gill'), ('What did Imran Khans former chief of staff say the IMF promote?', 'democracy and good governance'), ('What did Dr Shahbaz Gill accuse the IMF of doing?', 'cooperating with the establishment')]\n",
            "100%|██████████| 1/1 [00:00<00:00, 315.88it/s]\n",
            "INFO:__main__:[('Who was a senior PTI leader from Texas?', 'Sajjad Barki'), ('Who did IMF representatives meet with before signing the agreement?', 'Imran Khan'), ('What did IMF representatives talk about?', 'promoting democracy in Pakistan and ensuring free and fair elections'), ('What did IMF representatives talk about?', 'promoting democracy in Pakistan and ensuring free and fair elections')]\n",
            "100%|██████████| 1/1 [00:00<00:00, 576.77it/s]\n",
            "INFO:__main__:[('What did Tarar say the protesters wanted to do?', 'sabotage the IMF deal'), ('What did Tarar say the protesters wanted?', 'to sabotage the IMF deal'), ('What did the protesters want the IMF to do?', 'give funds to Pakistan only if their jailed leader was released'), ('What did Tarar say the protesters wanted to do?', 'sabotage the IMF deal')]\n",
            "100%|██████████| 1/1 [00:00<00:00, 315.67it/s]\n",
            "INFO:__main__:[('What did Imran Khan say the PTI should do?', 'approach courts to secure Imran Khans release'), ('What did the IMF and World Bank have nothing to do with Imran Khans cases?', 'had nothing to do with his cases'), ('Who voted in Pakistan to solve the problems of the country, not to increase them?', 'the people'), ('What would be made under the vision of the prime minister?', 'efforts would be made for making the country prosperous through hard work')]\n",
            "100%|██████████| 1/1 [00:00<00:00, 392.25it/s]\n",
            "INFO:__main__:[('What would PTI be requested to refrain from doing?', 'taking any such initiatives that undermined the countrys economy'), ('What is the comments section undergoing?', 'an overhaul'), ('When will the comments section return?', 'soon')]\n",
            "100%|██████████| 1/1 [00:00<00:00, 369.67it/s]\n",
            "INFO:__main__:[('Who was the Sindh Chief Minister on Saturday?', 'Syed Murad Ali Shah'), ('What did the Sindh Constitution not allow?', 'a reduction in the share of provinces in the National Finance Commission NFC award'), ('Who was seeking a reassessment of the award?', 'International Monetary Fund'), ('What was the share of provinces in vertical distribution under the 7th NFC Award?', '49 per cent'), ('What was the share of provinces in vertical distribution increased from 49 per cent to 56pc during 201011?', '57.5pc')]\n",
            "100%|██████████| 1/1 [00:00<00:00, 304.35it/s]\n",
            "INFO:__main__:[('What was the horizontal distribution of resources amongst the provinces changed to?', 'a multiplecriteria formula'), ('What percentage of the distribution was made on population?', '82pc'), ('What percentage of the distribution was made on poverty and backwardness?', '10.3pc'), ('What percentage of the distribution was made on revenue collectiongeneration?', '5pc'), ('What percentage of the distribution was made on inverse population density?', '2.7pc')]\n",
            "100%|██████████| 1/1 [00:00<00:00, 558.87it/s]\n",
            "INFO:__main__:[('Who reportedly emphasised the need to reassess the NFC award?', 'The IMF'), ('Who cited disparities in resource allocation between federal and provincial authorities?', 'IMF'), ('Who said the government could not reduce the allocation to the provinces in the NFC award due to IMF pressure?', 'Sindh CM Shah'), ('What is written in the Constitution about the NFC award?', 'that the share of the provinces in resources cannot be reduced but it can be increased')]\n",
            "100%|██████████| 1/1 [00:00<00:00, 316.50it/s]\n",
            "INFO:__main__:[('Who did the government probably intimated about the reduction?', 'the IMF'), ('What did the chief minister say provinces were given after the 18th Amendment?', 'additional responsibilities'), ('What should be changed instead of continuing the 7th NFC Award?', 'NFC award'), ('What did the PPP and Sindh governments demand from the federal government?', '7th NFC Award')]\n",
            "100%|██████████| 1/1 [00:00<00:00, 593.17it/s]\n",
            "INFO:__main__:[('What article of the Constitution governs the NFC award?', 'Article 160'), ('What does Section 3A of the Constitution say?', 'The share of the provinces in each award of National Finance Commission shall not be less than the share given to the provinces in the previous award'), ('When did the opposition have to amend the constitutional provision barring any reduction in the previous years share of the provinces in the NFC award?', 'July 2020')]\n",
            "100%|██████████| 1/1 [00:00<00:00, 526.99it/s]\n",
            "INFO:__main__:[('Who was allowed to introduce a bill seeking to amend Article 160 3A of the Constitution?', 'Barrister Muhammad Ali Saif'), ('Who is the Barrister of the Muttahida Qaumi Movement?', 'Muhammad Ali Saif')]\n",
            "100%|██████████| 1/1 [00:00<00:00, 449.84it/s]\n",
            "INFO:__main__:[(\"Who was ISLAMABAD's prime minister on Friday?\", 'Shehbaz Sharif'), ('Who did Sharif seek US support for?', 'economic reforms and a new International Monetary Fund IMF programme'), ('Who provided all the resources required for ensuring operational readiness of the Armed Forces?', 'Government'), ('Where did Shehbaz Sharif visit for his first visit after assuming office?', 'General Headquarters')]\n",
            "100%|██████████| 1/1 [00:00<00:00, 459.05it/s]\n",
            "INFO:__main__:[('What did the briefing covering the threat spectrum cover?', 'response to the security threats and ongoing counterterrorism operations'), ('What did the Prime Minister and Cabinet members engage in discussions with during their visit?', 'matters of national security, regional stability and military preparedness'), ('What did the official press release not explicitly state?', 'whether the economic crisis was discussed'), ('What did the official press release not explicitly state?', 'whether the economic crisis was discussed')]\n",
            "100%|██████████| 1/1 [00:00<00:00, 438.18it/s]\n",
            "INFO:__main__:[('What did the requirements related to operational readiness mean?', 'defence spending would remain unaffected'), ('Who said that Pakistan was destined to rise and the armed forces had a crucial role in ensuring the peaceful rise of the country?', 'PM Shehbaz'), ('What did the PM and cabinet members appreciate the professionalism, operational readiness, and sacrifices of Pakistan Army in war against terrorism?', 'Pakistan Army')]\n",
            "100%|██████████| 1/1 [00:00<00:00, 362.89it/s]\n",
            "INFO:__main__:[('What did the Pakistan Army safeguard?', 'nations territorial integrity'), ('Who was the Chief Gen of the Pakistan Army?', 'Asim Munir'), ('Who did the PM meet with on Friday?', 'US ambassador'), ('What did the PM meet with the US ambassador to pinpoint?', 'areas of cooperation')]\n",
            "100%|██████████| 1/1 [00:00<00:00, 487.03it/s]\n",
            "INFO:__main__:[('Where was the US Embassy in Islamabad?', 'Islamabad'), ('Who was the Prime Minister of Pakistan?', 'Shehbaz Sharif'), ('Who was the US envoy for Pakistan?', 'Donald Blome'), ('What was discussed at the meeting between Shehbaz Sharif and Donald Blome?', 'continued economic reforms with and through the IMF'), ('When did the meeting occur?', 'a day after the commencement of discussions between Pakistan and the IMF for the second of the StandBy Arrangement')]\n",
            "100%|██████████| 1/1 [00:00<00:00, 327.53it/s]\n",
            "INFO:__main__:[(\"Who is Pakistan's finance minister?\", 'Muhammad Aurangzeb'), ('What is the deadline for the release of the last tranche of the SBA?', 'Monday March 18'), ('Who did PM Shehbaz meet with?', 'Ambassador Blome'), ('What did PM Shehbaz say his government would focus on?', 'macroeconomic reforms')]\n",
            "100%|██████████| 1/1 [00:00<00:00, 610.35it/s]\n",
            "INFO:__main__:[('What was established to expedite foreign investments in the countrys priority sectors?', 'Facilitation Council SIFC'), ('What were other areas of cooperation discussed during the ShehbazBlome meeting?', 'regional security, trade and investment, education, climate change, and private sectorled economic growth'), ('What did the prime minister call for regularly convening?', 'existing dialogue mechanisms')]\n",
            "100%|██████████| 1/1 [00:00<00:00, 441.27it/s]\n",
            "INFO:__main__:[('Who expressed US support for Pakistans democracy?', 'Ambassador Blome'), ('Who launched a countrywide spring drive?', 'PM Shehbaz'), ('What did PM Shehbaz urge the nation to do?', 'vehemently take part in the campaign'), ('What did PM Shehbaz plant in the Prime Minister Houses lawn?', 'a sapling')]\n",
            "100%|██████████| 1/1 [00:00<00:00, 513.57it/s]\n",
            "INFO:__main__:[('What did PM Shehbaz announce?', 'doubling the number of saplings planted in 2024 compared to the previous years target'), ('What did PM Shehbaz highlight the urgency of?', 'expanding the forest cover from five per cent of the total area to mitigate the impact of climate change'), ('What did PM Shehbaz ask the authorities concerned to do?', 'make all possible efforts to expand the plantation drive to every corner to make Pakistan green and pollutionfree'), ('What did PM Shehbaz ask the citizens to do?', 'help the government by participating in the drive')]\n",
            "100%|██████████| 1/1 [00:00<00:00, 1387.46it/s]\n",
            "INFO:__main__:[('What part of the comments section is undergoing an overhaul?', 'the comments section'), ('When will the comments section return?', 'soon'), ('What is undergoing an overhaul?', 'the comments section')]\n",
            "100%|██████████| 1/1 [00:00<00:00, 407.10it/s]\n",
            "INFO:__main__:[('How many controversial ordinances does the government lay?', 'seven'), ('Who initially opposes the move?', 'PTI and JUIF PPP'), ('How many controversial ordinances does the government lay?', 'seven'), ('How many controversial ordinances does the government lay before the house?', 'seven')]\n",
            "100%|██████████| 1/1 [00:00<00:00, 549.71it/s]\n",
            "INFO:__main__:[('How long did the opposition PTI protest the ordinances?', 'four months'), ('Who asked the chair to take a picture of the PTI members?', 'Omar Ayub Khan'), ('Who dubbed the PTI members traitors and antistate?', 'Azam Nazeer Tarar'), ('What did Azam Nazeer Tarar call the PTI members?', 'traitors and antistate')]\n",
            "100%|██████████| 1/1 [00:00<00:00, 371.67it/s]\n",
            "INFO:__main__:[('Who put the motion for a vote after the opposition challenged his ruling on the voice vote?', 'Speaker Ayaz Sadiq'), ('Who allowed the law minister to lay the resolution after the house approved the motion seeking suspension of the rules to do so with a 13063 vote?', 'the law minister'), ('The JUIF also opposed the governments move to table the ordinances under what pressure?', 'IMF pressure')]\n",
            "100%|██████████| 1/1 [00:00<00:00, 313.78it/s]\n",
            "INFO:__main__:[('Who opposed the ordinances?', 'PPP'), ('Who was the MNA from Karachi?', 'Abdul Qadir Patel'), ('What did Abdul Qadir Patel believe the government showed in bringing the ordinances?', 'haste')]\n",
            "100%|██████████| 1/1 [00:00<00:00, 345.55it/s]\n",
            "INFO:__main__:[('What did Speaker Sadiq say about the ordinances?', 'they were linked to the IMFrelated issues and, if not taken up timely, Pakistan can face a loss'), ('What did Speaker Sadiq say about the ordinances?', 'the ordinances were being tabled in the form of bills and that he would refer them to the committees where the members would get an opportunity to debate them'), ('Who expressed serious reservations not over the way the ordinances were tabled?', 'Syed Naveed Qamar')]\n",
            "100%|██████████| 1/1 [00:00<00:00, 314.23it/s]\n",
            "INFO:__main__:[('Who brought the ordinances before the house?', 'government'), ('Who stated that his party had reservations over the contents of the ordinances?', 'Omar Ayub'), ('What did Qamar say they voted in favour of?', 'the government being part of the ruling coalition'), ('What did Qamar ask the chair to rule?', 'these laws would not be implemented until they were approved by the house and its committees')]\n",
            "100%|██████████| 1/1 [00:00<00:00, 410.68it/s]\n",
            "INFO:__main__:[('Who alleged that the language of the ordinances showed that there was ill intention behind this move?', 'Mr Omar'), ('What are the ordinances meant to sell?', 'Pakistan'), ('What did the speaker issue a warning that he would take disciplinary action over?', 'rowdyism')]\n",
            "100%|██████████| 1/1 [00:00<00:00, 193.73it/s]\n",
            "INFO:__main__:[('What did Tarar say the ordinances were aimed at?', 'reducing the governments control of the boards of some public sector enterprises and making them autonomous'), ('Who was Prime Minister?', 'Shehbaz Sharif'), ('What did Sharif want to form?', 'a committee comprising allies for legislative business'), ('Who did Tarar say wanted to destroy Pakistans economy?', 'those who are not faithful to the country')]\n",
            "100%|██████████| 1/1 [00:00<00:00, 544.64it/s]\n",
            "INFO:__main__:[('Who questioned the legal status of the opposition members?', 'Mr Tarar'), ('What did the Peshawar High Courts decision deny the opposition members?', 'reserved seats on the quota of the Sunni Ittehad Council SIC'), ('What did the law minister refer to in an apparent reference to jailed PTI leader Imran Khan?', 'Stand behind the country and do not always stand behind a prisoner')]\n",
            "100%|██████████| 1/1 [00:00<00:00, 563.45it/s]\n",
            "INFO:__main__:[('Who defended the governments move of tabling the ordinances?', 'Mr Tarar'), ('What were the ordinances laid before the assembly?', 'Pakistan Broadcasting Corporation Amendment Ordinance, 2023 the Pakistan National Shipping Corporation Amendment Ordinance, 2023 the Pakistan Postal Services Management Board Amendment Ordinance, 2023 the National Highway Authority Amendment Ordinance, 2023 the Criminal Law Amendment Ordinance, 2023 the Privatisation Commission Amendment Ordinance, 2023')]\n",
            "100%|██████████| 1/1 [00:00<00:00, 533.97it/s]\n",
            "INFO:__main__:[('When was the Establishment of Telecommunication Appellate Tribunal Ordinance passed?', '2023'), ('How many women took the oath as MNAs?', 'five'), ('What did the National Assembly unanimously pass?', 'a resolution condemning the ongoing Israeli aggression against the people of Palestine'), ('Who read the resolution?', 'Shazia Marri')]\n",
            "100%|██████████| 1/1 [00:00<00:00, 439.52it/s]\n",
            "INFO:__main__:[('What did someone from the opposition benches shout?', 'No'), ('Who did the speaker read out prorogation order and adjourned the inaugural session for?', 'President Asif Zardaris'), ('What section is undergoing an overhaul and will return soon?', 'the comments section')]\n",
            "100%|██████████| 1/1 [00:00<00:00, 417.72it/s]\n",
            "INFO:__main__:[('Where does Zeba Masood live?', 'Charsadda'), ('How many dogs does Zeba Masood have?', 'hundreds'), ('What is Zeba Masood?', 'an animal lover')]\n",
            "100%|██████████| 1/1 [00:00<00:00, 434.87it/s]\n",
            "INFO:__main__:[(\"What was the name of Khyber Pakhtunkh's first animal shelter?\", 'Lucky Animal Protection Shelter'), ('How many years did I run LAPS?', 'six years'), (\"What was the name of Khyber Pakhtunkh's first animal shelter?\", 'Lucky Animal Protection Shelter'), (\"What was the name of Khyber Pakhtunkh's first animal shelter?\", 'Lucky Animal Protection Shelter'), (\"What was the name of Khyber Pakhtunkh's first animal shelter?\", 'Lucky Animal Protection Shelter'), (\"What was the name of Khyber Pakhtunkh's first animal shelter?\", 'Lucky Animal Protection Shelter'), (\"What was the name of Khyber Pakhtunkh's first animal shelter?\", 'Lucky Animal Protection Shelter'), (\"What was the name of Khyber Pakhtunkh's first animal shelter?\", 'Lucky Animal Protection Shelter'), (\"What was the name of Khyber Pakhtunkh's first animal shelter?\", 'Lucky Animal Protection Shelter')]\n",
            "100%|██████████| 1/1 [00:00<00:00, 392.10it/s]\n",
            "INFO:__main__:[('What did Masood remember nibbling on?', 'plastic and paper'), ('Where did Masood live?', 'Peshawar'), ('What did the sight of animals in pain lead to?', 'LAPS'), ('What did Masood remember nibbling on?', 'plastic and paper')]\n",
            "100%|██████████| 1/1 [00:00<00:00, 437.13it/s]\n",
            "INFO:__main__:[(\"What was Vicky's name?\", 'Vicky'), ('How long did Vicky live in the United States?', 'nearly 40 years'), ('What did Vicky leave behind?', 'his offspring')]\n",
            "100%|██████████| 1/1 [00:00<00:00, 348.13it/s]\n",
            "INFO:__main__:[('When did Masood go to Peshawar?', '2017'), ('What did Masood start feeding?', 'dogs, cats, donkeys, horses and other strays'), ('Who did Masood find the perfect companion for these excursions?', 'her husband'), ('What did Masood ask her father to do?', 'fence in a small enclosure in the plot for her')]\n",
            "100%|██████████| 1/1 [00:00<00:00, 322.44it/s]\n",
            "INFO:__main__:[('What was the name of the first animal I rescued?', 'pit bull'), ('How many dogs does LAPS house?', 'nearly 300'), ('How many stray animals have Masood vaccinated?', 'over 5,000'), ('How many dogs and cats have Masood neutered?', 'more than 3,000')]\n",
            "100%|██████████| 1/1 [00:00<00:00, 523.57it/s]\n",
            "INFO:__main__:[('What hasnt been an easy job for Masood and her husband?', 'running a shelter'), ('Why did people never get a hold of Masood and her husband?', 'why we were rescuing animals'), ('Why did Masood and her husband open an animal shelter?', 'not a nonprofit organisation for humans'), ('How many NGOs are there to cater to women, orphans and others?', 'hundreds')]\n",
            "100%|██████████| 1/1 [00:00<00:00, 188.59it/s]\n",
            "INFO:__main__:[('What did Masood say about the walls of her shelter?', 'chalked with obscenities'), ('What did men throw at the rescued animals?', 'stones and bricks'), ('What did Masood say about the strays?', 'they are impure and angels wont come here'), ('What did the police do?', 'grabbed my husband by the collar'), ('What did Masood say about the strays?', 'they are impure and angels wont come here')]\n",
            "100%|██████████| 1/1 [00:00<00:00, 530.52it/s]\n",
            "INFO:__main__:[('Where did Masood move the group to?', 'Charsadda'), ('How far south of Peshawar did LAPS travel?', '20.9 kilometres'), ('How did Masood feel about the hatred and curses?', 'her animals bring her immense happiness'), ('How did Masood feel about the hatred and curses?', 'they told me to relocate and move to the quiet town of Charsadda')]\n",
            "100%|██████████| 1/1 [00:00<00:00, 461.32it/s]\n",
            "INFO:__main__:[('How long has directed at the furrylegged creatures taken a toll on Masood?', 'six years'), ('What is Masood plagued with?', 'selfdoubt'), (\"What is Masood's team trying to save?\", 'a dog somebody is trying to shoot them'), ('What is the prevailing gun culture in the province?', 'most of the cases we see are of animal cases')]\n",
            "100%|██████████| 1/1 [00:00<00:00, 269.02it/s]\n",
            "INFO:__main__:[('How many dogs did LAPS lose during the 2022 floods?', '15'), ('How many dogs did LAPS lose during the 2022 floods?', '15'), ('How many years has Masood seen teenagers throwing kittens into gutters?', 'six'), ('What did Masood see people poisoning?', 'mother dogs and their newborn litters'), ('What did Masood see men beating donkeys to death?', 'donkeys')]\n",
            "100%|██████████| 1/1 [00:00<00:00, 475.22it/s]\n",
            "INFO:__main__:[('How many feet of floodwater entered the shelter?', 'up to seven feet'), ('What did Masood have to do when the situation grew too dangerous?', 'relocate the animals'), ('What did Masood say was just pure heartache?', 'harassment')]\n",
            "100%|██████████| 1/1 [00:00<00:00, 392.50it/s]\n",
            "INFO:__main__:[('How many stray dogs and cats does LAPS spay and vaccinates a week?', 'at least five'), ('How many dogs does Masood want to vaccinate a day?', '10'), ('Who is Masood trying to reach out to for funds and help with adoption?', 'international donors'), ('Why does Masood believe vaccinating stray dogs and cats is important?', 'not just for the animals themselves but also to keep humans safe')]\n",
            "100%|██████████| 1/1 [00:00<00:00, 557.16it/s]\n",
            "INFO:__main__:[('What does Masood say we need to educate our kids to do?', 'treat animals with compassion and be empathetic'), ('What does Masood want to bring into society?', 'acceptance'), ('Who did Masood quote to illustrate her point?', 'Mahatma Gandhi'), ('What can be judged by the way its animals are treated?', 'greatness of a nation and its moral progress')]\n",
            "100%|██████████| 1/1 [00:00<00:00, 1740.38it/s]\n",
            "INFO:__main__:[('What is treated?', 'treated'), ('What is treated?', 'treated'), ('What is treated?', 'treated'), ('What is treated?', 'treated'), ('What is treated?', 'treated')]\n",
            "100%|██████████| 1/1 [00:00<00:00, 538.63it/s]\n",
            "INFO:__main__:[('Who was released from Adiala Jail on Saturday?', 'Asad Ali Toor'), (\"What was Toor's case about?\", 'an online campaign against the judiciary'), ('What did the caretaker government have to probe in January?', 'an alleged social media campaign against the judiciary'), ('How long did the investigation last?', 'nearly eight hours')]\n",
            "100%|██████████| 1/1 [00:00<00:00, 489.07it/s]\n",
            "INFO:__main__:[('What Act did Toor face charges under?', 'Prevention of Electronic Crimes Act'), (\"What was Toor's bail hearing postponed to?\", 'March 18'), (\"Who intervened in Toor's case?\", 'Islamabad High Court'), (\"What was Toor's bail hearing postponed to?\", 'March 18')]\n",
            "100%|██████████| 1/1 [00:00<00:00, 323.58it/s]\n",
            "INFO:__main__:[('What did the Committee to Protect Journalists CPJ call for?', 'Toors immediate release and an end to his harassment'), ('Who conducted the hearing of the case today?', 'Special Judge Central Humayun Dilawar'), ('Who represented Toor?', 'Advocates Imaan MazariHazir and Hadi Ali Chatha'), ('Who was the investigation officer of the case and FIA prosecutor?', 'Ashfaq Hussain Shah')]\n",
            "100%|██████████| 1/1 [00:00<00:00, 544.93it/s]\n",
            "INFO:__main__:[('Who submitted the Supreme Courts observation that journalists should over a social media campaign against superior judges?', 'Advocate Chatha'), ('Who asked the investigation officer of the case and the FIA prosecutor if the Supreme Courts observation being referred to was true?', 'Judge Dilawar'), ('Whose bail plea against surety was accepted?', 'Toors')]\n",
            "100%|██████████| 1/1 [00:00<00:00, 435.36it/s]\n",
            "INFO:__main__:[('How much was the bond for Asad Toor?', 'Rs5,000'), ('Who rejoiced at the release of Asad Toor?', 'Hazir'), ('Who ordered the release of Asad Toor?', 'Judge Humayun Dilawar'), ('How long was the physical remand given to FIA for Asad Toor?', '10day')]\n",
            "100%|██████████| 1/1 [00:00<00:00, 532.81it/s]\n",
            "INFO:__main__:[('Who lauded Toors counsel for the approval of Toors bail plea?', 'Ahsan J Pirzada'), ('How long after his arrest has Asad Ali Toor been granted bail?', '20 days'), ('How did Imaan Hazir and Hadi Chatha fight?', 'The way they both fought, despite numerous hurdles, is a testament to their courage, determination, professionalism and friendship'), ('How long after his arrest has Asad Ali Toor been granted bail?', '20 days')]\n",
            "100%|██████████| 1/1 [00:00<00:00, 391.33it/s]\n",
            "INFO:__main__:[(\"How long did the FIA have Toor's physical remand for?\", 'fiveday'), (\"How long did the lower court have Toor's physical remand for?\", 'two days'), ('What Act does the Prevention of Electronic Crimes Act Peca deal with?', 'Prevention of Electronic Crimes Act Peca'), ('What did the FIR say Toor built?', 'a false narrative')]\n",
            "100%|██████████| 1/1 [00:00<00:00, 910.22it/s]\n",
            "INFO:__main__:[('Who did the public launch a maliciousobnoxious and explicit campaign against?', 'civil servantsgovernment officials and state institutions'), ('What is the comments section undergoing?', 'an overhaul'), ('When will the comments section return?', 'soon')]\n",
            "100%|██████████| 1/1 [00:00<00:00, 546.99it/s]\n",
            "INFO:__main__:[('What stray cat was killed in Turkiyes Istanbul?', 'Eros'), ('What did the killing of a stray cat in Turkiyes Istanbul trigger?', 'petitions, protests and death threats'), ('Who was caught on a security camera kicking to death a stray cat?', 'Ibrahim K'), (\"How long was Ibrahim K's sentence in jail?\", '18 months'), (\"What did Ibrahim K's sentence spark?\", 'indignation among animal welfare groups')]\n",
            "100%|██████████| 1/1 [00:00<00:00, 281.69it/s]\n",
            "INFO:__main__:[('How many people signed an online petition demanding a stiffer sentence?', '320,000'), ('Who said he was taking a personal interest in the case?', 'President Recep Tayyip Erdogan'), ('When was Ibrahim K retried?', 'Wednesday'), ('Where was Ibrahim K retried?', 'court building')]\n",
            "100%|██████████| 1/1 [00:00<00:00, 167.60it/s]\n",
            "INFO:__main__:[(\"How long was Ibrahim K's sentence increased by?\", 'one year'), ('Who has sent Ibrahim K death threats?', 'internet trolls'), (\"What is Ibrahim K's maximum sentence?\", 'four years'), ('On what day was the hashtag trending on X in Turkey?', 'Thursday')]\n",
            "100%|██████████| 1/1 [00:00<00:00, 196.93it/s]\n",
            "INFO:__main__:[('Who is the star striker at Istanbul giants?', 'Mauro Icardi'), ('Who is the reigning Turkish champions of Galatasaray?', 'Galatasaray')]\n"
          ]
        }
      ],
      "source": [
        "# now run end2end QAG\n",
        "run_qag_model = False\n",
        "if run_qag_model:\n",
        "  QAG(dataset, text_splitter)"
      ]
    },
    {
      "cell_type": "code",
      "execution_count": null,
      "metadata": {
        "id": "c4QRTVBj2FU7"
      },
      "outputs": [],
      "source": [
        "# remove duplicate entries in the csv if exists!!\n",
        "import pandas as pd\n",
        "\n",
        "save_file = True\n",
        "if save_file:\n",
        "  df = pd.read_csv('qa_pairs_new.csv')\n",
        "\n",
        "  # Remove duplicate rows\n",
        "  df.drop_duplicates(inplace=True)\n",
        "\n",
        "  # Write the cleaned data back to a CSV file\n",
        "  df.to_csv('cleaned_file.csv', index=False)"
      ]
    },
    {
      "cell_type": "code",
      "execution_count": null,
      "metadata": {
        "colab": {
          "base_uri": "https://localhost:8080/",
          "height": 206
        },
        "id": "3-RQOg9POqBd",
        "outputId": "b77da937-6b73-42e6-938c-6459b22891cc"
      },
      "outputs": [
        {
          "data": {
            "application/vnd.google.colaboratory.intrinsic+json": {
              "summary": "{\n  \"name\": \"df\",\n  \"rows\": 5,\n  \"fields\": [\n    {\n      \"column\": \"Question\",\n      \"properties\": {\n        \"dtype\": \"string\",\n        \"num_unique_values\": 5,\n        \"samples\": [\n          \"What is Ibrahim K's maximum sentence?\",\n          \"Who is the reigning Turkish champions of Galatasaray?\",\n          \"On what day was the hashtag trending on X in Turkey?\"\n        ],\n        \"semantic_type\": \"\",\n        \"description\": \"\"\n      }\n    },\n    {\n      \"column\": \"Answer\",\n      \"properties\": {\n        \"dtype\": \"string\",\n        \"num_unique_values\": 5,\n        \"samples\": [\n          \"four years\",\n          \"Galatasaray\",\n          \"Thursday\"\n        ],\n        \"semantic_type\": \"\",\n        \"description\": \"\"\n      }\n    }\n  ]\n}",
              "type": "dataframe"
            },
            "text/html": [
              "\n",
              "  <div id=\"df-b040fa2b-28ce-4e50-86d7-b968e0f8f6e9\" class=\"colab-df-container\">\n",
              "    <div>\n",
              "<style scoped>\n",
              "    .dataframe tbody tr th:only-of-type {\n",
              "        vertical-align: middle;\n",
              "    }\n",
              "\n",
              "    .dataframe tbody tr th {\n",
              "        vertical-align: top;\n",
              "    }\n",
              "\n",
              "    .dataframe thead th {\n",
              "        text-align: right;\n",
              "    }\n",
              "</style>\n",
              "<table border=\"1\" class=\"dataframe\">\n",
              "  <thead>\n",
              "    <tr style=\"text-align: right;\">\n",
              "      <th></th>\n",
              "      <th>Question</th>\n",
              "      <th>Answer</th>\n",
              "    </tr>\n",
              "  </thead>\n",
              "  <tbody>\n",
              "    <tr>\n",
              "      <th>448</th>\n",
              "      <td>Who has sent Ibrahim K death threats?</td>\n",
              "      <td>internet trolls</td>\n",
              "    </tr>\n",
              "    <tr>\n",
              "      <th>449</th>\n",
              "      <td>What is Ibrahim K's maximum sentence?</td>\n",
              "      <td>four years</td>\n",
              "    </tr>\n",
              "    <tr>\n",
              "      <th>450</th>\n",
              "      <td>On what day was the hashtag trending on X in T...</td>\n",
              "      <td>Thursday</td>\n",
              "    </tr>\n",
              "    <tr>\n",
              "      <th>451</th>\n",
              "      <td>Who is the star striker at Istanbul giants?</td>\n",
              "      <td>Mauro Icardi</td>\n",
              "    </tr>\n",
              "    <tr>\n",
              "      <th>452</th>\n",
              "      <td>Who is the reigning Turkish champions of Galat...</td>\n",
              "      <td>Galatasaray</td>\n",
              "    </tr>\n",
              "  </tbody>\n",
              "</table>\n",
              "</div>\n",
              "    <div class=\"colab-df-buttons\">\n",
              "\n",
              "  <div class=\"colab-df-container\">\n",
              "    <button class=\"colab-df-convert\" onclick=\"convertToInteractive('df-b040fa2b-28ce-4e50-86d7-b968e0f8f6e9')\"\n",
              "            title=\"Convert this dataframe to an interactive table.\"\n",
              "            style=\"display:none;\">\n",
              "\n",
              "  <svg xmlns=\"http://www.w3.org/2000/svg\" height=\"24px\" viewBox=\"0 -960 960 960\">\n",
              "    <path d=\"M120-120v-720h720v720H120Zm60-500h600v-160H180v160Zm220 220h160v-160H400v160Zm0 220h160v-160H400v160ZM180-400h160v-160H180v160Zm440 0h160v-160H620v160ZM180-180h160v-160H180v160Zm440 0h160v-160H620v160Z\"/>\n",
              "  </svg>\n",
              "    </button>\n",
              "\n",
              "  <style>\n",
              "    .colab-df-container {\n",
              "      display:flex;\n",
              "      gap: 12px;\n",
              "    }\n",
              "\n",
              "    .colab-df-convert {\n",
              "      background-color: #E8F0FE;\n",
              "      border: none;\n",
              "      border-radius: 50%;\n",
              "      cursor: pointer;\n",
              "      display: none;\n",
              "      fill: #1967D2;\n",
              "      height: 32px;\n",
              "      padding: 0 0 0 0;\n",
              "      width: 32px;\n",
              "    }\n",
              "\n",
              "    .colab-df-convert:hover {\n",
              "      background-color: #E2EBFA;\n",
              "      box-shadow: 0px 1px 2px rgba(60, 64, 67, 0.3), 0px 1px 3px 1px rgba(60, 64, 67, 0.15);\n",
              "      fill: #174EA6;\n",
              "    }\n",
              "\n",
              "    .colab-df-buttons div {\n",
              "      margin-bottom: 4px;\n",
              "    }\n",
              "\n",
              "    [theme=dark] .colab-df-convert {\n",
              "      background-color: #3B4455;\n",
              "      fill: #D2E3FC;\n",
              "    }\n",
              "\n",
              "    [theme=dark] .colab-df-convert:hover {\n",
              "      background-color: #434B5C;\n",
              "      box-shadow: 0px 1px 3px 1px rgba(0, 0, 0, 0.15);\n",
              "      filter: drop-shadow(0px 1px 2px rgba(0, 0, 0, 0.3));\n",
              "      fill: #FFFFFF;\n",
              "    }\n",
              "  </style>\n",
              "\n",
              "    <script>\n",
              "      const buttonEl =\n",
              "        document.querySelector('#df-b040fa2b-28ce-4e50-86d7-b968e0f8f6e9 button.colab-df-convert');\n",
              "      buttonEl.style.display =\n",
              "        google.colab.kernel.accessAllowed ? 'block' : 'none';\n",
              "\n",
              "      async function convertToInteractive(key) {\n",
              "        const element = document.querySelector('#df-b040fa2b-28ce-4e50-86d7-b968e0f8f6e9');\n",
              "        const dataTable =\n",
              "          await google.colab.kernel.invokeFunction('convertToInteractive',\n",
              "                                                    [key], {});\n",
              "        if (!dataTable) return;\n",
              "\n",
              "        const docLinkHtml = 'Like what you see? Visit the ' +\n",
              "          '<a target=\"_blank\" href=https://colab.research.google.com/notebooks/data_table.ipynb>data table notebook</a>'\n",
              "          + ' to learn more about interactive tables.';\n",
              "        element.innerHTML = '';\n",
              "        dataTable['output_type'] = 'display_data';\n",
              "        await google.colab.output.renderOutput(dataTable, element);\n",
              "        const docLink = document.createElement('div');\n",
              "        docLink.innerHTML = docLinkHtml;\n",
              "        element.appendChild(docLink);\n",
              "      }\n",
              "    </script>\n",
              "  </div>\n",
              "\n",
              "\n",
              "<div id=\"df-35325c66-7e06-46fd-8bd6-7f02f9a2e357\">\n",
              "  <button class=\"colab-df-quickchart\" onclick=\"quickchart('df-35325c66-7e06-46fd-8bd6-7f02f9a2e357')\"\n",
              "            title=\"Suggest charts\"\n",
              "            style=\"display:none;\">\n",
              "\n",
              "<svg xmlns=\"http://www.w3.org/2000/svg\" height=\"24px\"viewBox=\"0 0 24 24\"\n",
              "     width=\"24px\">\n",
              "    <g>\n",
              "        <path d=\"M19 3H5c-1.1 0-2 .9-2 2v14c0 1.1.9 2 2 2h14c1.1 0 2-.9 2-2V5c0-1.1-.9-2-2-2zM9 17H7v-7h2v7zm4 0h-2V7h2v10zm4 0h-2v-4h2v4z\"/>\n",
              "    </g>\n",
              "</svg>\n",
              "  </button>\n",
              "\n",
              "<style>\n",
              "  .colab-df-quickchart {\n",
              "      --bg-color: #E8F0FE;\n",
              "      --fill-color: #1967D2;\n",
              "      --hover-bg-color: #E2EBFA;\n",
              "      --hover-fill-color: #174EA6;\n",
              "      --disabled-fill-color: #AAA;\n",
              "      --disabled-bg-color: #DDD;\n",
              "  }\n",
              "\n",
              "  [theme=dark] .colab-df-quickchart {\n",
              "      --bg-color: #3B4455;\n",
              "      --fill-color: #D2E3FC;\n",
              "      --hover-bg-color: #434B5C;\n",
              "      --hover-fill-color: #FFFFFF;\n",
              "      --disabled-bg-color: #3B4455;\n",
              "      --disabled-fill-color: #666;\n",
              "  }\n",
              "\n",
              "  .colab-df-quickchart {\n",
              "    background-color: var(--bg-color);\n",
              "    border: none;\n",
              "    border-radius: 50%;\n",
              "    cursor: pointer;\n",
              "    display: none;\n",
              "    fill: var(--fill-color);\n",
              "    height: 32px;\n",
              "    padding: 0;\n",
              "    width: 32px;\n",
              "  }\n",
              "\n",
              "  .colab-df-quickchart:hover {\n",
              "    background-color: var(--hover-bg-color);\n",
              "    box-shadow: 0 1px 2px rgba(60, 64, 67, 0.3), 0 1px 3px 1px rgba(60, 64, 67, 0.15);\n",
              "    fill: var(--button-hover-fill-color);\n",
              "  }\n",
              "\n",
              "  .colab-df-quickchart-complete:disabled,\n",
              "  .colab-df-quickchart-complete:disabled:hover {\n",
              "    background-color: var(--disabled-bg-color);\n",
              "    fill: var(--disabled-fill-color);\n",
              "    box-shadow: none;\n",
              "  }\n",
              "\n",
              "  .colab-df-spinner {\n",
              "    border: 2px solid var(--fill-color);\n",
              "    border-color: transparent;\n",
              "    border-bottom-color: var(--fill-color);\n",
              "    animation:\n",
              "      spin 1s steps(1) infinite;\n",
              "  }\n",
              "\n",
              "  @keyframes spin {\n",
              "    0% {\n",
              "      border-color: transparent;\n",
              "      border-bottom-color: var(--fill-color);\n",
              "      border-left-color: var(--fill-color);\n",
              "    }\n",
              "    20% {\n",
              "      border-color: transparent;\n",
              "      border-left-color: var(--fill-color);\n",
              "      border-top-color: var(--fill-color);\n",
              "    }\n",
              "    30% {\n",
              "      border-color: transparent;\n",
              "      border-left-color: var(--fill-color);\n",
              "      border-top-color: var(--fill-color);\n",
              "      border-right-color: var(--fill-color);\n",
              "    }\n",
              "    40% {\n",
              "      border-color: transparent;\n",
              "      border-right-color: var(--fill-color);\n",
              "      border-top-color: var(--fill-color);\n",
              "    }\n",
              "    60% {\n",
              "      border-color: transparent;\n",
              "      border-right-color: var(--fill-color);\n",
              "    }\n",
              "    80% {\n",
              "      border-color: transparent;\n",
              "      border-right-color: var(--fill-color);\n",
              "      border-bottom-color: var(--fill-color);\n",
              "    }\n",
              "    90% {\n",
              "      border-color: transparent;\n",
              "      border-bottom-color: var(--fill-color);\n",
              "    }\n",
              "  }\n",
              "</style>\n",
              "\n",
              "  <script>\n",
              "    async function quickchart(key) {\n",
              "      const quickchartButtonEl =\n",
              "        document.querySelector('#' + key + ' button');\n",
              "      quickchartButtonEl.disabled = true;  // To prevent multiple clicks.\n",
              "      quickchartButtonEl.classList.add('colab-df-spinner');\n",
              "      try {\n",
              "        const charts = await google.colab.kernel.invokeFunction(\n",
              "            'suggestCharts', [key], {});\n",
              "      } catch (error) {\n",
              "        console.error('Error during call to suggestCharts:', error);\n",
              "      }\n",
              "      quickchartButtonEl.classList.remove('colab-df-spinner');\n",
              "      quickchartButtonEl.classList.add('colab-df-quickchart-complete');\n",
              "    }\n",
              "    (() => {\n",
              "      let quickchartButtonEl =\n",
              "        document.querySelector('#df-35325c66-7e06-46fd-8bd6-7f02f9a2e357 button');\n",
              "      quickchartButtonEl.style.display =\n",
              "        google.colab.kernel.accessAllowed ? 'block' : 'none';\n",
              "    })();\n",
              "  </script>\n",
              "</div>\n",
              "\n",
              "    </div>\n",
              "  </div>\n"
            ],
            "text/plain": [
              "                                              Question           Answer\n",
              "448              Who has sent Ibrahim K death threats?  internet trolls\n",
              "449              What is Ibrahim K's maximum sentence?       four years\n",
              "450  On what day was the hashtag trending on X in T...         Thursday\n",
              "451        Who is the star striker at Istanbul giants?     Mauro Icardi\n",
              "452  Who is the reigning Turkish champions of Galat...      Galatasaray"
            ]
          },
          "execution_count": 37,
          "metadata": {},
          "output_type": "execute_result"
        }
      ],
      "source": [
        "df = pd.read_csv('cleaned_file.csv')\n",
        "df.tail()"
      ]
    },
    {
      "cell_type": "markdown",
      "metadata": {
        "id": "rqSRhWsoWf6A"
      },
      "source": [
        "Streaming output of llm with Gradio interface"
      ]
    },
    {
      "cell_type": "code",
      "execution_count": 75,
      "metadata": {
        "id": "DBrSE0wVWfAH"
      },
      "outputs": [],
      "source": [
        "!pip install gradio"
      ]
    },
    {
      "cell_type": "code",
      "execution_count": 83,
      "metadata": {
        "id": "RkzWRjbkXhSD"
      },
      "outputs": [],
      "source": [
        "def end2end_qag(context):\n",
        "    # return qa pairs for the context provided\n",
        "    question_answer = model.generate_qa(context)\n",
        "    formatted_text = \"\"\n",
        "    for question, answer in question_answer:\n",
        "        formatted_text += f\"question: {question}\\nanswer: {answer}\\n\\n\"\n",
        "\n",
        "    return formatted_text"
      ]
    },
    {
      "cell_type": "markdown",
      "metadata": {
        "id": "TUs0yqwYzkmS"
      },
      "source": [
        "**Demo**"
      ]
    },
    {
      "cell_type": "code",
      "execution_count": 84,
      "metadata": {
        "colab": {
          "base_uri": "https://localhost:8080/",
          "height": 611
        },
        "id": "v9ojZXaYWk8m",
        "outputId": "4bf540df-489e-4278-95f8-395fa5576961"
      },
      "outputs": [
        {
          "output_type": "stream",
          "name": "stdout",
          "text": [
            "Colab notebook detected. To show errors in colab notebook, set debug=True in launch()\n",
            "Running on public URL: https://d470cec757b2208507.gradio.live\n",
            "\n",
            "This share link expires in 72 hours. For free permanent hosting and GPU upgrades, run `gradio deploy` from Terminal to deploy to Spaces (https://huggingface.co/spaces)\n"
          ]
        },
        {
          "output_type": "display_data",
          "data": {
            "text/plain": [
              "<IPython.core.display.HTML object>"
            ],
            "text/html": [
              "<div><iframe src=\"https://d470cec757b2208507.gradio.live\" width=\"100%\" height=\"500\" allow=\"autoplay; camera; microphone; clipboard-read; clipboard-write;\" frameborder=\"0\" allowfullscreen></iframe></div>"
            ]
          },
          "metadata": {}
        }
      ],
      "source": [
        "# enable this cell to see gradio app interface (OPTIONAL)\n",
        "# run the machine learning application in real time for question answering\n",
        "import gradio as gr\n",
        "enable = True\n",
        "if enable:\n",
        "  iface = gr.Interface(\n",
        "      fn=end2end_qag,\n",
        "      inputs=[\n",
        "          gr.Textbox(label=\"Insert a paragraph here\", lines=6),\n",
        "      ],\n",
        "      outputs=[gr.Textbox(label=\"QA Generation\", lines=3)],\n",
        "      title=\"LLM based Question answers pairs generator\",\n",
        "      examples=[\"generate question answer pairs from the dataset!\"]\n",
        "  )\n",
        "  iface.launch(share=True)"
      ]
    },
    {
      "cell_type": "code",
      "execution_count": null,
      "metadata": {
        "colab": {
          "base_uri": "https://localhost:8080/"
        },
        "id": "3FhdOe5eXJ_Z",
        "outputId": "8a5b98ec-9b3d-4efd-d240-4954ad768c53"
      },
      "outputs": [
        {
          "name": "stdout",
          "output_type": "stream",
          "text": [
            "Closing server running on port: 7861\n"
          ]
        }
      ],
      "source": [
        "# to close the app if gradio interface is running\n",
        "iface.close()"
      ]
    },
    {
      "cell_type": "markdown",
      "metadata": {
        "id": "MkMz4k0kLei5"
      },
      "source": [
        "**OpenAI's GPT-3.5 Turbo**\n",
        "\n",
        "GPT-3.5 Turbo models can understand and generate natural language or code and have been optimized for chat using the Chat Completions API but work well for non-chat tasks as well.\n",
        "\n",
        "**gpt-3.5-turbo-0125**\n",
        "The latest GPT-3.5 Turbo model with higher accuracy at responding in requested formats and a fix for a bug which caused a text encoding issue for non-English language function calls. Returns a maximum of 4,096 output tokens"
      ]
    },
    {
      "cell_type": "code",
      "execution_count": 85,
      "metadata": {
        "id": "My-b68YlL6D2"
      },
      "outputs": [],
      "source": [
        "#installation\n",
        "!pip install openai"
      ]
    },
    {
      "cell_type": "code",
      "execution_count": 86,
      "metadata": {
        "id": "1qLhb9wwS0w4"
      },
      "outputs": [],
      "source": [
        "import pandas as pd\n",
        "from openai import OpenAI"
      ]
    },
    {
      "cell_type": "code",
      "execution_count": 87,
      "metadata": {
        "id": "NNr1CKzPQmWl"
      },
      "outputs": [],
      "source": [
        "text = \"\"\"\n",
        "Pakistan, officially the Islamic Republic of Pakistan, is a country in South Asia.\n",
        "It is the fifth-most populous country, with a population of over 241.5 million,\n",
        "having the second-largest Muslim population as of 2023.\n",
        "Islamabad is the nation's capital, while Karachi is its largest city and financial centre.\n",
        "\"\"\""
      ]
    },
    {
      "cell_type": "code",
      "execution_count": 149,
      "metadata": {
        "id": "MZfbMUdfMALX"
      },
      "outputs": [],
      "source": [
        "# settings\n",
        "api_key = \"\"\n",
        "system_requirements = \"You are a helpful and honest assistant for QA pairs generation.\"\n",
        "# prompt\n",
        "prompt = f\"\"\"\n",
        "Please Generate Question Answer pairs from text below. The format of QA pairs should\n",
        "be question first followed by an answer. An example of the QA format is shown below:\n",
        "\n",
        "Question: your question generated from text?\n",
        "Answer: your answer generated from text.\n",
        "\n",
        "Please genearte 3 to 5 QA pairs from each text and keep your answer as concise as possible.\n",
        "\n",
        "here is text: {text}\"\"\"\n",
        "\n",
        "model = \"gpt-3.5-turbo-0125\"    #gpt-3.5-turbo-0125, gpt-4-0125-preview, etc"
      ]
    },
    {
      "cell_type": "code",
      "execution_count": 89,
      "metadata": {
        "colab": {
          "base_uri": "https://localhost:8080/"
        },
        "id": "9jHRzOQpYIwJ",
        "outputId": "32b16154-c93d-4068-9daf-2235b712b07f"
      },
      "outputs": [
        {
          "output_type": "stream",
          "name": "stdout",
          "text": [
            "Question: What is the official name of Pakistan?\n",
            "Answer: The official name of Pakistan is the Islamic Republic of Pakistan.\n",
            "\n",
            "Question: Where is Pakistan located?\n",
            "Answer: Pakistan is located in South Asia.\n",
            "\n",
            "Question: What is the population of Pakistan?\n",
            "Answer: Pakistan has a population of over 241.5 million people.\n",
            "\n",
            "Question: What is the largest city in Pakistan?\n",
            "Answer: Karachi is the largest city and financial center of Pakistan.\n",
            "\n",
            "Question: Which city serves as the capital of Pakistan?\n",
            "Answer: Islamabad is the capital city of Pakistan.\n"
          ]
        }
      ],
      "source": [
        "\n",
        "client = OpenAI(api_key=api_key)\n",
        "\n",
        "def GPT35Turbo(prompt, model, system_requirements):\n",
        "    try:\n",
        "        response = client.chat.completions.create(\n",
        "            model=model,\n",
        "            messages=[\n",
        "                {\"role\": \"system\", \"content\": system_requirements},\n",
        "                {\"role\": \"user\", \"content\": prompt}\n",
        "            ]\n",
        "        )\n",
        "        return response.choices[0].message.content\n",
        "    except Exception as e:\n",
        "        return f\"An error occurred: {e}\"\n",
        "\n",
        "response = GPT35Turbo(prompt, model, system_requirements)\n",
        "print(response)"
      ]
    },
    {
      "cell_type": "code",
      "execution_count": 90,
      "metadata": {
        "id": "ycH32EQxUsUL"
      },
      "outputs": [],
      "source": [
        "def gpt_turbo(text):\n",
        "  \"\"\"\n",
        "  use openai gpt3.5 turbo-0.125 model for qa geneartion\n",
        "\n",
        "  parameters\n",
        "  ----------\n",
        "  text: context (str)\n",
        "\n",
        "  return\n",
        "  ------\n",
        "  respone: qa pairs\n",
        "  \"\"\"\n",
        "  model =  \"gpt-3.5-turbo-0125\"\n",
        "\n",
        "  system_requirements = \"You are a helpful and honest assistant for QA pairs generation.\"\n",
        "\n",
        "  # prompt\n",
        "  prompt = f\"\"\"\n",
        "  Please Generate Question Answer pairs from text below. The format of QA pairs should\n",
        "  be question first followed by an answer. An example of the QA format is shown below:\n",
        "\n",
        "  Question: your question generated from text?\n",
        "  Answer: your answer generated from text.\n",
        "\n",
        "  Please genearte 3 to 5 QA pairs from each text and keep your answer as concise as possible.\n",
        "\n",
        "  here is text: {text}\"\"\"\n",
        "\n",
        "  try:\n",
        "    response = client.chat.completions.create(\n",
        "                                              model=model,\n",
        "                                              messages=[\n",
        "                                                  {\"role\": \"system\", \"content\": system_requirements},\n",
        "                                                  {\"role\": \"user\", \"content\": prompt}\n",
        "                                              ]\n",
        "                                              )\n",
        "    return response.choices[0].message.content\n",
        "  except Exception as e:\n",
        "    return f\"An error occurred: {e}\""
      ]
    },
    {
      "cell_type": "code",
      "execution_count": 143,
      "metadata": {
        "id": "AuJd7TVxVzDL"
      },
      "outputs": [],
      "source": [
        "def process_save_qa_data(gpt_completion):\n",
        "  # process respone and save it in a csv file\n",
        "\n",
        "  # split question and answers\n",
        "  # logger.info(f'completion: {gpt_completion}')\n",
        "  qa_list = gpt_completion.split('\\n')\n",
        "\n",
        "  # remove empty items in list\n",
        "  qa_list_empty_removed = [item for item in qa_list if item]\n",
        "\n",
        "  # keep only quetions and answer and remove anything else\n",
        "  data = [item.split(\":\", 1)[1].strip() for item in qa_list_empty_removed]\n",
        "\n",
        "  # create qa pairs\n",
        "  if len(data) % 2 != 0:\n",
        "      data.pop(-1)\n",
        "      qa_pairs = [(data[i], data[i+1]) for i in range(0, len(data), 2)]\n",
        "  else:\n",
        "        qa_pairs = [(data[i], data[i+1]) for i in range(0, len(data), 2)]\n",
        "\n",
        "\n",
        "  # now save to a csv file\n",
        "  file_path = 'qa_pairs_gpt35_turbo1.csv'\n",
        "\n",
        "  if not os.path.exists(file_path):\n",
        "      with open(file_path, 'w', newline='', encoding='utf-8') as file:\n",
        "          writer = csv.writer(file)\n",
        "          # Write header row\n",
        "          writer.writerow(['Question', 'Answer'])\n",
        "\n",
        "  # append data\n",
        "  with open(file_path, 'a', newline='', encoding='utf-8') as file:\n",
        "        writer = csv.writer(file)\n",
        "        writer.writerows(qa_pairs)"
      ]
    },
    {
      "cell_type": "code",
      "execution_count": 144,
      "metadata": {
        "id": "LPQFwb1ATsRz"
      },
      "outputs": [],
      "source": [
        "# now writing a function to write the response in csv file.\n",
        "def generate_qa_gpt(dataset, text_splitter):\n",
        "  \"\"\"\n",
        "  run over the json file and store them in a csv, and use gpt3.5 turbo for qa generation\n",
        "\n",
        "  parameters\n",
        "  ----------\n",
        "  dataset: str\n",
        "  text_splitter\n",
        "\n",
        "  return\n",
        "  ------\n",
        "  None\n",
        "  \"\"\"\n",
        "  # iterate over all the json entries\n",
        "  for data in dataset:\n",
        "    # don't process articles that have already been explored by llm\n",
        "    if 'processed_article' in data.keys():\n",
        "      if data['processed_article']:\n",
        "        logger.info('News article already processed!')\n",
        "    else:\n",
        "      # reterive text\n",
        "      text = data['text']\n",
        "      # chunk the text as the text is bit longer in each article\n",
        "      # longer text takes time and llm context window can't process all at once becasue of limited context size for some llm\n",
        "      # split into 500 chars with 0 overlap\n",
        "      chunks_list = text_splitter.split_text(text)\n",
        "\n",
        "      # iterate over each chunk\n",
        "      for text_chunk in chunks_list:\n",
        "        # genrate qa\n",
        "        completion = gpt_turbo(text_chunk)\n",
        "        if completion.startswith(\"An error occurred\"):\n",
        "          pass\n",
        "        else:\n",
        "          process_save_qa_data(completion)\n",
        "\n",
        "        # this flag helps identify the articles already processed by an llm\n",
        "        # so we don't repeat it again.\n",
        "      data['processed_article'] = True\n",
        "      logger.info('An article has been processed!!')\n",
        "        # overwrite the update json file, so next time read this file when notebook crahes and doing\n",
        "        # processing again, if noteobook crashes adn you have to restart, please use the file below\n",
        "        # use 'dawn_pakistan_processed_recent_gpt35' as starting point.\n",
        "      with open('dawn_pakistan_processed_recent_gpt35', 'w') as file:\n",
        "        json.dump(dataset, file, indent = 4)\n"
      ]
    },
    {
      "cell_type": "code",
      "source": [
        "# for 15 news articles it took ~ 5mins\n",
        "run_gpt = True\n",
        "if run_gpt:\n",
        "  generate_qa_gpt(dataset, text_splitter)"
      ],
      "metadata": {
        "colab": {
          "base_uri": "https://localhost:8080/"
        },
        "id": "x3zv_UbflWFk",
        "outputId": "19ca084a-17ab-489e-bf50-e99a3aa16f6a"
      },
      "execution_count": 145,
      "outputs": [
        {
          "output_type": "stream",
          "name": "stderr",
          "text": [
            "INFO:__main__:News article already processed!\n",
            "INFO:__main__:An article has been processed!!\n",
            "INFO:__main__:An article has been processed!!\n",
            "INFO:__main__:An article has been processed!!\n",
            "INFO:__main__:An article has been processed!!\n",
            "INFO:__main__:An article has been processed!!\n",
            "INFO:__main__:An article has been processed!!\n",
            "INFO:__main__:An article has been processed!!\n",
            "INFO:__main__:An article has been processed!!\n",
            "INFO:__main__:An article has been processed!!\n",
            "INFO:__main__:An article has been processed!!\n",
            "INFO:__main__:An article has been processed!!\n",
            "INFO:__main__:An article has been processed!!\n",
            "INFO:__main__:An article has been processed!!\n",
            "INFO:__main__:An article has been processed!!\n"
          ]
        }
      ]
    },
    {
      "cell_type": "code",
      "source": [
        "# qa generated by gpt3.5 turbo\n",
        "df = pd.read_csv('qa_pairs_gpt35_turbo1.csv')\n",
        "df.head()"
      ],
      "metadata": {
        "colab": {
          "base_uri": "https://localhost:8080/",
          "height": 206
        },
        "id": "yrhLpTHLnP4Z",
        "outputId": "5d1cf51e-e38b-4758-933d-8b3115d906ec"
      },
      "execution_count": 147,
      "outputs": [
        {
          "output_type": "execute_result",
          "data": {
            "text/plain": [
              "                                            Question  \\\n",
              "0  Who was the jailed PTI founder whose pre-arres...   \n",
              "1  Which court extended Imran Khan's pre-arrest b...   \n",
              "2  What cases were Imran Khan's bail extended for...   \n",
              "3  When was the hearing for Imran Khan's bail ext...   \n",
              "4  Why did the ATCIII judge adjourn the hearing f...   \n",
              "\n",
              "                                              Answer  \n",
              "0                                        Imran Khan.  \n",
              "1                                            ATCIII.  \n",
              "2  Attacks on Jinnah House, Askari Tower, and Sha...  \n",
              "3                                          March 22.  \n",
              "4  The presiding judge of ATCI had been transferred.  "
            ],
            "text/html": [
              "\n",
              "  <div id=\"df-06631163-9199-4738-b911-8295d8ce35e6\" class=\"colab-df-container\">\n",
              "    <div>\n",
              "<style scoped>\n",
              "    .dataframe tbody tr th:only-of-type {\n",
              "        vertical-align: middle;\n",
              "    }\n",
              "\n",
              "    .dataframe tbody tr th {\n",
              "        vertical-align: top;\n",
              "    }\n",
              "\n",
              "    .dataframe thead th {\n",
              "        text-align: right;\n",
              "    }\n",
              "</style>\n",
              "<table border=\"1\" class=\"dataframe\">\n",
              "  <thead>\n",
              "    <tr style=\"text-align: right;\">\n",
              "      <th></th>\n",
              "      <th>Question</th>\n",
              "      <th>Answer</th>\n",
              "    </tr>\n",
              "  </thead>\n",
              "  <tbody>\n",
              "    <tr>\n",
              "      <th>0</th>\n",
              "      <td>Who was the jailed PTI founder whose pre-arres...</td>\n",
              "      <td>Imran Khan.</td>\n",
              "    </tr>\n",
              "    <tr>\n",
              "      <th>1</th>\n",
              "      <td>Which court extended Imran Khan's pre-arrest b...</td>\n",
              "      <td>ATCIII.</td>\n",
              "    </tr>\n",
              "    <tr>\n",
              "      <th>2</th>\n",
              "      <td>What cases were Imran Khan's bail extended for...</td>\n",
              "      <td>Attacks on Jinnah House, Askari Tower, and Sha...</td>\n",
              "    </tr>\n",
              "    <tr>\n",
              "      <th>3</th>\n",
              "      <td>When was the hearing for Imran Khan's bail ext...</td>\n",
              "      <td>March 22.</td>\n",
              "    </tr>\n",
              "    <tr>\n",
              "      <th>4</th>\n",
              "      <td>Why did the ATCIII judge adjourn the hearing f...</td>\n",
              "      <td>The presiding judge of ATCI had been transferred.</td>\n",
              "    </tr>\n",
              "  </tbody>\n",
              "</table>\n",
              "</div>\n",
              "    <div class=\"colab-df-buttons\">\n",
              "\n",
              "  <div class=\"colab-df-container\">\n",
              "    <button class=\"colab-df-convert\" onclick=\"convertToInteractive('df-06631163-9199-4738-b911-8295d8ce35e6')\"\n",
              "            title=\"Convert this dataframe to an interactive table.\"\n",
              "            style=\"display:none;\">\n",
              "\n",
              "  <svg xmlns=\"http://www.w3.org/2000/svg\" height=\"24px\" viewBox=\"0 -960 960 960\">\n",
              "    <path d=\"M120-120v-720h720v720H120Zm60-500h600v-160H180v160Zm220 220h160v-160H400v160Zm0 220h160v-160H400v160ZM180-400h160v-160H180v160Zm440 0h160v-160H620v160ZM180-180h160v-160H180v160Zm440 0h160v-160H620v160Z\"/>\n",
              "  </svg>\n",
              "    </button>\n",
              "\n",
              "  <style>\n",
              "    .colab-df-container {\n",
              "      display:flex;\n",
              "      gap: 12px;\n",
              "    }\n",
              "\n",
              "    .colab-df-convert {\n",
              "      background-color: #E8F0FE;\n",
              "      border: none;\n",
              "      border-radius: 50%;\n",
              "      cursor: pointer;\n",
              "      display: none;\n",
              "      fill: #1967D2;\n",
              "      height: 32px;\n",
              "      padding: 0 0 0 0;\n",
              "      width: 32px;\n",
              "    }\n",
              "\n",
              "    .colab-df-convert:hover {\n",
              "      background-color: #E2EBFA;\n",
              "      box-shadow: 0px 1px 2px rgba(60, 64, 67, 0.3), 0px 1px 3px 1px rgba(60, 64, 67, 0.15);\n",
              "      fill: #174EA6;\n",
              "    }\n",
              "\n",
              "    .colab-df-buttons div {\n",
              "      margin-bottom: 4px;\n",
              "    }\n",
              "\n",
              "    [theme=dark] .colab-df-convert {\n",
              "      background-color: #3B4455;\n",
              "      fill: #D2E3FC;\n",
              "    }\n",
              "\n",
              "    [theme=dark] .colab-df-convert:hover {\n",
              "      background-color: #434B5C;\n",
              "      box-shadow: 0px 1px 3px 1px rgba(0, 0, 0, 0.15);\n",
              "      filter: drop-shadow(0px 1px 2px rgba(0, 0, 0, 0.3));\n",
              "      fill: #FFFFFF;\n",
              "    }\n",
              "  </style>\n",
              "\n",
              "    <script>\n",
              "      const buttonEl =\n",
              "        document.querySelector('#df-06631163-9199-4738-b911-8295d8ce35e6 button.colab-df-convert');\n",
              "      buttonEl.style.display =\n",
              "        google.colab.kernel.accessAllowed ? 'block' : 'none';\n",
              "\n",
              "      async function convertToInteractive(key) {\n",
              "        const element = document.querySelector('#df-06631163-9199-4738-b911-8295d8ce35e6');\n",
              "        const dataTable =\n",
              "          await google.colab.kernel.invokeFunction('convertToInteractive',\n",
              "                                                    [key], {});\n",
              "        if (!dataTable) return;\n",
              "\n",
              "        const docLinkHtml = 'Like what you see? Visit the ' +\n",
              "          '<a target=\"_blank\" href=https://colab.research.google.com/notebooks/data_table.ipynb>data table notebook</a>'\n",
              "          + ' to learn more about interactive tables.';\n",
              "        element.innerHTML = '';\n",
              "        dataTable['output_type'] = 'display_data';\n",
              "        await google.colab.output.renderOutput(dataTable, element);\n",
              "        const docLink = document.createElement('div');\n",
              "        docLink.innerHTML = docLinkHtml;\n",
              "        element.appendChild(docLink);\n",
              "      }\n",
              "    </script>\n",
              "  </div>\n",
              "\n",
              "\n",
              "<div id=\"df-4b38570f-5b6f-4511-b870-1a4ccc348d79\">\n",
              "  <button class=\"colab-df-quickchart\" onclick=\"quickchart('df-4b38570f-5b6f-4511-b870-1a4ccc348d79')\"\n",
              "            title=\"Suggest charts\"\n",
              "            style=\"display:none;\">\n",
              "\n",
              "<svg xmlns=\"http://www.w3.org/2000/svg\" height=\"24px\"viewBox=\"0 0 24 24\"\n",
              "     width=\"24px\">\n",
              "    <g>\n",
              "        <path d=\"M19 3H5c-1.1 0-2 .9-2 2v14c0 1.1.9 2 2 2h14c1.1 0 2-.9 2-2V5c0-1.1-.9-2-2-2zM9 17H7v-7h2v7zm4 0h-2V7h2v10zm4 0h-2v-4h2v4z\"/>\n",
              "    </g>\n",
              "</svg>\n",
              "  </button>\n",
              "\n",
              "<style>\n",
              "  .colab-df-quickchart {\n",
              "      --bg-color: #E8F0FE;\n",
              "      --fill-color: #1967D2;\n",
              "      --hover-bg-color: #E2EBFA;\n",
              "      --hover-fill-color: #174EA6;\n",
              "      --disabled-fill-color: #AAA;\n",
              "      --disabled-bg-color: #DDD;\n",
              "  }\n",
              "\n",
              "  [theme=dark] .colab-df-quickchart {\n",
              "      --bg-color: #3B4455;\n",
              "      --fill-color: #D2E3FC;\n",
              "      --hover-bg-color: #434B5C;\n",
              "      --hover-fill-color: #FFFFFF;\n",
              "      --disabled-bg-color: #3B4455;\n",
              "      --disabled-fill-color: #666;\n",
              "  }\n",
              "\n",
              "  .colab-df-quickchart {\n",
              "    background-color: var(--bg-color);\n",
              "    border: none;\n",
              "    border-radius: 50%;\n",
              "    cursor: pointer;\n",
              "    display: none;\n",
              "    fill: var(--fill-color);\n",
              "    height: 32px;\n",
              "    padding: 0;\n",
              "    width: 32px;\n",
              "  }\n",
              "\n",
              "  .colab-df-quickchart:hover {\n",
              "    background-color: var(--hover-bg-color);\n",
              "    box-shadow: 0 1px 2px rgba(60, 64, 67, 0.3), 0 1px 3px 1px rgba(60, 64, 67, 0.15);\n",
              "    fill: var(--button-hover-fill-color);\n",
              "  }\n",
              "\n",
              "  .colab-df-quickchart-complete:disabled,\n",
              "  .colab-df-quickchart-complete:disabled:hover {\n",
              "    background-color: var(--disabled-bg-color);\n",
              "    fill: var(--disabled-fill-color);\n",
              "    box-shadow: none;\n",
              "  }\n",
              "\n",
              "  .colab-df-spinner {\n",
              "    border: 2px solid var(--fill-color);\n",
              "    border-color: transparent;\n",
              "    border-bottom-color: var(--fill-color);\n",
              "    animation:\n",
              "      spin 1s steps(1) infinite;\n",
              "  }\n",
              "\n",
              "  @keyframes spin {\n",
              "    0% {\n",
              "      border-color: transparent;\n",
              "      border-bottom-color: var(--fill-color);\n",
              "      border-left-color: var(--fill-color);\n",
              "    }\n",
              "    20% {\n",
              "      border-color: transparent;\n",
              "      border-left-color: var(--fill-color);\n",
              "      border-top-color: var(--fill-color);\n",
              "    }\n",
              "    30% {\n",
              "      border-color: transparent;\n",
              "      border-left-color: var(--fill-color);\n",
              "      border-top-color: var(--fill-color);\n",
              "      border-right-color: var(--fill-color);\n",
              "    }\n",
              "    40% {\n",
              "      border-color: transparent;\n",
              "      border-right-color: var(--fill-color);\n",
              "      border-top-color: var(--fill-color);\n",
              "    }\n",
              "    60% {\n",
              "      border-color: transparent;\n",
              "      border-right-color: var(--fill-color);\n",
              "    }\n",
              "    80% {\n",
              "      border-color: transparent;\n",
              "      border-right-color: var(--fill-color);\n",
              "      border-bottom-color: var(--fill-color);\n",
              "    }\n",
              "    90% {\n",
              "      border-color: transparent;\n",
              "      border-bottom-color: var(--fill-color);\n",
              "    }\n",
              "  }\n",
              "</style>\n",
              "\n",
              "  <script>\n",
              "    async function quickchart(key) {\n",
              "      const quickchartButtonEl =\n",
              "        document.querySelector('#' + key + ' button');\n",
              "      quickchartButtonEl.disabled = true;  // To prevent multiple clicks.\n",
              "      quickchartButtonEl.classList.add('colab-df-spinner');\n",
              "      try {\n",
              "        const charts = await google.colab.kernel.invokeFunction(\n",
              "            'suggestCharts', [key], {});\n",
              "      } catch (error) {\n",
              "        console.error('Error during call to suggestCharts:', error);\n",
              "      }\n",
              "      quickchartButtonEl.classList.remove('colab-df-spinner');\n",
              "      quickchartButtonEl.classList.add('colab-df-quickchart-complete');\n",
              "    }\n",
              "    (() => {\n",
              "      let quickchartButtonEl =\n",
              "        document.querySelector('#df-4b38570f-5b6f-4511-b870-1a4ccc348d79 button');\n",
              "      quickchartButtonEl.style.display =\n",
              "        google.colab.kernel.accessAllowed ? 'block' : 'none';\n",
              "    })();\n",
              "  </script>\n",
              "</div>\n",
              "\n",
              "    </div>\n",
              "  </div>\n"
            ],
            "application/vnd.google.colaboratory.intrinsic+json": {
              "type": "dataframe",
              "variable_name": "df",
              "summary": "{\n  \"name\": \"df\",\n  \"rows\": 553,\n  \"fields\": [\n    {\n      \"column\": \"Question\",\n      \"properties\": {\n        \"dtype\": \"string\",\n        \"num_unique_values\": 553,\n        \"samples\": [\n          \"What action is one animal rights group planning to take regarding Ibrahim K's case?\",\n          \"What is the impact of nuclear weapons on strategic stability?\",\n          \"What were the antistate allegations in the FIR against Asad Ali Toor?\"\n        ],\n        \"semantic_type\": \"\",\n        \"description\": \"\"\n      }\n    },\n    {\n      \"column\": \"Answer\",\n      \"properties\": {\n        \"dtype\": \"string\",\n        \"num_unique_values\": 544,\n        \"samples\": [\n          \"A local grabbed her husband by the collar at her house.\",\n          \"The 55-year-old victim was critically wounded and died before he could be moved to a hospital.\",\n          \"Pakistan's democracy and the role of an independent press.\"\n        ],\n        \"semantic_type\": \"\",\n        \"description\": \"\"\n      }\n    }\n  ]\n}"
            }
          },
          "metadata": {},
          "execution_count": 147
        }
      ]
    },
    {
      "cell_type": "code",
      "source": [
        "df.tail()"
      ],
      "metadata": {
        "colab": {
          "base_uri": "https://localhost:8080/",
          "height": 206
        },
        "id": "uxsv_OLYzoCr",
        "outputId": "58511ec4-6387-40f5-b1fd-47b6200f1dd5"
      },
      "execution_count": 148,
      "outputs": [
        {
          "output_type": "execute_result",
          "data": {
            "text/plain": [
              "                                              Question  \\\n",
              "548  What action is one animal rights group plannin...   \n",
              "549  What was trending in Turkey related to Ibrahim...   \n",
              "550        Who has joined the Justice for Eros appeal?   \n",
              "551              What team does Mauro Icardi play for?   \n",
              "552       What is happening with the comments section?   \n",
              "\n",
              "                                                Answer  \n",
              "548  One animal rights group is planning to appeal ...  \n",
              "549  The hashtag related to Ibrahim K was trending ...  \n",
              "550  Several celebrities, including Argentinian foo...  \n",
              "551  Mauro Icardi is the star striker at Istanbul g...  \n",
              "552  The comments section is undergoing an overhaul...  "
            ],
            "text/html": [
              "\n",
              "  <div id=\"df-e486bc66-5633-4a14-962f-b99fb5d7ec88\" class=\"colab-df-container\">\n",
              "    <div>\n",
              "<style scoped>\n",
              "    .dataframe tbody tr th:only-of-type {\n",
              "        vertical-align: middle;\n",
              "    }\n",
              "\n",
              "    .dataframe tbody tr th {\n",
              "        vertical-align: top;\n",
              "    }\n",
              "\n",
              "    .dataframe thead th {\n",
              "        text-align: right;\n",
              "    }\n",
              "</style>\n",
              "<table border=\"1\" class=\"dataframe\">\n",
              "  <thead>\n",
              "    <tr style=\"text-align: right;\">\n",
              "      <th></th>\n",
              "      <th>Question</th>\n",
              "      <th>Answer</th>\n",
              "    </tr>\n",
              "  </thead>\n",
              "  <tbody>\n",
              "    <tr>\n",
              "      <th>548</th>\n",
              "      <td>What action is one animal rights group plannin...</td>\n",
              "      <td>One animal rights group is planning to appeal ...</td>\n",
              "    </tr>\n",
              "    <tr>\n",
              "      <th>549</th>\n",
              "      <td>What was trending in Turkey related to Ibrahim...</td>\n",
              "      <td>The hashtag related to Ibrahim K was trending ...</td>\n",
              "    </tr>\n",
              "    <tr>\n",
              "      <th>550</th>\n",
              "      <td>Who has joined the Justice for Eros appeal?</td>\n",
              "      <td>Several celebrities, including Argentinian foo...</td>\n",
              "    </tr>\n",
              "    <tr>\n",
              "      <th>551</th>\n",
              "      <td>What team does Mauro Icardi play for?</td>\n",
              "      <td>Mauro Icardi is the star striker at Istanbul g...</td>\n",
              "    </tr>\n",
              "    <tr>\n",
              "      <th>552</th>\n",
              "      <td>What is happening with the comments section?</td>\n",
              "      <td>The comments section is undergoing an overhaul...</td>\n",
              "    </tr>\n",
              "  </tbody>\n",
              "</table>\n",
              "</div>\n",
              "    <div class=\"colab-df-buttons\">\n",
              "\n",
              "  <div class=\"colab-df-container\">\n",
              "    <button class=\"colab-df-convert\" onclick=\"convertToInteractive('df-e486bc66-5633-4a14-962f-b99fb5d7ec88')\"\n",
              "            title=\"Convert this dataframe to an interactive table.\"\n",
              "            style=\"display:none;\">\n",
              "\n",
              "  <svg xmlns=\"http://www.w3.org/2000/svg\" height=\"24px\" viewBox=\"0 -960 960 960\">\n",
              "    <path d=\"M120-120v-720h720v720H120Zm60-500h600v-160H180v160Zm220 220h160v-160H400v160Zm0 220h160v-160H400v160ZM180-400h160v-160H180v160Zm440 0h160v-160H620v160ZM180-180h160v-160H180v160Zm440 0h160v-160H620v160Z\"/>\n",
              "  </svg>\n",
              "    </button>\n",
              "\n",
              "  <style>\n",
              "    .colab-df-container {\n",
              "      display:flex;\n",
              "      gap: 12px;\n",
              "    }\n",
              "\n",
              "    .colab-df-convert {\n",
              "      background-color: #E8F0FE;\n",
              "      border: none;\n",
              "      border-radius: 50%;\n",
              "      cursor: pointer;\n",
              "      display: none;\n",
              "      fill: #1967D2;\n",
              "      height: 32px;\n",
              "      padding: 0 0 0 0;\n",
              "      width: 32px;\n",
              "    }\n",
              "\n",
              "    .colab-df-convert:hover {\n",
              "      background-color: #E2EBFA;\n",
              "      box-shadow: 0px 1px 2px rgba(60, 64, 67, 0.3), 0px 1px 3px 1px rgba(60, 64, 67, 0.15);\n",
              "      fill: #174EA6;\n",
              "    }\n",
              "\n",
              "    .colab-df-buttons div {\n",
              "      margin-bottom: 4px;\n",
              "    }\n",
              "\n",
              "    [theme=dark] .colab-df-convert {\n",
              "      background-color: #3B4455;\n",
              "      fill: #D2E3FC;\n",
              "    }\n",
              "\n",
              "    [theme=dark] .colab-df-convert:hover {\n",
              "      background-color: #434B5C;\n",
              "      box-shadow: 0px 1px 3px 1px rgba(0, 0, 0, 0.15);\n",
              "      filter: drop-shadow(0px 1px 2px rgba(0, 0, 0, 0.3));\n",
              "      fill: #FFFFFF;\n",
              "    }\n",
              "  </style>\n",
              "\n",
              "    <script>\n",
              "      const buttonEl =\n",
              "        document.querySelector('#df-e486bc66-5633-4a14-962f-b99fb5d7ec88 button.colab-df-convert');\n",
              "      buttonEl.style.display =\n",
              "        google.colab.kernel.accessAllowed ? 'block' : 'none';\n",
              "\n",
              "      async function convertToInteractive(key) {\n",
              "        const element = document.querySelector('#df-e486bc66-5633-4a14-962f-b99fb5d7ec88');\n",
              "        const dataTable =\n",
              "          await google.colab.kernel.invokeFunction('convertToInteractive',\n",
              "                                                    [key], {});\n",
              "        if (!dataTable) return;\n",
              "\n",
              "        const docLinkHtml = 'Like what you see? Visit the ' +\n",
              "          '<a target=\"_blank\" href=https://colab.research.google.com/notebooks/data_table.ipynb>data table notebook</a>'\n",
              "          + ' to learn more about interactive tables.';\n",
              "        element.innerHTML = '';\n",
              "        dataTable['output_type'] = 'display_data';\n",
              "        await google.colab.output.renderOutput(dataTable, element);\n",
              "        const docLink = document.createElement('div');\n",
              "        docLink.innerHTML = docLinkHtml;\n",
              "        element.appendChild(docLink);\n",
              "      }\n",
              "    </script>\n",
              "  </div>\n",
              "\n",
              "\n",
              "<div id=\"df-01b67d8f-aed7-4829-8670-cb7ad56caffd\">\n",
              "  <button class=\"colab-df-quickchart\" onclick=\"quickchart('df-01b67d8f-aed7-4829-8670-cb7ad56caffd')\"\n",
              "            title=\"Suggest charts\"\n",
              "            style=\"display:none;\">\n",
              "\n",
              "<svg xmlns=\"http://www.w3.org/2000/svg\" height=\"24px\"viewBox=\"0 0 24 24\"\n",
              "     width=\"24px\">\n",
              "    <g>\n",
              "        <path d=\"M19 3H5c-1.1 0-2 .9-2 2v14c0 1.1.9 2 2 2h14c1.1 0 2-.9 2-2V5c0-1.1-.9-2-2-2zM9 17H7v-7h2v7zm4 0h-2V7h2v10zm4 0h-2v-4h2v4z\"/>\n",
              "    </g>\n",
              "</svg>\n",
              "  </button>\n",
              "\n",
              "<style>\n",
              "  .colab-df-quickchart {\n",
              "      --bg-color: #E8F0FE;\n",
              "      --fill-color: #1967D2;\n",
              "      --hover-bg-color: #E2EBFA;\n",
              "      --hover-fill-color: #174EA6;\n",
              "      --disabled-fill-color: #AAA;\n",
              "      --disabled-bg-color: #DDD;\n",
              "  }\n",
              "\n",
              "  [theme=dark] .colab-df-quickchart {\n",
              "      --bg-color: #3B4455;\n",
              "      --fill-color: #D2E3FC;\n",
              "      --hover-bg-color: #434B5C;\n",
              "      --hover-fill-color: #FFFFFF;\n",
              "      --disabled-bg-color: #3B4455;\n",
              "      --disabled-fill-color: #666;\n",
              "  }\n",
              "\n",
              "  .colab-df-quickchart {\n",
              "    background-color: var(--bg-color);\n",
              "    border: none;\n",
              "    border-radius: 50%;\n",
              "    cursor: pointer;\n",
              "    display: none;\n",
              "    fill: var(--fill-color);\n",
              "    height: 32px;\n",
              "    padding: 0;\n",
              "    width: 32px;\n",
              "  }\n",
              "\n",
              "  .colab-df-quickchart:hover {\n",
              "    background-color: var(--hover-bg-color);\n",
              "    box-shadow: 0 1px 2px rgba(60, 64, 67, 0.3), 0 1px 3px 1px rgba(60, 64, 67, 0.15);\n",
              "    fill: var(--button-hover-fill-color);\n",
              "  }\n",
              "\n",
              "  .colab-df-quickchart-complete:disabled,\n",
              "  .colab-df-quickchart-complete:disabled:hover {\n",
              "    background-color: var(--disabled-bg-color);\n",
              "    fill: var(--disabled-fill-color);\n",
              "    box-shadow: none;\n",
              "  }\n",
              "\n",
              "  .colab-df-spinner {\n",
              "    border: 2px solid var(--fill-color);\n",
              "    border-color: transparent;\n",
              "    border-bottom-color: var(--fill-color);\n",
              "    animation:\n",
              "      spin 1s steps(1) infinite;\n",
              "  }\n",
              "\n",
              "  @keyframes spin {\n",
              "    0% {\n",
              "      border-color: transparent;\n",
              "      border-bottom-color: var(--fill-color);\n",
              "      border-left-color: var(--fill-color);\n",
              "    }\n",
              "    20% {\n",
              "      border-color: transparent;\n",
              "      border-left-color: var(--fill-color);\n",
              "      border-top-color: var(--fill-color);\n",
              "    }\n",
              "    30% {\n",
              "      border-color: transparent;\n",
              "      border-left-color: var(--fill-color);\n",
              "      border-top-color: var(--fill-color);\n",
              "      border-right-color: var(--fill-color);\n",
              "    }\n",
              "    40% {\n",
              "      border-color: transparent;\n",
              "      border-right-color: var(--fill-color);\n",
              "      border-top-color: var(--fill-color);\n",
              "    }\n",
              "    60% {\n",
              "      border-color: transparent;\n",
              "      border-right-color: var(--fill-color);\n",
              "    }\n",
              "    80% {\n",
              "      border-color: transparent;\n",
              "      border-right-color: var(--fill-color);\n",
              "      border-bottom-color: var(--fill-color);\n",
              "    }\n",
              "    90% {\n",
              "      border-color: transparent;\n",
              "      border-bottom-color: var(--fill-color);\n",
              "    }\n",
              "  }\n",
              "</style>\n",
              "\n",
              "  <script>\n",
              "    async function quickchart(key) {\n",
              "      const quickchartButtonEl =\n",
              "        document.querySelector('#' + key + ' button');\n",
              "      quickchartButtonEl.disabled = true;  // To prevent multiple clicks.\n",
              "      quickchartButtonEl.classList.add('colab-df-spinner');\n",
              "      try {\n",
              "        const charts = await google.colab.kernel.invokeFunction(\n",
              "            'suggestCharts', [key], {});\n",
              "      } catch (error) {\n",
              "        console.error('Error during call to suggestCharts:', error);\n",
              "      }\n",
              "      quickchartButtonEl.classList.remove('colab-df-spinner');\n",
              "      quickchartButtonEl.classList.add('colab-df-quickchart-complete');\n",
              "    }\n",
              "    (() => {\n",
              "      let quickchartButtonEl =\n",
              "        document.querySelector('#df-01b67d8f-aed7-4829-8670-cb7ad56caffd button');\n",
              "      quickchartButtonEl.style.display =\n",
              "        google.colab.kernel.accessAllowed ? 'block' : 'none';\n",
              "    })();\n",
              "  </script>\n",
              "</div>\n",
              "\n",
              "    </div>\n",
              "  </div>\n"
            ],
            "application/vnd.google.colaboratory.intrinsic+json": {
              "type": "dataframe",
              "summary": "{\n  \"name\": \"df\",\n  \"rows\": 5,\n  \"fields\": [\n    {\n      \"column\": \"Question\",\n      \"properties\": {\n        \"dtype\": \"string\",\n        \"num_unique_values\": 5,\n        \"samples\": [\n          \"What was trending in Turkey related to Ibrahim K's case?\",\n          \"What is happening with the comments section?\",\n          \"Who has joined the Justice for Eros appeal?\"\n        ],\n        \"semantic_type\": \"\",\n        \"description\": \"\"\n      }\n    },\n    {\n      \"column\": \"Answer\",\n      \"properties\": {\n        \"dtype\": \"string\",\n        \"num_unique_values\": 5,\n        \"samples\": [\n          \"The hashtag related to Ibrahim K was trending in Turkey.\",\n          \"The comments section is undergoing an overhaul and will return soon.\",\n          \"Several celebrities, including Argentinian footballer Mauro Icardi.\"\n        ],\n        \"semantic_type\": \"\",\n        \"description\": \"\"\n      }\n    }\n  ]\n}"
            }
          },
          "metadata": {},
          "execution_count": 148
        }
      ]
    },
    {
      "cell_type": "code",
      "source": [
        "#the end"
      ],
      "metadata": {
        "id": "BtVaITVitIw4"
      },
      "execution_count": null,
      "outputs": []
    },
    {
      "cell_type": "markdown",
      "source": [
        "**Conclusion:**\n",
        "- Llama2 is slow but generates concise responses\n",
        "- T5 generates shorter, repeated QA responses sometimes, however, it has low latency and fine-tunned to end2end qa generation tasks\n",
        "- No optimal prompt needed for t5 small as it is domain specific and generates qa pairs\n",
        "- GPT3.5 Turbo is faster and accurate, however, it's costs o $0.0005 / 1K tokens (input)   and    $0.0015 / 1k tokens for output tokens."
      ],
      "metadata": {
        "id": "T-aaXJS2tSEf"
      }
    }
  ],
  "metadata": {
    "accelerator": "GPU",
    "colab": {
      "gpuType": "T4",
      "provenance": []
    },
    "kernelspec": {
      "display_name": "Python 3",
      "name": "python3"
    },
    "language_info": {
      "name": "python"
    },
    "widgets": {
      "application/vnd.jupyter.widget-state+json": {
        "0a6da097ab964037a8a822df8934af3e": {
          "model_module": "@jupyter-widgets/controls",
          "model_name": "HBoxModel",
          "model_module_version": "1.5.0",
          "state": {
            "_dom_classes": [],
            "_model_module": "@jupyter-widgets/controls",
            "_model_module_version": "1.5.0",
            "_model_name": "HBoxModel",
            "_view_count": null,
            "_view_module": "@jupyter-widgets/controls",
            "_view_module_version": "1.5.0",
            "_view_name": "HBoxView",
            "box_style": "",
            "children": [
              "IPY_MODEL_b56b913664d44026a387a916e5903d99",
              "IPY_MODEL_75fc8e796b4d4be6a457d4e09289c948",
              "IPY_MODEL_63a39f54ca7c430581e2d990c4cec71a"
            ],
            "layout": "IPY_MODEL_7ea8afde23fd4c869adf682057c2e52f"
          }
        },
        "b56b913664d44026a387a916e5903d99": {
          "model_module": "@jupyter-widgets/controls",
          "model_name": "HTMLModel",
          "model_module_version": "1.5.0",
          "state": {
            "_dom_classes": [],
            "_model_module": "@jupyter-widgets/controls",
            "_model_module_version": "1.5.0",
            "_model_name": "HTMLModel",
            "_view_count": null,
            "_view_module": "@jupyter-widgets/controls",
            "_view_module_version": "1.5.0",
            "_view_name": "HTMLView",
            "description": "",
            "description_tooltip": null,
            "layout": "IPY_MODEL_7bd19e62ab774251b0e4e758e67e2e64",
            "placeholder": "​",
            "style": "IPY_MODEL_3cf030a752d142859b87f80a04066d99",
            "value": "llama-2-13b-chat.ggmlv3.q5_1.bin: 100%"
          }
        },
        "75fc8e796b4d4be6a457d4e09289c948": {
          "model_module": "@jupyter-widgets/controls",
          "model_name": "FloatProgressModel",
          "model_module_version": "1.5.0",
          "state": {
            "_dom_classes": [],
            "_model_module": "@jupyter-widgets/controls",
            "_model_module_version": "1.5.0",
            "_model_name": "FloatProgressModel",
            "_view_count": null,
            "_view_module": "@jupyter-widgets/controls",
            "_view_module_version": "1.5.0",
            "_view_name": "ProgressView",
            "bar_style": "success",
            "description": "",
            "description_tooltip": null,
            "layout": "IPY_MODEL_f605056418594573b56f63fa96f44d2e",
            "max": 9763701888,
            "min": 0,
            "orientation": "horizontal",
            "style": "IPY_MODEL_b3b2f3cc1f644db997fcc4c126dd553b",
            "value": 9763701888
          }
        },
        "63a39f54ca7c430581e2d990c4cec71a": {
          "model_module": "@jupyter-widgets/controls",
          "model_name": "HTMLModel",
          "model_module_version": "1.5.0",
          "state": {
            "_dom_classes": [],
            "_model_module": "@jupyter-widgets/controls",
            "_model_module_version": "1.5.0",
            "_model_name": "HTMLModel",
            "_view_count": null,
            "_view_module": "@jupyter-widgets/controls",
            "_view_module_version": "1.5.0",
            "_view_name": "HTMLView",
            "description": "",
            "description_tooltip": null,
            "layout": "IPY_MODEL_97f061baf9be4a258cec3d0bde6c3417",
            "placeholder": "​",
            "style": "IPY_MODEL_56d13a0de5c445169a52608d81402a6c",
            "value": " 9.76G/9.76G [01:14&lt;00:00, 275MB/s]"
          }
        },
        "7ea8afde23fd4c869adf682057c2e52f": {
          "model_module": "@jupyter-widgets/base",
          "model_name": "LayoutModel",
          "model_module_version": "1.2.0",
          "state": {
            "_model_module": "@jupyter-widgets/base",
            "_model_module_version": "1.2.0",
            "_model_name": "LayoutModel",
            "_view_count": null,
            "_view_module": "@jupyter-widgets/base",
            "_view_module_version": "1.2.0",
            "_view_name": "LayoutView",
            "align_content": null,
            "align_items": null,
            "align_self": null,
            "border": null,
            "bottom": null,
            "display": null,
            "flex": null,
            "flex_flow": null,
            "grid_area": null,
            "grid_auto_columns": null,
            "grid_auto_flow": null,
            "grid_auto_rows": null,
            "grid_column": null,
            "grid_gap": null,
            "grid_row": null,
            "grid_template_areas": null,
            "grid_template_columns": null,
            "grid_template_rows": null,
            "height": null,
            "justify_content": null,
            "justify_items": null,
            "left": null,
            "margin": null,
            "max_height": null,
            "max_width": null,
            "min_height": null,
            "min_width": null,
            "object_fit": null,
            "object_position": null,
            "order": null,
            "overflow": null,
            "overflow_x": null,
            "overflow_y": null,
            "padding": null,
            "right": null,
            "top": null,
            "visibility": null,
            "width": null
          }
        },
        "7bd19e62ab774251b0e4e758e67e2e64": {
          "model_module": "@jupyter-widgets/base",
          "model_name": "LayoutModel",
          "model_module_version": "1.2.0",
          "state": {
            "_model_module": "@jupyter-widgets/base",
            "_model_module_version": "1.2.0",
            "_model_name": "LayoutModel",
            "_view_count": null,
            "_view_module": "@jupyter-widgets/base",
            "_view_module_version": "1.2.0",
            "_view_name": "LayoutView",
            "align_content": null,
            "align_items": null,
            "align_self": null,
            "border": null,
            "bottom": null,
            "display": null,
            "flex": null,
            "flex_flow": null,
            "grid_area": null,
            "grid_auto_columns": null,
            "grid_auto_flow": null,
            "grid_auto_rows": null,
            "grid_column": null,
            "grid_gap": null,
            "grid_row": null,
            "grid_template_areas": null,
            "grid_template_columns": null,
            "grid_template_rows": null,
            "height": null,
            "justify_content": null,
            "justify_items": null,
            "left": null,
            "margin": null,
            "max_height": null,
            "max_width": null,
            "min_height": null,
            "min_width": null,
            "object_fit": null,
            "object_position": null,
            "order": null,
            "overflow": null,
            "overflow_x": null,
            "overflow_y": null,
            "padding": null,
            "right": null,
            "top": null,
            "visibility": null,
            "width": null
          }
        },
        "3cf030a752d142859b87f80a04066d99": {
          "model_module": "@jupyter-widgets/controls",
          "model_name": "DescriptionStyleModel",
          "model_module_version": "1.5.0",
          "state": {
            "_model_module": "@jupyter-widgets/controls",
            "_model_module_version": "1.5.0",
            "_model_name": "DescriptionStyleModel",
            "_view_count": null,
            "_view_module": "@jupyter-widgets/base",
            "_view_module_version": "1.2.0",
            "_view_name": "StyleView",
            "description_width": ""
          }
        },
        "f605056418594573b56f63fa96f44d2e": {
          "model_module": "@jupyter-widgets/base",
          "model_name": "LayoutModel",
          "model_module_version": "1.2.0",
          "state": {
            "_model_module": "@jupyter-widgets/base",
            "_model_module_version": "1.2.0",
            "_model_name": "LayoutModel",
            "_view_count": null,
            "_view_module": "@jupyter-widgets/base",
            "_view_module_version": "1.2.0",
            "_view_name": "LayoutView",
            "align_content": null,
            "align_items": null,
            "align_self": null,
            "border": null,
            "bottom": null,
            "display": null,
            "flex": null,
            "flex_flow": null,
            "grid_area": null,
            "grid_auto_columns": null,
            "grid_auto_flow": null,
            "grid_auto_rows": null,
            "grid_column": null,
            "grid_gap": null,
            "grid_row": null,
            "grid_template_areas": null,
            "grid_template_columns": null,
            "grid_template_rows": null,
            "height": null,
            "justify_content": null,
            "justify_items": null,
            "left": null,
            "margin": null,
            "max_height": null,
            "max_width": null,
            "min_height": null,
            "min_width": null,
            "object_fit": null,
            "object_position": null,
            "order": null,
            "overflow": null,
            "overflow_x": null,
            "overflow_y": null,
            "padding": null,
            "right": null,
            "top": null,
            "visibility": null,
            "width": null
          }
        },
        "b3b2f3cc1f644db997fcc4c126dd553b": {
          "model_module": "@jupyter-widgets/controls",
          "model_name": "ProgressStyleModel",
          "model_module_version": "1.5.0",
          "state": {
            "_model_module": "@jupyter-widgets/controls",
            "_model_module_version": "1.5.0",
            "_model_name": "ProgressStyleModel",
            "_view_count": null,
            "_view_module": "@jupyter-widgets/base",
            "_view_module_version": "1.2.0",
            "_view_name": "StyleView",
            "bar_color": null,
            "description_width": ""
          }
        },
        "97f061baf9be4a258cec3d0bde6c3417": {
          "model_module": "@jupyter-widgets/base",
          "model_name": "LayoutModel",
          "model_module_version": "1.2.0",
          "state": {
            "_model_module": "@jupyter-widgets/base",
            "_model_module_version": "1.2.0",
            "_model_name": "LayoutModel",
            "_view_count": null,
            "_view_module": "@jupyter-widgets/base",
            "_view_module_version": "1.2.0",
            "_view_name": "LayoutView",
            "align_content": null,
            "align_items": null,
            "align_self": null,
            "border": null,
            "bottom": null,
            "display": null,
            "flex": null,
            "flex_flow": null,
            "grid_area": null,
            "grid_auto_columns": null,
            "grid_auto_flow": null,
            "grid_auto_rows": null,
            "grid_column": null,
            "grid_gap": null,
            "grid_row": null,
            "grid_template_areas": null,
            "grid_template_columns": null,
            "grid_template_rows": null,
            "height": null,
            "justify_content": null,
            "justify_items": null,
            "left": null,
            "margin": null,
            "max_height": null,
            "max_width": null,
            "min_height": null,
            "min_width": null,
            "object_fit": null,
            "object_position": null,
            "order": null,
            "overflow": null,
            "overflow_x": null,
            "overflow_y": null,
            "padding": null,
            "right": null,
            "top": null,
            "visibility": null,
            "width": null
          }
        },
        "56d13a0de5c445169a52608d81402a6c": {
          "model_module": "@jupyter-widgets/controls",
          "model_name": "DescriptionStyleModel",
          "model_module_version": "1.5.0",
          "state": {
            "_model_module": "@jupyter-widgets/controls",
            "_model_module_version": "1.5.0",
            "_model_name": "DescriptionStyleModel",
            "_view_count": null,
            "_view_module": "@jupyter-widgets/base",
            "_view_module_version": "1.2.0",
            "_view_name": "StyleView",
            "description_width": ""
          }
        }
      }
    }
  },
  "nbformat": 4,
  "nbformat_minor": 0
}